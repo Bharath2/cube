{
 "cells": [
  {
   "cell_type": "markdown",
   "metadata": {},
   "source": [
    "## Swing Up and Stabilize the Cube with Traj. Opt. and Qp controller"
   ]
  },
  {
   "cell_type": "code",
   "execution_count": 1,
   "metadata": {},
   "outputs": [],
   "source": [
    "import math\n",
    "import numpy as np\n",
    "import time, random\n",
    "import matplotlib.pyplot as plt\n",
    "%matplotlib inline\n",
    "from IPython.display import HTML\n",
    "from pydrake.math import sin, cos\n",
    "from pydrake.all import *\n",
    "from underactuated import (FindResource, PlanarRigidBodyVisualizer)"
   ]
  },
  {
   "cell_type": "code",
   "execution_count": 2,
   "metadata": {},
   "outputs": [],
   "source": [
    "%reload_ext autoreload\n",
    "%autoreload 2\n",
    "from dynamics_nd import *\n",
    "from visualizer import *\n",
    "from optimization import *\n",
    "from plotting import *"
   ]
  },
  {
   "cell_type": "code",
   "execution_count": 3,
   "metadata": {},
   "outputs": [
    {
     "name": "stdout",
     "output_type": "stream",
     "text": [
      "You can open the visualizer by visiting the following URL:\n",
      "http://127.0.0.1:7000/static/\n"
     ]
    }
   ],
   "source": [
    "vis = MeshcatCubeVisualizer()"
   ]
  },
  {
   "cell_type": "code",
   "execution_count": 4,
   "metadata": {},
   "outputs": [
    {
     "name": "stdout",
     "output_type": "stream",
     "text": [
      "Initial State: (0.0, 0.0, 0.0, 0, 0, 0, 0, 0)\n",
      "Final State: (-0.5, 0.20710678118654757, 0.7853981633974483, 0, 0, 0, 0, 0)\n",
      "Number of decision vars 859\n",
      "SolutionResult.kSolutionFound\n"
     ]
    }
   ],
   "source": [
    "# no cost, just constraints\n",
    "dimension = 2\n",
    "traj, input_traj, force_traj, time_array = swing_up(dimension)"
   ]
  },
  {
   "cell_type": "code",
   "execution_count": 5,
   "metadata": {},
   "outputs": [
    {
     "name": "stderr",
     "output_type": "stream",
     "text": [
      "/usr/local/lib/python2.7/site-packages/ipykernel_launcher.py:5: DeprecationWarning: object of type <type 'numpy.float64'> cannot be safely interpreted as an integer.\n",
      "  \"\"\"\n"
     ]
    },
    {
     "ename": "ValueError",
     "evalue": "fp and xp are not of the same length.",
     "output_type": "error",
     "traceback": [
      "\u001b[0;31m---------------------------------------------------------------------------\u001b[0m",
      "\u001b[0;31mValueError\u001b[0m                                Traceback (most recent call last)",
      "\u001b[0;32m<ipython-input-5-03387ae1c2cd>\u001b[0m in \u001b[0;36m<module>\u001b[0;34m()\u001b[0m\n\u001b[1;32m      7\u001b[0m \u001b[0minterp_traj\u001b[0m \u001b[0;34m=\u001b[0m \u001b[0mnp\u001b[0m\u001b[0;34m.\u001b[0m\u001b[0mempty\u001b[0m\u001b[0;34m(\u001b[0m\u001b[0;34m(\u001b[0m\u001b[0mlen\u001b[0m\u001b[0;34m(\u001b[0m\u001b[0mx_interp\u001b[0m\u001b[0;34m)\u001b[0m\u001b[0;34m,\u001b[0m \u001b[0mlen\u001b[0m\u001b[0;34m(\u001b[0m\u001b[0mtraj\u001b[0m\u001b[0;34m[\u001b[0m\u001b[0;36m0\u001b[0m\u001b[0;34m]\u001b[0m\u001b[0;34m)\u001b[0m\u001b[0;34m)\u001b[0m\u001b[0;34m)\u001b[0m\u001b[0;34m\u001b[0m\u001b[0m\n\u001b[1;32m      8\u001b[0m \u001b[0;32mfor\u001b[0m \u001b[0mi\u001b[0m \u001b[0;32min\u001b[0m \u001b[0mrange\u001b[0m\u001b[0;34m(\u001b[0m\u001b[0mlen\u001b[0m\u001b[0;34m(\u001b[0m\u001b[0mtraj\u001b[0m\u001b[0;34m[\u001b[0m\u001b[0;36m0\u001b[0m\u001b[0;34m]\u001b[0m\u001b[0;34m)\u001b[0m\u001b[0;34m)\u001b[0m\u001b[0;34m:\u001b[0m\u001b[0;34m\u001b[0m\u001b[0m\n\u001b[0;32m----> 9\u001b[0;31m     \u001b[0minterp_traj\u001b[0m\u001b[0;34m[\u001b[0m\u001b[0;34m:\u001b[0m\u001b[0;34m,\u001b[0m\u001b[0mi\u001b[0m\u001b[0;34m]\u001b[0m \u001b[0;34m=\u001b[0m \u001b[0mnp\u001b[0m\u001b[0;34m.\u001b[0m\u001b[0minterp\u001b[0m\u001b[0;34m(\u001b[0m\u001b[0mx_interp\u001b[0m\u001b[0;34m,\u001b[0m \u001b[0mtime_array\u001b[0m\u001b[0;34m,\u001b[0m \u001b[0mtraj\u001b[0m\u001b[0;34m[\u001b[0m\u001b[0;34m:\u001b[0m\u001b[0;34m,\u001b[0m\u001b[0mi\u001b[0m\u001b[0;34m]\u001b[0m\u001b[0;34m)\u001b[0m\u001b[0;34m\u001b[0m\u001b[0m\n\u001b[0m",
      "\u001b[0;32m/usr/local/lib/python2.7/site-packages/numpy/lib/function_base.pyc\u001b[0m in \u001b[0;36minterp\u001b[0;34m(x, xp, fp, left, right, period)\u001b[0m\n\u001b[1;32m   2059\u001b[0m             \u001b[0;32mreturn\u001b[0m \u001b[0minterp_func\u001b[0m\u001b[0;34m(\u001b[0m\u001b[0;34m[\u001b[0m\u001b[0mx\u001b[0m\u001b[0;34m]\u001b[0m\u001b[0;34m,\u001b[0m \u001b[0mxp\u001b[0m\u001b[0;34m,\u001b[0m \u001b[0mfp\u001b[0m\u001b[0;34m,\u001b[0m \u001b[0mleft\u001b[0m\u001b[0;34m,\u001b[0m \u001b[0mright\u001b[0m\u001b[0;34m)\u001b[0m\u001b[0;34m.\u001b[0m\u001b[0mitem\u001b[0m\u001b[0;34m(\u001b[0m\u001b[0;34m)\u001b[0m\u001b[0;34m\u001b[0m\u001b[0m\n\u001b[1;32m   2060\u001b[0m         \u001b[0;32melse\u001b[0m\u001b[0;34m:\u001b[0m\u001b[0;34m\u001b[0m\u001b[0m\n\u001b[0;32m-> 2061\u001b[0;31m             \u001b[0;32mreturn\u001b[0m \u001b[0minterp_func\u001b[0m\u001b[0;34m(\u001b[0m\u001b[0mx\u001b[0m\u001b[0;34m,\u001b[0m \u001b[0mxp\u001b[0m\u001b[0;34m,\u001b[0m \u001b[0mfp\u001b[0m\u001b[0;34m,\u001b[0m \u001b[0mleft\u001b[0m\u001b[0;34m,\u001b[0m \u001b[0mright\u001b[0m\u001b[0;34m)\u001b[0m\u001b[0;34m\u001b[0m\u001b[0m\n\u001b[0m\u001b[1;32m   2062\u001b[0m     \u001b[0;32melse\u001b[0m\u001b[0;34m:\u001b[0m\u001b[0;34m\u001b[0m\u001b[0m\n\u001b[1;32m   2063\u001b[0m         \u001b[0;32mif\u001b[0m \u001b[0mperiod\u001b[0m \u001b[0;34m==\u001b[0m \u001b[0;36m0\u001b[0m\u001b[0;34m:\u001b[0m\u001b[0;34m\u001b[0m\u001b[0m\n",
      "\u001b[0;31mValueError\u001b[0m: fp and xp are not of the same length."
     ]
    }
   ],
   "source": [
    "# linear interpolation\n",
    "steps_per_sec = 60\n",
    "sec = time_array[-1]\n",
    "num_steps = sec*steps_per_sec\n",
    "x_interp = np.linspace(0,sec,num_steps)\n",
    "\n",
    "interp_traj = np.empty((len(x_interp), len(traj[0])))\n",
    "for i in range(len(traj[0])):\n",
    "    interp_traj[:,i] = np.interp(x_interp, time_array, traj[:,i])"
   ]
  },
  {
   "cell_type": "code",
   "execution_count": null,
   "metadata": {},
   "outputs": [],
   "source": [
    "# trajectory found, but remove the aliasing\n",
    "print(\"Time of swing up: {} sec\".format(time_array[-1]))\n",
    "dt = x_interp[1] - x_interp[0]\n",
    "for i in range(len(interp_traj)):\n",
    "    vis.draw_transformation(interp_traj[i,:],dimension)\n",
    "    time.sleep(dt)"
   ]
  },
  {
   "cell_type": "code",
   "execution_count": null,
   "metadata": {
    "scrolled": false
   },
   "outputs": [],
   "source": [
    "plot_states(traj, time_array, dimension)\n",
    "plot_vels(traj, time_array, dimension)\n",
    "input_plot(input_traj, time_array, dimension)\n",
    "ground_force_plot(force_traj, time_array, dimension)"
   ]
  },
  {
   "cell_type": "markdown",
   "metadata": {},
   "source": [
    "### Stabilize at end of trajectory"
   ]
  },
  {
   "cell_type": "code",
   "execution_count": null,
   "metadata": {},
   "outputs": [],
   "source": [
    "# desired position\n",
    "current_state = traj[-2].copy()\n",
    "# x = 0.; y = 0.0; theta = 0.0;\n",
    "# current_state = get_nd_state((x,y,theta,0,0,0,0,0), dimension)\n",
    "vis.draw_transformation(current_state,dimension)\n",
    "x = -0.5; y = .5*(2**.5)-.5; theta = np.pi/4.0;\n",
    "desired_state = get_nd_state((x,y,theta,0,0,0,0,0), dimension)\n",
    "\n",
    "states = []\n",
    "torques = []\n",
    "forces = []\n",
    "times = []\n",
    "\n",
    "sec = 2.0 # number of seconds to simulate for\n",
    "steps_per_sec = 30.0 # discrete steps in a second\n",
    "num_steps = sec*steps_per_sec # total number of steps\n",
    "sec_per_step = sec/num_steps # number of seconds per step\n",
    "for t in np.linspace(0,sec,num_steps):\n",
    "    x, u, f = qp_controller(current_state, desired_state, sec_per_step, dimension)\n",
    "    states.append(x)\n",
    "    torques.append(u)\n",
    "    forces.append(f)\n",
    "    times.append(t)\n",
    "    current_state += get_nd_dynamics(current_state, u, f, dimension)*sec_per_step\n",
    "    vis.draw_transformation(current_state,dimension)\n",
    "    time.sleep(sec_per_step)\n",
    "\n",
    "x_vals = np.asarray(states)\n",
    "u_vals = np.asarray(torques)\n",
    "f_vals = np.asarray(forces)\n",
    "t_vals = np.asarray(times)"
   ]
  },
  {
   "cell_type": "code",
   "execution_count": null,
   "metadata": {},
   "outputs": [],
   "source": [
    "plot_states(x_vals, t_vals, dimension)\n",
    "plot_vels(x_vals, t_vals, dimension)\n",
    "input_plot(u_vals, t_vals, dimension)\n",
    "ground_force_plot(f_vals, t_vals, dimension, \"right\")"
   ]
  },
  {
   "cell_type": "markdown",
   "metadata": {},
   "source": [
    "### Swing up with the PD QP controller"
   ]
  },
  {
   "cell_type": "code",
   "execution_count": null,
   "metadata": {},
   "outputs": [],
   "source": [
    "# desired position\n",
    "current_state = traj[0].copy()\n",
    "# x = 0.; y = 0.0; theta = 0.0;\n",
    "# current_state = get_nd_state((x,y,theta,0,0,0,0,0), dimension)\n",
    "vis.draw_transformation(current_state,dimension)\n",
    "x = -0.5; y = .5*(2**.5)-.5; theta = np.pi/4.0;\n",
    "desired_state = get_nd_state((x,y,theta,0,0,0,0,0), dimension)\n",
    "\n",
    "states = []\n",
    "torques = []\n",
    "forces = []\n",
    "times = []\n",
    "\n",
    "sec = 2.0 # number of seconds to simulate for\n",
    "steps_per_sec = 30.0 # discrete steps in a second\n",
    "num_steps = sec*steps_per_sec # total number of steps\n",
    "sec_per_step = sec/num_steps # number of seconds per step\n",
    "for t in np.linspace(0,sec,num_steps):\n",
    "    x, u, f = qp_controller(current_state, desired_state, sec_per_step, dimension)\n",
    "    states.append(x)\n",
    "    torques.append(u)\n",
    "    forces.append(f)\n",
    "    times.append(t)\n",
    "    current_state += get_nd_dynamics(current_state, u, f, dimension)*sec_per_step\n",
    "    vis.draw_transformation(current_state,dimension)\n",
    "    time.sleep(sec_per_step)\n",
    "\n",
    "x_vals = np.asarray(states)\n",
    "u_vals = np.asarray(torques)\n",
    "f_vals = np.asarray(forces)\n",
    "t_vals = np.asarray(times)"
   ]
  },
  {
   "cell_type": "code",
   "execution_count": null,
   "metadata": {},
   "outputs": [],
   "source": [
    "plot_states(x_vals, t_vals, dimension)\n",
    "plot_vels(x_vals, t_vals, dimension)\n",
    "input_plot(u_vals, t_vals, dimension)\n",
    "ground_force_plot(f_vals, t_vals, dimension, \"right\")"
   ]
  },
  {
   "cell_type": "code",
   "execution_count": null,
   "metadata": {},
   "outputs": [],
   "source": []
  }
 ],
 "metadata": {
  "kernelspec": {
   "display_name": "Python 2",
   "language": "python",
   "name": "python2"
  },
  "language_info": {
   "codemirror_mode": {
    "name": "ipython",
    "version": 2
   },
   "file_extension": ".py",
   "mimetype": "text/x-python",
   "name": "python",
   "nbconvert_exporter": "python",
   "pygments_lexer": "ipython2",
   "version": "2.7.14"
  }
 },
 "nbformat": 4,
 "nbformat_minor": 2
}
