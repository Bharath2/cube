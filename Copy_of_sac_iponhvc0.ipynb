{
  "nbformat": 4,
  "nbformat_minor": 0,
  "metadata": {
    "colab": {
      "name": "Copy of sac-iponhvc0.ipynb",
      "provenance": [],
      "collapsed_sections": [
        "ruTYmH4QGoGX",
        "xyuA3PFnIByt",
        "iMV5rPsoI3Bk",
        "TY1RgZD1JDI2",
        "-1Q4ry9NJReY"
      ],
      "include_colab_link": true
    },
    "kernelspec": {
      "name": "python3",
      "display_name": "Python 3"
    },
    "language_info": {
      "name": "python"
    },
    "accelerator": "GPU"
  },
  "cells": [
    {
      "cell_type": "markdown",
      "metadata": {
        "id": "view-in-github",
        "colab_type": "text"
      },
      "source": [
        "<a href=\"https://colab.research.google.com/github/Bharath2/cube/blob/master/Copy_of_sac_iponhvc0.ipynb\" target=\"_parent\"><img src=\"https://colab.research.google.com/assets/colab-badge.svg\" alt=\"Open In Colab\"/></a>"
      ]
    },
    {
      "cell_type": "code",
      "metadata": {
        "colab": {
          "base_uri": "https://localhost:8080/"
        },
        "id": "gpOM1Hf2Fk1u",
        "outputId": "bd8c04dd-3010-4542-d52d-ae6eb71a63aa"
      },
      "source": [
        "!apt-get install -y xvfb python-opengl x11-utils > /dev/null 2>&1\n",
        "!pip install pyvirtualdisplay > /dev/null 2>&1\n",
        "!pip install mitdeeplearning\n",
        "!pip install recordclass\n",
        "!pip install box2d box2d-py box2d-kengz"
      ],
      "execution_count": null,
      "outputs": [
        {
          "output_type": "stream",
          "text": [
            "Collecting mitdeeplearning\n",
            "\u001b[?25l  Downloading https://files.pythonhosted.org/packages/9d/ad/650eb53c0d9d1213536fe94bc150f89b564ff5ee784bd662272584bb091b/mitdeeplearning-0.2.0.tar.gz (2.1MB)\n",
            "\u001b[K     |████████████████████████████████| 2.1MB 7.7MB/s \n",
            "\u001b[?25hRequirement already satisfied: numpy in /usr/local/lib/python3.7/dist-packages (from mitdeeplearning) (1.19.5)\n",
            "Requirement already satisfied: regex in /usr/local/lib/python3.7/dist-packages (from mitdeeplearning) (2019.12.20)\n",
            "Requirement already satisfied: tqdm in /usr/local/lib/python3.7/dist-packages (from mitdeeplearning) (4.41.1)\n",
            "Requirement already satisfied: gym in /usr/local/lib/python3.7/dist-packages (from mitdeeplearning) (0.17.3)\n",
            "Requirement already satisfied: cloudpickle<1.7.0,>=1.2.0 in /usr/local/lib/python3.7/dist-packages (from gym->mitdeeplearning) (1.3.0)\n",
            "Requirement already satisfied: pyglet<=1.5.0,>=1.4.0 in /usr/local/lib/python3.7/dist-packages (from gym->mitdeeplearning) (1.5.0)\n",
            "Requirement already satisfied: scipy in /usr/local/lib/python3.7/dist-packages (from gym->mitdeeplearning) (1.4.1)\n",
            "Requirement already satisfied: future in /usr/local/lib/python3.7/dist-packages (from pyglet<=1.5.0,>=1.4.0->gym->mitdeeplearning) (0.16.0)\n",
            "Building wheels for collected packages: mitdeeplearning\n",
            "  Building wheel for mitdeeplearning (setup.py) ... \u001b[?25l\u001b[?25hdone\n",
            "  Created wheel for mitdeeplearning: filename=mitdeeplearning-0.2.0-cp37-none-any.whl size=2115441 sha256=222fca23ca69e19139f0a0e96782428f5b3895b07f7266bd9a296d68f0cccd52\n",
            "  Stored in directory: /root/.cache/pip/wheels/af/dc/2a/5c3633135e7e4ef4fd31463cfa1942cb1bae7486ab94e7a2ad\n",
            "Successfully built mitdeeplearning\n",
            "Installing collected packages: mitdeeplearning\n",
            "Successfully installed mitdeeplearning-0.2.0\n",
            "Collecting recordclass\n",
            "\u001b[?25l  Downloading https://files.pythonhosted.org/packages/0f/8c/ca5a806a523c554cc89ba648d26ddafe7be27b1a711819bed4f74999bf8a/recordclass-0.14.3.tar.gz (156kB)\n",
            "\u001b[K     |████████████████████████████████| 163kB 9.2MB/s \n",
            "\u001b[?25hBuilding wheels for collected packages: recordclass\n",
            "  Building wheel for recordclass (setup.py) ... \u001b[?25l\u001b[?25hdone\n",
            "  Created wheel for recordclass: filename=recordclass-0.14.3-cp37-cp37m-linux_x86_64.whl size=344694 sha256=343bfa3c3d9240eca677450b559616d3693c07225b7873825b7f7c01425c6445\n",
            "  Stored in directory: /root/.cache/pip/wheels/c2/fa/9f/abec56a7c5d6843a053f2aa53166c556be33c169438c57e483\n",
            "Successfully built recordclass\n",
            "Installing collected packages: recordclass\n",
            "Successfully installed recordclass-0.14.3\n",
            "Collecting box2d\n",
            "\u001b[?25l  Downloading https://files.pythonhosted.org/packages/22/1b/ce95bb5d1807d4d85af8d0c90050add1a77124459f8097791f0c39136d53/Box2D-2.3.10-cp37-cp37m-manylinux1_x86_64.whl (1.3MB)\n",
            "\u001b[K     |████████████████████████████████| 1.3MB 8.2MB/s \n",
            "\u001b[?25hCollecting box2d-py\n",
            "\u001b[?25l  Downloading https://files.pythonhosted.org/packages/87/34/da5393985c3ff9a76351df6127c275dcb5749ae0abbe8d5210f06d97405d/box2d_py-2.3.8-cp37-cp37m-manylinux1_x86_64.whl (448kB)\n",
            "\u001b[K     |████████████████████████████████| 450kB 48.5MB/s \n",
            "\u001b[?25hCollecting box2d-kengz\n",
            "\u001b[?25l  Downloading https://files.pythonhosted.org/packages/81/20/51d6c0c87f7642efb709c518fb0ca8e5eab068259588552c41da5926ae27/Box2D-kengz-2.3.3.tar.gz (425kB)\n",
            "\u001b[K     |████████████████████████████████| 430kB 44.0MB/s \n",
            "\u001b[?25hBuilding wheels for collected packages: box2d-kengz\n",
            "  Building wheel for box2d-kengz (setup.py) ... \u001b[?25lerror\n",
            "\u001b[31m  ERROR: Failed building wheel for box2d-kengz\u001b[0m\n",
            "\u001b[?25h  Running setup.py clean for box2d-kengz\n",
            "Failed to build box2d-kengz\n",
            "Installing collected packages: box2d, box2d-py, box2d-kengz\n",
            "    Running setup.py install for box2d-kengz ... \u001b[?25l\u001b[?25herror\n",
            "\u001b[31mERROR: Command errored out with exit status 1: /usr/bin/python3 -u -c 'import sys, setuptools, tokenize; sys.argv[0] = '\"'\"'/tmp/pip-install-b7web3s8/box2d-kengz/setup.py'\"'\"'; __file__='\"'\"'/tmp/pip-install-b7web3s8/box2d-kengz/setup.py'\"'\"';f=getattr(tokenize, '\"'\"'open'\"'\"', open)(__file__);code=f.read().replace('\"'\"'\\r\\n'\"'\"', '\"'\"'\\n'\"'\"');f.close();exec(compile(code, __file__, '\"'\"'exec'\"'\"'))' install --record /tmp/pip-record-qf8elxdj/install-record.txt --single-version-externally-managed --compile Check the logs for full command output.\u001b[0m\n"
          ],
          "name": "stdout"
        }
      ]
    },
    {
      "cell_type": "code",
      "metadata": {
        "id": "OH6EK2CsF-Wa"
      },
      "source": [
        "import time, gym\n",
        "from gym import spaces\n",
        "import numpy as np\n",
        "from tqdm import tqdm\n",
        "import matplotlib.pyplot as plt\n",
        "from itertools import count\n",
        "from scipy.integrate import solve_ivp"
      ],
      "execution_count": null,
      "outputs": []
    },
    {
      "cell_type": "code",
      "metadata": {
        "id": "jMLBg1hqGEIw"
      },
      "source": [
        "from pyvirtualdisplay import Display\n",
        "from mitdeeplearning.lab3 import play_video\n",
        "from gym.wrappers.monitoring.video_recorder import VideoRecorder\n",
        "\n",
        "def save_video(env, model, name):\n",
        "    display = Display(visible=0, size=(400, 300))\n",
        "    display.start()\n",
        "\n",
        "    filename = name + \".mp4\"\n",
        "    video_recorder = VideoRecorder(env, filename, enabled=True)\n",
        "    \n",
        "    counter = 0\n",
        "    action = [0]\n",
        "    done = 0\n",
        "    obs = env.reset()\n",
        "    while not done:\n",
        "        env.render()\n",
        "        video_recorder.capture_frame() \n",
        "        action = model(obs)\n",
        "        obs, reward, done, info = env.step(action)\n",
        "        counter += 1\n",
        "\n",
        "    video_recorder.close()\n",
        "    video_recorder.enabled = False\n",
        "    print(\"Successfully saved {} frames into {}!\".format(counter, filename))\n",
        "    return filename"
      ],
      "execution_count": null,
      "outputs": []
    },
    {
      "cell_type": "markdown",
      "metadata": {
        "id": "ruTYmH4QGoGX"
      },
      "source": [
        "# **Environment**"
      ]
    },
    {
      "cell_type": "code",
      "metadata": {
        "id": "e_x8jD2Cas_Z"
      },
      "source": [
        "def angle_clip(x):\n",
        "    return (((x+np.pi) % (2*np.pi)) - np.pi)"
      ],
      "execution_count": null,
      "outputs": []
    },
    {
      "cell_type": "code",
      "metadata": {
        "id": "qc0VaxCjGlHE"
      },
      "source": [
        "class IPHVC(gym.Env):\n",
        "    metadata = {\n",
        "        'render.modes': ['human','rgb_array'],\n",
        "        'video.frames_per_second': 30\n",
        "    }\n",
        "\n",
        "    def __init__(self):\n",
        "        super(IPHVC,self).__init__()\n",
        "        self.viewer = None\n",
        "        self.counter = 0\n",
        "        self.maxsteps = 1000 # need more time than 500\n",
        "\n",
        "        self.mp = 0.25\n",
        "        self.Jp = 0.0075\n",
        "        self.lp = 1.0 # eases instead of 0.6; redo equations of motion with lpc later\n",
        "        self.mc = 10\n",
        "        self.g = 9.81\n",
        "        self.w = 10.25*9.81\n",
        "\n",
        "        self.xmax = 2 # more realistic instead of 0.3\n",
        "        self.ymax = 1\n",
        "\n",
        "        self.fscale = np.array([40, 90])\n",
        "        self.state = np.array([0, 0, 0, 0, 0, 0])\n",
        "        self.action_space = spaces.Box(low=-1*np.ones((2,)), high=1*np.ones((2,)), dtype=np.float32)\n",
        "        self.observation_space = spaces.Box(low=-100*np.ones((6,)),high=100*np.ones((6,)),dtype=np.float32)\n",
        "\n",
        "    def reset(self):\n",
        "        self.counter = 0\n",
        "        self.state = np.array([np.pi+np.random.normal(0, 0.1), 0, 0, #\n",
        "                                     np.random.normal(0, 0.1), 0, 0])\n",
        "        self.state[0] = angle_clip(self.state[0])\n",
        "        return self.state\n",
        "    \n",
        "    def dynamics(self, q, qd):\n",
        "        mp, Jp, lp, mc, g = self.mp, self.Jp, self.lp, self.mc, self.g\n",
        "\n",
        "        M = np.array([[Jp + lp**2*mp/4,  -mp*lp*np.cos(q)/2, -mp * lp * np.sin(q)/2],\n",
        "                      [-mp*lp*np.cos(q)/2, mc + mp,    0],\n",
        "                      [-mp*lp*np.sin(q)/2,    0,    mc + mp]])\n",
        "        \n",
        "        C = np.array([[0],\n",
        "                      [mp * lp * qd**2 * np.sin(q)/2],\n",
        "                      [-mp * lp * qd**2 * np.cos(q)/2]])\n",
        "        \n",
        "        G = np.array([[-mp*g*lp*np.sin(q)/2],\n",
        "                      [0],\n",
        "                      [mc*g + mp*g]])\n",
        "        \n",
        "        return M, C, G\n",
        "\n",
        "\n",
        "    def state_dot(self, t, state, tau):\n",
        "        q, xc, yc, qd, xcd, ycd = state\n",
        "\n",
        "        M, C, G = self.dynamics(q, qd)\n",
        "\n",
        "        Minv = np.linalg.inv(M)\n",
        "\n",
        "        acc = Minv@(tau - C - G)\n",
        "\n",
        "        state_dot = np.r_[qd, xcd, ycd, acc[0], acc[1], acc[2]]\n",
        "\n",
        "        return state_dot\n",
        "\n",
        "\n",
        "    def step(self, action):\n",
        "        self.counter += 1\n",
        "\n",
        "        tau = np.r_[0, self.fscale*action]\n",
        "        tau = (tau + np.array([0, 0, self.w])).reshape((3,1))\n",
        "\n",
        "        self.state = solve_ivp(self.state_dot, (0, 0.01), self.state, args = (tau,), rtol=1e-8, atol=1e-8).y[:,-1]\n",
        "\n",
        "        self.state[0] = angle_clip(self.state[0])\n",
        "   \n",
        "        reward = 0.1*(np.pi - abs(self.state[0]))**2\n",
        "\n",
        "        if abs(self.state[1]) > self.xmax or abs(self.state[2]) > self.ymax:\n",
        "            reward, done, info = -0.1, True, {'Terminal': 'Limit'}\n",
        "        elif self.counter >= self.maxsteps:\n",
        "            done, info = True, {'Terminal': 'Timeout'}\n",
        "        else:\n",
        "            done, info = False, {'Terminal': ''}\n",
        "\n",
        "\n",
        "        return self.state, reward, done, info\n",
        "\n",
        "\n",
        "    def render(self, mode='human'):\n",
        "        if self.viewer is None:\n",
        "            from gym.envs.classic_control import rendering\n",
        "            self.viewer = rendering.Viewer(400,400)\n",
        "            self.viewer.set_bounds(-1.0,1.0,-1.0,1.0)\n",
        "\n",
        "            gnd = rendering.make_polygon([(-0.1-self.xmax,-0.1-self.ymax),\n",
        "                                          ( 0.1+self.xmax,-0.1-self.ymax),\n",
        "                                          ( 0.1+self.xmax, 0.1+self.ymax),\n",
        "                                          (-0.1-self.xmax, 0.1+self.ymax)],filled=False)\n",
        "            gnd.set_color(0.5, 0.5, 0.5)\n",
        "\n",
        "            cart = rendering.make_polygon([(-0.1,-0.1),(0.1,-0.1),(0.1,0.1),(-0.1,0.1)],filled=True)\n",
        "            cart.set_color(1, 0.4, 0.4)\n",
        "            self.cartt = rendering.Transform(translation=(0,0))\n",
        "            cart.add_attr(self.cartt)\n",
        "\n",
        "            pend = rendering.make_capsule(0.6, 0.02)\n",
        "            pend.set_color(0.3, 0.3, 0.8)\n",
        "            self.pendt = rendering.Transform(rotation=self.state[0]+np.pi/2)\n",
        "            pend.add_attr(self.pendt)\n",
        "\n",
        "            self.viewer.add_geom(gnd)\n",
        "            self.viewer.add_geom(cart)\n",
        "            self.viewer.add_geom(pend)\n",
        "        self.cartt.set_translation(self.state[1],self.state[2])\n",
        "        self.pendt.set_translation(self.state[1],self.state[2])\n",
        "        self.pendt.set_rotation(self.state[0]+np.pi/2)\n",
        "        return self.viewer.render(return_rgb_array=mode == 'rgb_array')\n",
        "\n",
        "    def close(self):\n",
        "        if self.viewer:\n",
        "            self.viewer.close()\n",
        "            self.viewer = None"
      ],
      "execution_count": null,
      "outputs": []
    },
    {
      "cell_type": "code",
      "metadata": {
        "colab": {
          "base_uri": "https://localhost:8080/",
          "height": 472
        },
        "id": "oeH9E1bmGN2p",
        "outputId": "956ea23a-fa11-4a25-d823-03bf4a97b7a6"
      },
      "source": [
        "#env = gym.make('BipedalWalker-v3')\n",
        "env = IPHVC()\n",
        "env.reset()\n",
        "\n",
        "save_video(env, lambda x: [0]*4, 'a')\n",
        "play_video('a.mp4')"
      ],
      "execution_count": null,
      "outputs": [
        {
          "output_type": "stream",
          "text": [
            "/usr/local/lib/python3.7/dist-packages/gym/logger.py:30: UserWarning: \u001b[33mWARN: Box bound precision lowered by casting to float32\u001b[0m\n",
            "  warnings.warn(colorize('%s: %s'%('WARN', msg % args), 'yellow'))\n"
          ],
          "name": "stderr"
        },
        {
          "output_type": "stream",
          "text": [
            "Successfully saved 600 frames into a.mp4!\n"
          ],
          "name": "stdout"
        },
        {
          "output_type": "execute_result",
          "data": {
            "text/html": [
              "\n",
              "        <video controls >\n",
              "            <source src=\"data:video/mp4;base64,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\" type=\"video/mp4\" />\n",
              "        </video>"
            ],
            "text/plain": [
              "<IPython.core.display.HTML object>"
            ]
          },
          "metadata": {
            "tags": []
          },
          "execution_count": 5
        }
      ]
    },
    {
      "cell_type": "code",
      "metadata": {
        "id": "lVBnNAYRH-Oa"
      },
      "source": [
        "state_dim = 6\n",
        "action_dim = 2"
      ],
      "execution_count": null,
      "outputs": []
    },
    {
      "cell_type": "markdown",
      "metadata": {
        "id": "xyuA3PFnIByt"
      },
      "source": [
        "# **Import Torch**"
      ]
    },
    {
      "cell_type": "code",
      "metadata": {
        "id": "avKd9SViIHIq"
      },
      "source": [
        "import torch\n",
        "import torch.nn as nn\n",
        "import torch.optim as optim\n",
        "import torch.nn.functional as F\n",
        "from torch.distributions.normal import Normal\n",
        "from torch.nn.utils import clip_grad_value_\n",
        "\n",
        "\n",
        "# if gpu is to be used\n",
        "if torch.cuda.is_available():\n",
        "  device = torch.device(\"cuda\")\n",
        "  torch.set_default_tensor_type(torch.cuda.FloatTensor)\n",
        "else:\n",
        "  device = torch.device(\"cpu\")\n",
        "  torch.set_default_tensor_type(torch.FloatTensor)"
      ],
      "execution_count": null,
      "outputs": []
    },
    {
      "cell_type": "markdown",
      "metadata": {
        "id": "u441CgBYIQG7"
      },
      "source": [
        "# Training Utils"
      ]
    },
    {
      "cell_type": "code",
      "metadata": {
        "id": "kfK7cq5VIT1K"
      },
      "source": [
        "def optimize(model, optimizer, loss, clip_value = 1):\n",
        "    optimizer.zero_grad()\n",
        "    loss.backward()\n",
        "    clip_grad_value_(model.parameters(), clip_value)\n",
        "    optimizer.step()"
      ],
      "execution_count": null,
      "outputs": []
    },
    {
      "cell_type": "code",
      "metadata": {
        "id": "IPI4llqUIXX3"
      },
      "source": [
        "def soft_update(target, source, tau):\n",
        "\tfor a, b in zip(target.parameters(), source.parameters()):\n",
        "\t\ta.data.copy_(a.data * (1.0 - tau) + b.data * tau)"
      ],
      "execution_count": null,
      "outputs": []
    },
    {
      "cell_type": "markdown",
      "metadata": {
        "id": "misgcpa0IsX7"
      },
      "source": [
        "# Util to Plot Reward"
      ]
    },
    {
      "cell_type": "code",
      "metadata": {
        "id": "9AAh0Sd9IvOC"
      },
      "source": [
        "from IPython import display as ipythondisplay\n",
        "\n",
        "tic = time.time()\n",
        "def plot(reward):\n",
        "    global tic\n",
        "    if time.time() - tic > 2:\n",
        "\n",
        "      plt.cla()\n",
        "      plt.grid(True)\n",
        "      fig = plt.gcf()\n",
        "      fig.set_size_inches(9,6)\n",
        "      plt.plot(reward)\n",
        "      plt.xlabel('episodes')\n",
        "      plt.ylabel('rewards')\n",
        "\n",
        "      ipythondisplay.clear_output(wait=True)\n",
        "      ipythondisplay.display(plt.gcf())\n",
        "      tic = time.time()"
      ],
      "execution_count": null,
      "outputs": []
    },
    {
      "cell_type": "markdown",
      "metadata": {
        "id": "iMV5rPsoI3Bk"
      },
      "source": [
        "# **Replay Memory**"
      ]
    },
    {
      "cell_type": "code",
      "metadata": {
        "id": "csbYwk0SI7rJ"
      },
      "source": [
        "from recordclass import recordclass\n",
        "\n",
        "Transitions = recordclass('Transitions', ('states', 'actions', 'next_states', 'rewards', 'dones'))\n",
        "\n",
        "class ReplayMemory():\n",
        "    def __init__(self, capacity = 1000, state_dim = 6, action_dim = 2):\n",
        "      \n",
        "        self.length = 0\n",
        "        self.capacity = capacity\n",
        "\n",
        "        self.states = np.zeros((capacity, state_dim))\n",
        "        self.actions = np.zeros((capacity, action_dim))\n",
        "        self.next_states = np.zeros((capacity, state_dim))\n",
        "        self.rewards = np.zeros((capacity, 1))\n",
        "        self.dones = np.zeros((capacity, 1))\n",
        "      \n",
        "    def add_transition(self, *args):\n",
        "        index = self.length % self.capacity\n",
        "\n",
        "        self.states[index] = args[0]\n",
        "        self.actions[index] = args[1]\n",
        "        self.next_states[index] = args[2]\n",
        "        self.rewards[index] = args[3]\n",
        "        self.dones[index] = args[4]\n",
        "\n",
        "        self.length += 1\n",
        "\n",
        "    def sample(self, batch_size):\n",
        "\n",
        "        maxind = min(self.length, self.capacity)\n",
        "        inds = np.random.choice(maxind, batch_size)\n",
        "\n",
        "        batch = Transitions(self.states[inds],\n",
        "                            self.actions[inds],\n",
        "                            self.next_states[inds],\n",
        "                            self.rewards[inds],\n",
        "                            self.dones[inds])\n",
        "        \n",
        "        for i in range(5):\n",
        "          batch[i] = torch.tensor(batch[i], dtype=torch.float)\n",
        "\n",
        "        return batch\n",
        "    \n",
        "    def clear(self): \n",
        "      self.length = 0\n",
        "        \n",
        "    def __len__(self):\n",
        "      return min(self.length, self.capacity)"
      ],
      "execution_count": null,
      "outputs": []
    },
    {
      "cell_type": "markdown",
      "metadata": {
        "id": "TY1RgZD1JDI2"
      },
      "source": [
        "# **Q-value Network**"
      ]
    },
    {
      "cell_type": "code",
      "metadata": {
        "id": "tyOnoa0eJFqx"
      },
      "source": [
        "class DQN(nn.Module):\n",
        "\n",
        "    def __init__(self, state_dim = 6, action_dim = 2):\n",
        "        super(DQN, self).__init__()\n",
        "        self.l11 = nn.Linear(state_dim, 32)\n",
        "        self.l12 = nn.Linear(action_dim, 8)\n",
        "\n",
        "        self.l2 = nn.Linear(40, 128)\n",
        "        self.l3 = nn.Linear(128, 256)\n",
        "\n",
        "        self.last = nn.Linear(256, 1)\n",
        "        self.last.weight.data.uniform_(-0.05,0.05)\n",
        "        self.last.bias.data.fill_(0.01)\n",
        "\n",
        "    def forward(self, states, actions):\n",
        "        x = torch.cat((self.l11(states), self.l12(actions)),1)\n",
        "        x = F.silu(x)\n",
        "        x = F.silu(self.l2(x))\n",
        "        x = F.silu(self.l3(x))\n",
        "        x = self.last(x)\n",
        "        return x"
      ],
      "execution_count": null,
      "outputs": []
    },
    {
      "cell_type": "markdown",
      "metadata": {
        "id": "-1Q4ry9NJReY"
      },
      "source": [
        "# **Double Q-Network Critic**"
      ]
    },
    {
      "cell_type": "code",
      "metadata": {
        "id": "hs7le9zNJX7D"
      },
      "source": [
        "class Critic(nn.Module):\n",
        "  def __init__(self, state_dim = 6, action_dim = 2):\n",
        "    super(Critic, self).__init__()\n",
        "    self.q1 = DQN(state_dim, action_dim)\n",
        "    self.q2 = DQN(state_dim, action_dim)\n",
        "  \n",
        "  def predict(self, states, actions):\n",
        "    q1 = self.q1(states, actions)\n",
        "    q2 = self.q2(states, actions)\n",
        "    return q1, q2\n",
        "  \n",
        "  def forward(self, states, actions):\n",
        "    q1, q2 = self.predict(states, actions)\n",
        "    return torch.min(q1, q2)\n",
        "  \n",
        "  def calc_loss(self, states, actions, expected_critic_values):\n",
        "    q1, q2 = self.predict(states, actions)\n",
        "    loss1 = F.smooth_l1_loss(expected_critic_values, q1)\n",
        "    loss2 = F.smooth_l1_loss(expected_critic_values, q2)\n",
        "    return loss1 + loss2\n",
        "  \n",
        "  def requires_grad(self, boolean = True):\n",
        "    for param in self.parameters():\n",
        "        param.requires_grad = boolean"
      ],
      "execution_count": null,
      "outputs": []
    },
    {
      "cell_type": "markdown",
      "metadata": {
        "id": "AwN4ct3sJp46"
      },
      "source": [
        "# **Policy Network**"
      ]
    },
    {
      "cell_type": "code",
      "metadata": {
        "id": "EAgWWtb9Jtm7"
      },
      "source": [
        "class Policy(nn.Module):\n",
        "\n",
        "    def __init__(self, state_dim = 6, action_dim = 2):\n",
        "        super(Policy, self).__init__()\n",
        "\n",
        "        self.l1 = nn.Linear(state_dim, 64)\n",
        "        self.l2 = nn.Linear(64, 128)\n",
        "        self.l3 = nn.Linear(128, 256)\n",
        "\n",
        "        self.mean_layer = nn.Linear(256, action_dim)\n",
        "        self.mean_layer.weight.data.uniform_(-0.01,0.01)\n",
        "        self.mean_layer.bias.data.fill_(0.01)\n",
        "\n",
        "        self.log_std = nn.Linear(256, action_dim)\n",
        "        self.log_std.weight.data.uniform_(-0.5,0.5)\n",
        "        self.log_std.bias.data.fill_(0.1)\n",
        "\n",
        "\n",
        "    def forward(self, states):\n",
        "\n",
        "        x = F.silu(self.l1(states))\n",
        "        x = F.silu(self.l2(x))\n",
        "        x = F.silu(self.l3(x))\n",
        "\n",
        "        mean = self.mean_layer(x)\n",
        "        std = torch.exp(self.log_std(x).clamp(-20, 2))\n",
        "\n",
        "        return Normal(mean, std)\n",
        "\n",
        "    def sample(self, states):\n",
        "\n",
        "        dist = self.forward(states)\n",
        "        samples = dist.rsample()\n",
        "        actions = torch.tanh(samples)\n",
        "        log_probs = dist.log_prob(samples) - torch.log(1 - actions**2 + 1e-8)\n",
        "        \n",
        "        return actions, log_probs.mean(axis = 1)\n",
        "\n",
        "    def choose_action(self, state, training = True):\n",
        "        \n",
        "        with torch.no_grad(): \n",
        "          state = torch.tensor(state, dtype = torch.float).unsqueeze(0)\n",
        "          dist = self.forward(state)\n",
        "          sample = dist.sample() if training else dist.mean\n",
        "          action = torch.tanh(sample).squeeze(0)\n",
        "\n",
        "        return np.round(action.cpu().numpy(), 5)"
      ],
      "execution_count": null,
      "outputs": []
    },
    {
      "cell_type": "markdown",
      "metadata": {
        "id": "lIMY5aR1KBEL"
      },
      "source": [
        "# **Initialize**"
      ]
    },
    {
      "cell_type": "code",
      "metadata": {
        "id": "XXffKHhsJN3n"
      },
      "source": [
        "action_lim = np.array([1, 1])"
      ],
      "execution_count": null,
      "outputs": []
    },
    {
      "cell_type": "code",
      "metadata": {
        "colab": {
          "base_uri": "https://localhost:8080/"
        },
        "id": "lBjcbNTFKEPW",
        "outputId": "63b24b3c-f82f-4cad-e233-55b1a971a016"
      },
      "source": [
        "gamma = 0.99   # discount factor\n",
        "alpha = 0.12   # entropy reward coeff\n",
        "\n",
        "actor = Policy().to(device)\n",
        "critic = Critic().to(device)\n",
        "\n",
        "target_critic = Critic().to(device)\n",
        "target_critic.load_state_dict(critic.state_dict())"
      ],
      "execution_count": null,
      "outputs": [
        {
          "output_type": "execute_result",
          "data": {
            "text/plain": [
              "<All keys matched successfully>"
            ]
          },
          "metadata": {
            "tags": []
          },
          "execution_count": 26
        }
      ]
    },
    {
      "cell_type": "code",
      "metadata": {
        "id": "5dHGLEZmKJm8"
      },
      "source": [
        "actor_optimizer  = optim.Adam(actor.parameters(), 1e-3)\n",
        "critic_optimizer = optim.Adam(critic.parameters(), 1e-3)"
      ],
      "execution_count": null,
      "outputs": []
    },
    {
      "cell_type": "code",
      "metadata": {
        "id": "Zce1ivF2KKei"
      },
      "source": [
        "memory = ReplayMemory(300000)"
      ],
      "execution_count": null,
      "outputs": []
    },
    {
      "cell_type": "code",
      "metadata": {
        "id": "GxElGlNuKm4I"
      },
      "source": [
        "def save(name):\n",
        "  torch.save({\n",
        "            'actor': actor.state_dict(),\n",
        "            'critic': target_critic.state_dict(),\n",
        "            'actor_optimizer': actor_optimizer.state_dict(),\n",
        "            'critic_optimizer': critic_optimizer.state_dict(),\n",
        "            }, name)"
      ],
      "execution_count": null,
      "outputs": []
    },
    {
      "cell_type": "code",
      "metadata": {
        "id": "S1Mje7QZY4F8"
      },
      "source": [
        "def load(name, device):\n",
        "  state = torch.load(name, map_location = device)\n",
        "\n",
        "  actor.load_state_dict(state['actor'])\n",
        "  critic.load_state_dict(state['critic'])\n",
        "  actor_optimizer.load_state_dict(state['actor_optimizer'])\n",
        "  critic_optimizer.load_state_dict(state['critic_optimizer'])\n",
        "\n",
        "  target_critic.load_state_dict(critic.state_dict())"
      ],
      "execution_count": null,
      "outputs": []
    },
    {
      "cell_type": "markdown",
      "metadata": {
        "id": "EyyddKl6Kpcv"
      },
      "source": [
        "# **Single training step**"
      ]
    },
    {
      "cell_type": "code",
      "metadata": {
        "id": "3ibPDGzCKs_H"
      },
      "source": [
        "def train_step(batch_size = 64):\n",
        "\n",
        "    batch = memory.sample(batch_size)\n",
        "\n",
        "  #---------------------critic training----------------------------------\n",
        "    with torch.no_grad(): \n",
        "      next_actions, log_probs = actor.sample(batch.next_states)\n",
        "      next_critic_values = target_critic(batch.next_states, next_actions)\n",
        "      expected_critic_values = batch.rewards + (1 - batch.dones)*gamma*(next_critic_values - alpha*log_probs)\n",
        "\n",
        "    critic_loss = critic.calc_loss(batch.states, batch.actions, expected_critic_values)\n",
        "\n",
        "    optimize(critic, critic_optimizer, critic_loss)\n",
        "  #---------------------------------------------------------------------\n",
        "\n",
        "\n",
        "   #---------------------actor training----------------------------------\n",
        "    critic.requires_grad(False)\n",
        "\n",
        "    actions, log_probs = actor.sample(batch.states)\n",
        "    critic_value = critic(batch.states, actions)\n",
        "    actor_loss = -torch.mean(critic_value - alpha*log_probs)\n",
        "\n",
        "    optimize(actor, actor_optimizer, actor_loss)\n",
        "\n",
        "    critic.requires_grad(True)\n",
        "  #-----------------------------------------------------------------------\n",
        "\n",
        "\n",
        "  #----------------soft update target critic--------------------------------\n",
        "    soft_update(target_critic, critic, 0.005)\n",
        "  #-------------------------------------------------------------------------"
      ],
      "execution_count": null,
      "outputs": []
    },
    {
      "cell_type": "code",
      "metadata": {
        "id": "wSCy_RXaK3NF"
      },
      "source": [
        "reward_list = []\n",
        "avg_rewards = []"
      ],
      "execution_count": null,
      "outputs": []
    },
    {
      "cell_type": "markdown",
      "metadata": {
        "id": "H7P1gBitK4fH"
      },
      "source": [
        "# **Training**"
      ]
    },
    {
      "cell_type": "code",
      "metadata": {
        "colab": {
          "base_uri": "https://localhost:8080/"
        },
        "id": "p7MZyK1fu-FF",
        "outputId": "ada853f1-5306-458a-d1dc-fa94f1b957b8"
      },
      "source": [
        "len(memory)"
      ],
      "execution_count": null,
      "outputs": [
        {
          "output_type": "execute_result",
          "data": {
            "text/plain": [
              "0"
            ]
          },
          "metadata": {
            "tags": []
          },
          "execution_count": 33
        }
      ]
    },
    {
      "cell_type": "code",
      "metadata": {
        "colab": {
          "base_uri": "https://localhost:8080/"
        },
        "id": "BtjDbH_YuLIz",
        "outputId": "56030d42-0dc3-457b-d113-5afb750ac0ce"
      },
      "source": [
        "env = IPHVC()\n",
        "\n",
        "while len(memory) < 5000:\n",
        "  state = env.reset()\n",
        "  done = 0\n",
        "  while not done:\n",
        "    action = env.action_space.sample()\n",
        "    next_state, reward, done, info = env.step(action)\n",
        "    memory.add_transition(state, action, next_state, reward, done)\n",
        "    \n",
        "    # train_step()"
      ],
      "execution_count": null,
      "outputs": [
        {
          "output_type": "stream",
          "text": [
            "/usr/local/lib/python3.7/dist-packages/gym/logger.py:30: UserWarning: \u001b[33mWARN: Box bound precision lowered by casting to float32\u001b[0m\n",
            "  warnings.warn(colorize('%s: %s'%('WARN', msg % args), 'yellow'))\n"
          ],
          "name": "stderr"
        }
      ]
    },
    {
      "cell_type": "code",
      "metadata": {
        "colab": {
          "base_uri": "https://localhost:8080/",
          "height": 405
        },
        "id": "DNjEaJ9JK7ld",
        "outputId": "9d2dfe3c-c2e5-4951-a78f-7879b8ff4b95"
      },
      "source": [
        "for i_episode in tqdm(range(2000)):\n",
        "\n",
        "  state = env.reset()\n",
        "  total_reward = 0\n",
        "  done = 0\n",
        "  steps = 0\n",
        "\n",
        "  while not done:\n",
        "\n",
        "    action = action_lim*actor.choose_action(state)\n",
        "    # if np.random.uniform() < 0.1:\n",
        "    #   action = env.action_space.sample()\n",
        "    next_state, reward, done, info = env.step(action)\n",
        "    memory.add_transition(state, action, next_state, reward, done)\n",
        "\n",
        "    total_reward += reward\n",
        "    state = next_state\n",
        "    steps += 1\n",
        "  \n",
        "  for _ in range(200):\n",
        "    train_step()\n",
        "\n",
        "  reward_list.append(total_reward)\n",
        "  avg_rewards.append(np.mean(reward_list[-50:])) \n",
        "\n",
        "  plot(avg_rewards)"
      ],
      "execution_count": null,
      "outputs": [
        {
          "output_type": "display_data",
          "data": {
            "image/png": "[encoded data removed]",
            "text/plain": [
              "<Figure size 648x432 with 1 Axes>"
            ]
          },
          "metadata": {
            "tags": []
          }
        },
        {
          "output_type": "stream",
          "text": [
            "\r 16%|█▌        | 315/2000 [18:53<1:47:52,  3.84s/it]"
          ],
          "name": "stderr"
        }
      ]
    },
    {
      "cell_type": "code",
      "metadata": {
        "id": "SMYnGihfM2Kr"
      },
      "source": [
        "save('best')"
      ],
      "execution_count": null,
      "outputs": []
    },
    {
      "cell_type": "code",
      "metadata": {
        "id": "hVRTWf41Y2Zd"
      },
      "source": [
        "load('best', device)"
      ],
      "execution_count": null,
      "outputs": []
    },
    {
      "cell_type": "code",
      "metadata": {
        "id": "vPmBaZu-LSAa"
      },
      "source": [
        "policy = lambda x: action_lim * actor.choose_action(x, False)"
      ],
      "execution_count": null,
      "outputs": []
    },
    {
      "cell_type": "code",
      "metadata": {
        "id": "DVTMqYQpI4il"
      },
      "source": [
        "env.reset()\n",
        "\n",
        "save_video(env, policy, 'a')\n",
        "play_video('a.mp4')"
      ],
      "execution_count": null,
      "outputs": []
    },
    {
      "cell_type": "code",
      "metadata": {
        "id": "dCSj67s2NGBG"
      },
      "source": [
        ""
      ],
      "execution_count": null,
      "outputs": []
    }
  ]
}