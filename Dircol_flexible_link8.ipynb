{
  "nbformat": 4,
  "nbformat_minor": 0,
  "metadata": {
    "accelerator": "GPU",
    "colab": {
      "name": "Dircol-flexible-link8.ipynb",
      "provenance": [],
      "collapsed_sections": [],
      "include_colab_link": true
    },
    "kernelspec": {
      "display_name": "Python 3",
      "name": "python3"
    },
    "language_info": {
      "name": "python"
    }
  },
  "cells": [
    {
      "cell_type": "markdown",
      "metadata": {
        "id": "view-in-github",
        "colab_type": "text"
      },
      "source": [
        "<a href=\"https://colab.research.google.com/github/Bharath2/cube/blob/master/Dircol_flexible_link8.ipynb\" target=\"_parent\"><img src=\"https://colab.research.google.com/assets/colab-badge.svg\" alt=\"Open In Colab\"/></a>"
      ]
    },
    {
      "cell_type": "markdown",
      "metadata": {
        "id": "gcmzMIIcKVV1"
      },
      "source": [
        "#**PyDrake Setup**"
      ]
    },
    {
      "cell_type": "code",
      "metadata": {
        "colab": {
          "base_uri": "https://localhost:8080/"
        },
        "id": "tffe6Auv-HdA",
        "outputId": "8be99fee-79cb-4ad5-ed99-b7e505538bdc"
      },
      "source": [
        "import importlib\n",
        "import sys\n",
        "from urllib.request import urlretrieve\n",
        "\n",
        "# Install drake (and underactuated).\n",
        "if 'google.colab' in sys.modules and importlib.util.find_spec('underactuated') is None:\n",
        "    urlretrieve(f\"http://underactuated.csail.mit.edu/scripts/setup/setup_underactuated_colab.py\",\n",
        "                \"setup_underactuated_colab.py\")\n",
        "    from setup_underactuated_colab import setup_underactuated\n",
        "    setup_underactuated(underactuated_sha='15cfd96b0bdfd1b0c67597c24f91907776c02a6d', drake_version='0.27.0', drake_build='release')\n",
        "\n",
        "!pip install recordclass"
      ],
      "execution_count": null,
      "outputs": [
        {
          "output_type": "stream",
          "text": [
            "Cloning into '/opt/underactuated'...\n",
            "\n",
            "HEAD is now at 15cfd96 and again\n",
            "\n",
            "ERROR: torchtext 0.9.1 has requirement torch==1.8.1, but you'll have torch 1.7.1 which is incompatible.\n",
            "ERROR: bokeh 2.3.1 has requirement pillow>=7.1.0, but you'll have pillow 7.0.0 which is incompatible.\n",
            "ERROR: albumentations 0.1.12 has requirement imgaug<0.2.7,>=0.2.5, but you'll have imgaug 0.2.9 which is incompatible.\n",
            "\n",
            "\n",
            "WARNING: apt does not have a stable CLI interface. Use with caution in scripts.\n",
            "\n",
            "\n",
            "Collecting recordclass\n",
            "\u001b[?25l  Downloading https://files.pythonhosted.org/packages/0f/8c/ca5a806a523c554cc89ba648d26ddafe7be27b1a711819bed4f74999bf8a/recordclass-0.14.3.tar.gz (156kB)\n",
            "\u001b[K     |████████████████████████████████| 163kB 17.9MB/s \n",
            "\u001b[?25hBuilding wheels for collected packages: recordclass\n",
            "  Building wheel for recordclass (setup.py) ... \u001b[?25l\u001b[?25hdone\n",
            "  Created wheel for recordclass: filename=recordclass-0.14.3-cp37-cp37m-linux_x86_64.whl size=344680 sha256=6d8b9f32e6bf0997a6c0ef05a433125c6cd5793818fc86f016fda78739779b2c\n",
            "  Stored in directory: /root/.cache/pip/wheels/c2/fa/9f/abec56a7c5d6843a053f2aa53166c556be33c169438c57e483\n",
            "Successfully built recordclass\n",
            "Installing collected packages: recordclass\n",
            "Successfully installed recordclass-0.14.3\n"
          ],
          "name": "stdout"
        }
      ]
    },
    {
      "cell_type": "markdown",
      "metadata": {
        "id": "cIrP3-rHMveS"
      },
      "source": [
        "###setup meshcat server"
      ]
    },
    {
      "cell_type": "code",
      "metadata": {
        "id": "EL7Frf0HMgW3"
      },
      "source": [
        "server_args = ['--ngrok_http_tunnel']\n",
        "\n",
        "from meshcat.servers.zmqserver import start_zmq_server_as_subprocess\n",
        "proc, zmq_url, web_url = start_zmq_server_as_subprocess(server_args=server_args)"
      ],
      "execution_count": null,
      "outputs": []
    },
    {
      "cell_type": "markdown",
      "metadata": {
        "id": "qk41owg2Kapp"
      },
      "source": [
        "#**import modules**"
      ]
    },
    {
      "cell_type": "code",
      "metadata": {
        "id": "5n9itCFG_ZbX"
      },
      "source": [
        "import time\n",
        "import numpy as np\n",
        "from tqdm import tqdm\n",
        "import matplotlib.pyplot as plt\n",
        "from itertools import count\n",
        "\n",
        "\n",
        "from pydrake.all import (\n",
        "    DiagramBuilder, SceneGraph, Simulator, RigidTransform, \n",
        "    AddMultibodyPlantSceneGraph, Parser, RotationMatrix, PlanarSceneGraphVisualizer,\n",
        "    LeafSystem, BasicVector, RevoluteSpring, AddTriad, RollPitchYaw\n",
        ")\n",
        "\n",
        "import pydrake.systems.meshcat_visualizer as meshcat_visualizer"
      ],
      "execution_count": null,
      "outputs": []
    },
    {
      "cell_type": "markdown",
      "metadata": {
        "id": "f9Wi1KTbKjOP"
      },
      "source": [
        "#**URDF**"
      ]
    },
    {
      "cell_type": "code",
      "metadata": {
        "colab": {
          "base_uri": "https://localhost:8080/"
        },
        "id": "EksRwm2otvAL",
        "outputId": "09afe5d7-a82e-4ad9-cc7b-8a66473d705d"
      },
      "source": [
        "!pip install xacro"
      ],
      "execution_count": null,
      "outputs": [
        {
          "output_type": "stream",
          "text": [
            "Requirement already satisfied: xacro in /usr/local/lib/python3.7/dist-packages (1.13.3)\n"
          ],
          "name": "stdout"
        }
      ]
    },
    {
      "cell_type": "code",
      "metadata": {
        "colab": {
          "base_uri": "https://localhost:8080/"
        },
        "id": "7SFndMAs3TH7",
        "outputId": "e33c6838-bdff-4a16-fdce-59937813fad0"
      },
      "source": [
        "%%file model\n",
        "<?xml version=\"1.0\"?>\n",
        "\n",
        "<robot xmlns:xacro=\"http://www.ros.org/wiki/xacro\" name=\"RR\">\n",
        "\n",
        "  <xacro:macro name=\"Link\" params=\"id damping color\">\n",
        "  <link name=\"link${id}\">\n",
        "    <inertial>\n",
        "      <origin xyz=\"0 0 0\" rpy=\"0 0 0\" />\n",
        "      <mass value=\"0.25\" />\n",
        "      <inertia ixx=\"0.125\" ixy=\"0\" ixz=\"0\" iyy=\"0.125\" iyz=\"0\" izz=\"0.125\" />\n",
        "    </inertial>\n",
        "    <visual>\n",
        "      <origin xyz=\"0.125 0 0\" rpy=\"0 0 0\" />\n",
        "      <geometry>\n",
        "        <box size=\"0.25 0.1 0.05\"/>\n",
        "      </geometry>\n",
        "      <material>\n",
        "        <color rgba=\"${color} 1\" />\n",
        "      </material>\n",
        "    </visual>\n",
        "  </link>\n",
        "\n",
        "  <joint name=\"theta${id}\" type=\"continuous\">\n",
        "    <parent link=\"link${id-1}\" />\n",
        "    <child link=\"link${id}\" />\n",
        "    <origin rpy=\"0 0 0\" xyz=\"0.25 0 0\" />\n",
        "    <axis xyz=\"0 0 1\" />\n",
        "    <dynamics damping=\"${damping}\" />\n",
        "  </joint>\n",
        "\n",
        "  </xacro:macro>\n",
        "\n",
        "  <link name=\"link0\">\n",
        "    <visual>\n",
        "      <origin xyz=\"0.25 0 -0.25\" rpy=\"0 0 0\" />\n",
        "      <geometry>\n",
        "        <cylinder length=\".1\" radius=\".053\"  />\n",
        "      </geometry>\n",
        "      <material>\n",
        "        <color rgba=\"0.5 0.5 0.5 1\" />\n",
        "      </material>\n",
        "    </visual>\n",
        "  </link>\n",
        "\n",
        "  <joint name=\"fixed1\" type=\"fixed\">\n",
        "    <parent link=\"world\" />\n",
        "    <child link=\"link0\" />\n",
        "  </joint>\n",
        "\n",
        "  <xacro:Link id = \"1\" damping = \"0.1\" color = \"0.2 0.3 0.9\"/>\n",
        "  <xacro:Link id = \"2\" damping = \"0.1\" color = \"0.9 0.3 0.2\"/>\n",
        "  <xacro:Link id = \"3\" damping = \"0.1\" color = \"0.2 0.3 0.9\"/>\n",
        "  <xacro:Link id = \"4\" damping = \"0.1\" color = \"0.9 0.3 0.2\"/>\n",
        "  <xacro:Link id = \"5\" damping = \"0.1\" color = \"0.2 0.3 0.9\"/>\n",
        "  <xacro:Link id = \"6\" damping = \"0.1\" color = \"0.9 0.3 0.2\"/>\n",
        "  <xacro:Link id = \"7\" damping = \"0.1\" color = \"0.2 0.3 0.9\"/>\n",
        "  <xacro:Link id = \"8\" damping = \"0.1\" color = \"0.9 0.3 0.2\"/>\n",
        "\n",
        "  <transmission type=\"SimpleTransmission\" name=\"j1\">\n",
        "    <actuator name=\"torque1\" />\n",
        "    <joint name=\"theta1\" />\n",
        "    <mechanicalReduction>1</mechanicalReduction>\n",
        "  </transmission>\n",
        "\n",
        "</robot>"
      ],
      "execution_count": null,
      "outputs": [
        {
          "output_type": "stream",
          "text": [
            "Overwriting model\n"
          ],
          "name": "stdout"
        }
      ]
    },
    {
      "cell_type": "code",
      "metadata": {
        "colab": {
          "base_uri": "https://localhost:8080/"
        },
        "id": "mnMXuPlttyO5",
        "outputId": "ce8d5898-7613-4bd2-fe39-ec6486c747b2"
      },
      "source": [
        "!xacro model -o model.urdf"
      ],
      "execution_count": null,
      "outputs": [
        {
          "output_type": "stream",
          "text": [
            "\u001b[93mNo module named 'rosgraph'\u001b[0m\n",
            "\n"
          ],
          "name": "stdout"
        }
      ]
    },
    {
      "cell_type": "markdown",
      "metadata": {
        "id": "tdi_lMgXKwYO"
      },
      "source": [
        "#Flexible Env class based on pydrake simulator\n",
        "\n",
        "* joint damping coeff: 1 N.m.s\n",
        "\n",
        "* joint stiffness: 5 N/m"
      ]
    },
    {
      "cell_type": "code",
      "metadata": {
        "id": "AW9QhAzX-kNE"
      },
      "source": [
        "def angle_normalize(x):\n",
        "    return (((x+np.pi) % (2*np.pi)) - np.pi)/np.pi\n",
        "\n",
        "class FlexibleEnv():\n",
        "\n",
        "  def __init__(self):\n",
        "    self.Setup()\n",
        "    self.reset()\n",
        "\n",
        "  def Setup(self, visualize = False):\n",
        "    builder = DiagramBuilder()\n",
        "    plant, scene_graph = AddMultibodyPlantSceneGraph(builder, time_step = 0.0)\n",
        "    parse_ins = Parser(plant).AddModelFromFile('./model.urdf')\n",
        "    #Add Revolute spring\n",
        "    for i in range(2,9):\n",
        "      plant.AddForceElement(RevoluteSpring(plant.GetJointByName(f\"theta{i}\", parse_ins), 0, 5))\n",
        "    plant.Finalize()\n",
        "    self.plant = plant\n",
        "\n",
        "    # Setup visualization\n",
        "    self.visualizer = None\n",
        "    if visualize:\n",
        "      self.visualizer = meshcat_visualizer.ConnectMeshcatVisualizer(\n",
        "                builder, \n",
        "                scene_graph = scene_graph, \n",
        "                zmq_url = zmq_url, \n",
        "                delete_prefix_on_load=True)\n",
        "      #set planar view instead of 3d view\n",
        "      self.visualizer.set_planar_viewpoint(camera_position=[0, 0, 1], \n",
        "                                  xmin=-3, xmax=1, ymin=-2, ymax=2)\n",
        "    \n",
        "    self.diagram = builder.Build()\n",
        "\n",
        "\n",
        "  def reset(self, init_state = None):\n",
        "    #reset time and simulator\n",
        "    self.time = 0\n",
        "    self.context = self.diagram.CreateDefaultContext()\n",
        "    self.plant_context = self.plant.GetMyMutableContextFromRoot(self.context)\n",
        "    self.simulator = Simulator(self.diagram, self.context)\n",
        "    #set initial state\n",
        "    self.set_state(init_state)\n",
        "    return self.get_state\n",
        "  \n",
        "  def set_state(self, init_state = None):\n",
        "    if not init_state:\n",
        "      init_state = np.random.uniform(-1,1,4)\n",
        "      init_state = init_state * [np.pi, 1, np.pi/6, 0.1]\n",
        "    init_state = [init_state[0]] + [init_state[1]/3]*7 + [init_state[2]] + [init_state[3]/3]*7\n",
        "    self.plant_context.SetContinuousState(init_state)\n",
        "\n",
        "  @property\n",
        "  def get_state(self):\n",
        "    #get current state from plant\n",
        "    state = self.plant.get_state_output_port().Eval(self.plant_context)\n",
        "    state[0] = angle_normalize(state[0])\n",
        "    return state\n",
        "  \n",
        "\n",
        "  def step(self, u, dt = 0.05):\n",
        "    #Set joint torque with input\n",
        "    self.plant.get_actuation_input_port().FixValue(self.plant_context, u)\n",
        "    #Advance to next step\n",
        "    self.simulator.AdvanceTo(self.time + dt)\n",
        "    self.time += dt\n",
        "    #return current state\n",
        "    return self.get_state\n",
        "  \n",
        "  \n",
        "  def start_recording(self, init_state = None):\n",
        "    self.Setup(True)\n",
        "    self.reset(init_state)\n",
        "    self.visualizer.load()\n",
        "    self.visualizer.start_recording()\n",
        "  \n",
        "  def stop_recording(self):\n",
        "    self.visualizer.stop_recording()\n",
        "    self.visualizer.publish_recording()\n",
        "\n",
        "  def render(self, model, init_state = None):\n",
        "    self.start_recording(init_state)\n",
        "    \n",
        "    for i in range(200):\n",
        "      u = model(self.get_state)\n",
        "      self.step(u)\n",
        "    \n",
        "    self.stop_recording()\n"
      ],
      "execution_count": null,
      "outputs": []
    },
    {
      "cell_type": "markdown",
      "metadata": {
        "id": "RpCjIwJF1kqs"
      },
      "source": [
        "##**Test Env**"
      ]
    },
    {
      "cell_type": "code",
      "metadata": {
        "id": "j9wLR6CAG5yp"
      },
      "source": [
        "env = FlexibleEnv()"
      ],
      "execution_count": null,
      "outputs": []
    },
    {
      "cell_type": "code",
      "metadata": {
        "colab": {
          "base_uri": "https://localhost:8080/"
        },
        "id": "ubjPFl03g_km",
        "outputId": "a3b1fac6-0f19-4509-9b52-1b5ea71b546c"
      },
      "source": [
        "from pydrake.all import (DirectCollocation, PiecewisePolynomial, Solve, TrajectorySource, MultibodyPlant)\n",
        "\n",
        "plant = MultibodyPlant(time_step=0.0)\n",
        "scene_graph = SceneGraph()\n",
        "plant.RegisterAsSourceForSceneGraph(scene_graph)\n",
        "parse_ins = Parser(plant).AddModelFromFile('./model.urdf')\n",
        "\n",
        "#Add Revolute spring\n",
        "for i in range(2,9):\n",
        "  plant.AddForceElement(RevoluteSpring(plant.GetJointByName(f\"theta{i}\", parse_ins), 0, 5))\n",
        "  \n",
        "plant.Finalize()\n",
        "context = plant.CreateDefaultContext()"
      ],
      "execution_count": null,
      "outputs": [
        {
          "output_type": "execute_result",
          "data": {
            "text/plain": [
              "array([-0.25,  0.  ,  0.  ,  0.  ,  0.  ,  0.  ,  0.  ,  0.  ,  0.  ,\n",
              "        0.  ,  0.  ,  0.  ,  0.  ,  0.  ,  0.  ,  0.  ])"
            ]
          },
          "metadata": {
            "tags": []
          },
          "execution_count": 49
        }
      ]
    },
    {
      "cell_type": "code",
      "metadata": {
        "colab": {
          "background_save": true,
          "base_uri": "https://localhost:8080/",
          "height": 279
        },
        "id": "WX6R3MrwhZL3",
        "outputId": "df040ddb-b384-4419-ea38-f33fcaa4304d"
      },
      "source": [
        "dircol = DirectCollocation(plant,\n",
        "                           context,\n",
        "                           num_time_samples=16,\n",
        "                           minimum_timestep=0.05,\n",
        "                           maximum_timestep=0.3,\n",
        "                           input_port_index=plant.get_actuation_input_port().get_index())\n",
        "\n",
        "\n",
        "# Add input limits.\n",
        "torque_limit = 4.0  # N*m.\n",
        "u = dircol.input()\n",
        "dircol.AddConstraintToAllKnotPoints(-torque_limit <= u[0])\n",
        "dircol.AddConstraintToAllKnotPoints(u[0] <= torque_limit)\n",
        "\n",
        "initial_state = [0.]*16\n",
        "dircol.AddBoundingBoxConstraint(initial_state, initial_state,\n",
        "                                dircol.initial_state())\n",
        "\n",
        "final_state = [np.pi/2]+[0]*15\n",
        "dircol.AddBoundingBoxConstraint(final_state, final_state, dircol.final_state())\n",
        "# dircol.AddLinearConstraint(dircol.final_state() == final_state)\n",
        "\n",
        "R = 10  # Cost on input \"effort\".\n",
        "dircol.AddRunningCost(R * u[0]**2)\n",
        "\n",
        "# Add a final cost equal to the total duration.\n",
        "dircol.AddFinalCost(dircol.time())\n",
        "dircol.AddEqualTimeIntervalsConstraints()\n",
        "\n",
        "initial_x_trajectory = PiecewisePolynomial.FirstOrderHold([0., 4.], np.column_stack((initial_state, final_state)))\n",
        "dircol.SetInitialTrajectory(PiecewisePolynomial(), initial_x_trajectory)\n",
        "\n",
        "result = Solve(dircol)\n",
        "assert (result.is_success())\n",
        "\n",
        "u_trajectory = dircol.ReconstructInputTrajectory(result)\n",
        "u_lookup = np.vectorize(u_trajectory.value)"
      ],
      "execution_count": null,
      "outputs": [
        {
          "output_type": "display_data",
          "data": {
            "image/png": "[encoded data removed]",
            "text/plain": [
              "<Figure size 432x288 with 1 Axes>"
            ]
          },
          "metadata": {
            "tags": []
          }
        }
      ]
    },
    {
      "cell_type": "code",
      "metadata": {
        "id": "OJPbZC-QinYB"
      },
      "source": [
        "times = np.linspace(u_trajectory.start_time(), u_trajectory.end_time(), 101)\n",
        "u_values = u_lookup(times)\n",
        "\n",
        "plt.figure()\n",
        "plt.plot(times, u_values)\n",
        "plt.xlabel(\"time (seconds)\")\n",
        "plt.ylabel(\"force (Newtons)\");"
      ],
      "execution_count": null,
      "outputs": []
    },
    {
      "cell_type": "code",
      "metadata": {
        "colab": {
          "background_save": true,
          "base_uri": "https://localhost:8080/"
        },
        "id": "O-tsFHVSlg0s",
        "outputId": "6c4faf87-ffc0-4fcb-89f2-4a70d7828298"
      },
      "source": [
        "#Simulate with learned policy\n",
        "env = FlexibleEnv()\n",
        "\n",
        "# print(env.get_state)\n",
        "env.start_recording([0]*16)\n",
        "\n",
        "prev_theta = 0\n",
        "\n",
        "for i in range(101):\n",
        "    env.step(u_values[i], 0.04)\n",
        "  \n",
        "env.stop_recording()"
      ],
      "execution_count": null,
      "outputs": [
        {
          "output_type": "stream",
          "text": [
            "Connecting to meshcat-server at zmq_url=tcp://127.0.0.1:6004...\n",
            "You can open the visualizer by visiting the following URL:\n",
            "http://66ed246617d4.ngrok.io/static/\n",
            "Connected to meshcat-server.\n"
          ],
          "name": "stdout"
        }
      ]
    }
  ]
}