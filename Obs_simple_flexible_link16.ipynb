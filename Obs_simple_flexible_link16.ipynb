{
  "nbformat": 4,
  "nbformat_minor": 0,
  "metadata": {
    "colab": {
      "name": "Obs simple flexible-link16.ipynb",
      "provenance": [],
      "collapsed_sections": [],
      "include_colab_link": true
    },
    "kernelspec": {
      "display_name": "Python 3",
      "name": "python3"
    },
    "language_info": {
      "name": "python"
    }
  },
  "cells": [
    {
      "cell_type": "markdown",
      "metadata": {
        "id": "view-in-github",
        "colab_type": "text"
      },
      "source": [
        "<a href=\"https://colab.research.google.com/github/Bharath2/cube/blob/master/Obs_simple_flexible_link16.ipynb\" target=\"_parent\"><img src=\"https://colab.research.google.com/assets/colab-badge.svg\" alt=\"Open In Colab\"/></a>"
      ]
    },
    {
      "cell_type": "markdown",
      "metadata": {
        "id": "gcmzMIIcKVV1"
      },
      "source": [
        "#**PyDrake Setup**"
      ]
    },
    {
      "cell_type": "code",
      "metadata": {
        "colab": {
          "base_uri": "https://localhost:8080/"
        },
        "id": "tffe6Auv-HdA",
        "outputId": "b10722bd-711d-443d-c5c0-72c106d9ffa9"
      },
      "source": [
        "from urllib.request import urlretrieve\n",
        "# Install drake (and underactuated).\n",
        "urlretrieve(f\"http://underactuated.csail.mit.edu/scripts/setup/setup_underactuated_colab.py\",\"setup_underactuated_colab.py\")\n",
        "\n",
        "from setup_underactuated_colab import setup_underactuated\n",
        "setup_underactuated(underactuated_sha='15cfd96b0bdfd1b0c67597c24f91907776c02a6d', drake_version='0.27.0', drake_build='release')\n"
      ],
      "execution_count": null,
      "outputs": [
        {
          "output_type": "stream",
          "text": [
            "Cloning into '/opt/underactuated'...\n",
            "\n",
            "HEAD is now at 15cfd96 and again\n",
            "\n",
            "ERROR: torchtext 0.10.0 has requirement torch==1.9.0, but you'll have torch 1.7.1 which is incompatible.\n",
            "ERROR: bokeh 2.3.2 has requirement pillow>=7.1.0, but you'll have pillow 7.0.0 which is incompatible.\n",
            "ERROR: albumentations 0.1.12 has requirement imgaug<0.2.7,>=0.2.5, but you'll have imgaug 0.2.9 which is incompatible.\n",
            "\n",
            "\n",
            "WARNING: apt does not have a stable CLI interface. Use with caution in scripts.\n",
            "\n",
            "\n"
          ],
          "name": "stdout"
        }
      ]
    },
    {
      "cell_type": "code",
      "metadata": {
        "colab": {
          "base_uri": "https://localhost:8080/"
        },
        "id": "hFtFeDN58Keg",
        "outputId": "801a2456-34fd-4c45-9182-a0222de98f63"
      },
      "source": [
        "!pip install xacro\n",
        "!pip install recordclass"
      ],
      "execution_count": null,
      "outputs": [
        {
          "output_type": "stream",
          "text": [
            "Collecting xacro\n",
            "  Downloading https://files.pythonhosted.org/packages/02/20/aa6578e060abe1a703a808883f7d19f9083e7cdc5c72148e3fae01488f28/xacro-1.13.3.tar.gz\n",
            "Building wheels for collected packages: xacro\n",
            "  Building wheel for xacro (setup.py) ... \u001b[?25l\u001b[?25hdone\n",
            "  Created wheel for xacro: filename=xacro-1.13.3-cp37-none-any.whl size=19508 sha256=40397eaa55a361b6129b842f4f0172b4140b2b5a11597a4fef0f5f6d2299f4b1\n",
            "  Stored in directory: /root/.cache/pip/wheels/01/e9/16/490f9278bc8be9b28833b08ce491f53880229b7d07891af76d\n",
            "Successfully built xacro\n",
            "Installing collected packages: xacro\n",
            "Successfully installed xacro-1.13.3\n",
            "Collecting recordclass\n",
            "\u001b[?25l  Downloading https://files.pythonhosted.org/packages/0f/8c/ca5a806a523c554cc89ba648d26ddafe7be27b1a711819bed4f74999bf8a/recordclass-0.14.3.tar.gz (156kB)\n",
            "\u001b[K     |████████████████████████████████| 163kB 5.0MB/s \n",
            "\u001b[?25hBuilding wheels for collected packages: recordclass\n",
            "  Building wheel for recordclass (setup.py) ... \u001b[?25l\u001b[?25hdone\n",
            "  Created wheel for recordclass: filename=recordclass-0.14.3-cp37-cp37m-linux_x86_64.whl size=344687 sha256=6094ff85c13b4cdcd029bfdda7275ff52688b927b8b33103d35e4ee483c88923\n",
            "  Stored in directory: /root/.cache/pip/wheels/c2/fa/9f/abec56a7c5d6843a053f2aa53166c556be33c169438c57e483\n",
            "Successfully built recordclass\n",
            "Installing collected packages: recordclass\n",
            "Successfully installed recordclass-0.14.3\n"
          ],
          "name": "stdout"
        }
      ]
    },
    {
      "cell_type": "markdown",
      "metadata": {
        "id": "cIrP3-rHMveS"
      },
      "source": [
        "###setup meshcat server"
      ]
    },
    {
      "cell_type": "code",
      "metadata": {
        "id": "EL7Frf0HMgW3"
      },
      "source": [
        "server_args = ['--ngrok_http_tunnel']\n",
        "\n",
        "from meshcat.servers.zmqserver import start_zmq_server_as_subprocess\n",
        "proc, zmq_url, web_url = start_zmq_server_as_subprocess(server_args=server_args)"
      ],
      "execution_count": null,
      "outputs": []
    },
    {
      "cell_type": "markdown",
      "metadata": {
        "id": "qk41owg2Kapp"
      },
      "source": [
        "#**import modules**"
      ]
    },
    {
      "cell_type": "code",
      "metadata": {
        "id": "5n9itCFG_ZbX"
      },
      "source": [
        "import time\n",
        "import numpy as np\n",
        "from tqdm import tqdm\n",
        "import matplotlib.pyplot as plt\n",
        "from itertools import count\n",
        "\n",
        "\n",
        "from pydrake.all import (\n",
        "    DiagramBuilder, SceneGraph, Simulator, RigidTransform, \n",
        "    AddMultibodyPlantSceneGraph, Parser, RotationMatrix, PlanarSceneGraphVisualizer,\n",
        "    LeafSystem, BasicVector, RevoluteSpring, AddTriad, RollPitchYaw\n",
        ")\n",
        "\n",
        "import pydrake.systems.meshcat_visualizer as meshcat_visualizer"
      ],
      "execution_count": null,
      "outputs": []
    },
    {
      "cell_type": "markdown",
      "metadata": {
        "id": "f9Wi1KTbKjOP"
      },
      "source": [
        "#**URDF**"
      ]
    },
    {
      "cell_type": "code",
      "metadata": {
        "colab": {
          "base_uri": "https://localhost:8080/"
        },
        "id": "7SFndMAs3TH7",
        "outputId": "9a95b6e7-ff7c-4608-ef0c-e9e87811196b"
      },
      "source": [
        "%%file model\n",
        "<?xml version=\"1.0\"?>\n",
        "\n",
        "<robot xmlns:xacro=\"http://www.ros.org/wiki/xacro\" name=\"RR\">\n",
        "\n",
        "  <xacro:macro name=\"Link\" params=\"id color\">\n",
        "  <link name=\"link${id}\">\n",
        "\n",
        "    <inertial>\n",
        "     <origin rpy=\"0 0 0\" xyz=\"${1/32} 0 0\" />\n",
        "      <mass value=\"${0.0125}\" />\n",
        "      <inertia ixx=\"${5e-5}\" ixy=\"0\" ixz=\"0\" iyy=\"${5e-5}\" iyz=\"0\" izz=\"${5e-5}\" />\n",
        "    </inertial>\n",
        "\n",
        "    <visual>\n",
        "    <origin rpy=\"0 0 0\" xyz=\"${1/32} 0 0\" />\n",
        "      <geometry>\n",
        "        <box size=\"${1/16} 0.03 0.03\"/>\n",
        "      </geometry>\n",
        "      <material>\n",
        "        <color rgba=\"${color} 1\" />\n",
        "      </material>\n",
        "    </visual>\n",
        "\n",
        "    <collision>\n",
        "    <origin rpy=\"0 0 0\" xyz=\"${1/32} 0 0\" />\n",
        "      <geometry>\n",
        "        <box size=\"${1/16} 0.03 0.03\"/>\n",
        "      </geometry>\n",
        "    </collision>\n",
        "\n",
        "  </link>\n",
        "\n",
        "  <joint name=\"theta${id}\" type=\"continuous\">\n",
        "    <parent link=\"link${id-1}\" />\n",
        "    <child link=\"link${id}\" />\n",
        "    <origin rpy=\"0 0 0\" xyz=\"${1/16} 0 0\" />\n",
        "    <axis xyz=\"0 0 1\" />\n",
        "    <dynamics damping=\"0.01\" />\n",
        "  </joint>\n",
        "\n",
        "  </xacro:macro>\n",
        "\n",
        "  <link name=\"link0\">\n",
        "    <visual>\n",
        "      <origin xyz=\"${1/16} 0 0\" rpy=\"0 0 0\" />\n",
        "      <geometry>\n",
        "        <cylinder length=\".05\" radius=\".03\"  />\n",
        "      </geometry>\n",
        "      <material>\n",
        "        <color rgba=\"0.4 0.4 0.4 1\" />\n",
        "      </material>\n",
        "    </visual>\n",
        "  </link>\n",
        "\n",
        "  <joint name=\"fixed1\" type=\"fixed\">\n",
        "    <parent link=\"world\" />\n",
        "    <child link=\"link0\" />\n",
        "  </joint>\n",
        "\n",
        "  <xacro:Link id = \"1\" color = \"0.2 0.3 0.9\"/>\n",
        "  <xacro:Link id = \"2\" color = \"0.9 0.3 0.2\"/>\n",
        "  <xacro:Link id = \"3\" color = \"0.2 0.3 0.9\"/>\n",
        "  <xacro:Link id = \"4\" color = \"0.9 0.3 0.2\"/>\n",
        "  <xacro:Link id = \"5\" color = \"0.2 0.3 0.9\"/>\n",
        "  <xacro:Link id = \"6\" color = \"0.9 0.3 0.2\"/>\n",
        "  <xacro:Link id = \"7\" color = \"0.2 0.3 0.9\"/>\n",
        "  <xacro:Link id = \"8\" color = \"0.9 0.3 0.2\"/>\n",
        "  <xacro:Link id = \"9\" color = \"0.2 0.3 0.9\"/>\n",
        "  <xacro:Link id = \"10\" color = \"0.9 0.3 0.2\"/>\n",
        "  <xacro:Link id = \"11\" color = \"0.2 0.3 0.9\"/>\n",
        "  <xacro:Link id = \"12\" color = \"0.9 0.3 0.2\"/>\n",
        "  <xacro:Link id = \"13\" color = \"0.2 0.3 0.9\"/>\n",
        "  <xacro:Link id = \"14\" color = \"0.9 0.3 0.2\"/>\n",
        "  <xacro:Link id = \"15\" color = \"0.2 0.3 0.9\"/>\n",
        "  <xacro:Link id = \"16\" color = \"0.9 0.3 0.2\"/>\n",
        "\n",
        "   <link name=\"payload\">\n",
        "   <inertial>\n",
        "   <origin rpy=\"0 0 0\" xyz=\"0 0 0\" />\n",
        "      <mass value=\"0.5\" />\n",
        "      <inertia ixx=\"0.000104\" ixy=\"0\" ixz=\"0\" iyy=\"0.000104\" iyz=\"0\" izz=\"${0.5*0.5*0.025*0.025}\" />\n",
        "    </inertial>\n",
        "    <visual>\n",
        "      <origin xyz=\"0 0 -0.02\" rpy=\"0 0 0\" />\n",
        "      <geometry>\n",
        "         <cylinder length=\".025\" radius=\".025\"  />\n",
        "      </geometry>\n",
        "      <material>\n",
        "        <color rgba=\"0.5 0.5 0.5 1\" />\n",
        "      </material>\n",
        "    </visual>\n",
        "    <collision>\n",
        "      <origin xyz=\"0 0 -0.02\" rpy=\"0 0 0\" />\n",
        "      <geometry>\n",
        "         <cylinder length=\".025\" radius=\".025\"  />\n",
        "      </geometry>\n",
        "    </collision>\n",
        "  </link>\n",
        "\n",
        "  <joint name=\"fixed2\" type=\"fixed\">\n",
        "    <parent link=\"link16\" />\n",
        "    <child link=\"payload\" />\n",
        "    <origin rpy=\"0 0 0\" xyz=\"${1/16} 0 0\" />\n",
        "  </joint>\n",
        "\n",
        "\n",
        "  <link name=\"obs1\">\n",
        "    <visual>\n",
        "      <origin xyz=\"${1/16} -1 -0.05\" rpy=\"0 0 0\" />\n",
        "      <geometry>\n",
        "         <box size=\"0.25 0.3 0.1\"/>\n",
        "      </geometry>\n",
        "      <material>\n",
        "        <color rgba=\"0.5 0.5 0.5 1\" />\n",
        "      </material>\n",
        "    </visual>\n",
        "\n",
        "    <collision>\n",
        "    <origin rpy=\"0 0 0\" xyz=\"${1/16} -1 -0.05\" />\n",
        "      <geometry>\n",
        "        <box size=\"0.25 0.3 0.1\"/>\n",
        "      </geometry>\n",
        "    </collision>\n",
        "  </link>\n",
        "\n",
        "  <joint name=\"fixed3\" type=\"fixed\">\n",
        "    <parent link=\"world\" />\n",
        "    <child link=\"obs1\" />\n",
        "  </joint>\n",
        "\n",
        "    <link name=\"obs2\">\n",
        "    <visual>\n",
        "      <origin xyz=\"${1/16} 1 -0.05\" rpy=\"0 0 0\" />\n",
        "      <geometry>\n",
        "         <box size=\"0.25 0.25 0.1\"/>\n",
        "      </geometry>\n",
        "      <material>\n",
        "        <color rgba=\"0.5 0.5 0.5 1\" />\n",
        "      </material>\n",
        "    </visual>\n",
        "\n",
        "    <collision>\n",
        "    <origin rpy=\"0 0 0\" xyz=\"${1/16} 1 -0.05\" />\n",
        "      <geometry>\n",
        "        <box size=\"0.25 0.5 0.1\"/>\n",
        "      </geometry>\n",
        "    </collision>\n",
        "  </link>\n",
        "\n",
        "  <joint name=\"fixed4\" type=\"fixed\">\n",
        "    <parent link=\"world\" />\n",
        "    <child link=\"obs2\" />\n",
        "  </joint>\n",
        "\n",
        " \n",
        "  <transmission type=\"SimpleTransmission\" name=\"j1\">\n",
        "    <actuator name=\"torque1\" />\n",
        "    <joint name=\"theta1\" />\n",
        "    <mechanicalReduction>1</mechanicalReduction>\n",
        "  </transmission>\n",
        "\n",
        "</robot>"
      ],
      "execution_count": null,
      "outputs": [
        {
          "output_type": "stream",
          "text": [
            "Writing model\n"
          ],
          "name": "stdout"
        }
      ]
    },
    {
      "cell_type": "code",
      "metadata": {
        "colab": {
          "base_uri": "https://localhost:8080/"
        },
        "id": "mnMXuPlttyO5",
        "outputId": "662f59df-4702-4905-b34d-012c14ea6955"
      },
      "source": [
        "!xacro model -o model.urdf"
      ],
      "execution_count": null,
      "outputs": [
        {
          "output_type": "stream",
          "text": [
            "\u001b[93mNo module named 'rosgraph'\u001b[0m\n",
            "\n"
          ],
          "name": "stdout"
        }
      ]
    },
    {
      "cell_type": "markdown",
      "metadata": {
        "id": "tdi_lMgXKwYO"
      },
      "source": [
        "#Flexible Env class based on pydrake simulator\n",
        "\n",
        "* joint damping coeff: 0.001 N.m.s\n",
        "\n",
        "* joint stiffness: 15 N/m"
      ]
    },
    {
      "cell_type": "code",
      "metadata": {
        "id": "AW9QhAzX-kNE"
      },
      "source": [
        "def angle_normalize(x):\n",
        "    return (((x+np.pi) % (2*np.pi)) - np.pi)/np.pi\n",
        "\n",
        "class FlexibleEnv():\n",
        "\n",
        "  def __init__(self):\n",
        "    self.Setup()\n",
        "    self.reset()\n",
        "\n",
        "  def Setup(self, visualize = False):\n",
        "    builder = DiagramBuilder()\n",
        "    plant, scene_graph = AddMultibodyPlantSceneGraph(builder, time_step = 0.0)\n",
        "    parse_ins = Parser(plant).AddModelFromFile('./model.urdf')\n",
        "    #Add Revolute spring\n",
        "    bodies = [plant.GetBodyByName('link1')]\n",
        "    for i in range(2, 17):\n",
        "      plant.AddForceElement(RevoluteSpring(plant.GetJointByName(f\"theta{i}\", parse_ins), 0, 15))\n",
        "      bodies.append(plant.GetBodyByName(f'link{i}'))\n",
        "    plant.Finalize()\n",
        "    scene_graph.ExcludeCollisionsWithin(plant.CollectRegisteredGeometries(bodies))\n",
        "    self.plant = plant\n",
        "    self.contactRes = plant.get_contact_results_output_port()\n",
        "    self.scene_graph = scene_graph\n",
        "    self.end = plant.GetBodyByName('payload')\n",
        "\n",
        "    # Setup visualization\n",
        "    self.visualizer = None\n",
        "    if visualize:\n",
        "      self.visualizer = meshcat_visualizer.ConnectMeshcatVisualizer(\n",
        "                builder, \n",
        "                scene_graph = scene_graph, \n",
        "                zmq_url = zmq_url, \n",
        "                delete_prefix_on_load=True)\n",
        "      #set planar view instead of 3d view\n",
        "      self.visualizer.set_planar_viewpoint(camera_position=[0, 0, 1], \n",
        "                                  xmin=-1.5, xmax=0.25, ymin=-1.05, ymax=1.05)\n",
        "    \n",
        "    self.diagram = builder.Build()\n",
        "\n",
        "\n",
        "  def reset(self, init_state = None):\n",
        "    #reset time and simulator\n",
        "    self.time = 0\n",
        "    self.context = self.diagram.CreateDefaultContext()\n",
        "    self.plant_context = self.plant.GetMyMutableContextFromRoot(self.context)\n",
        "    self.simulator = Simulator(self.diagram, self.context)\n",
        "    #set initial state\n",
        "    self.set_state(init_state)\n",
        "    return self.get_state\n",
        "  \n",
        "  def set_state(self, init_state = None):\n",
        "    if not init_state:\n",
        "      init_state = np.random.uniform(-1.1,1.1,4)\n",
        "      init_state = init_state * [np.pi, 2, np.pi/2, 1]\n",
        "    init_state = [init_state[0]] + [init_state[1]/15]*15 + [init_state[2]] + [init_state[3]/15]*15\n",
        "    self.plant_context.SetContinuousState(init_state)\n",
        "\n",
        "  @property\n",
        "  def get_state(self):\n",
        "    #get current state from plant\n",
        "    state = self.plant.get_state_output_port().Eval(self.plant_context)\n",
        "    state[0] = state[0]/np.pi\n",
        "    x,y,z = self.plant.EvalBodyPoseInWorld(self.plant_context, self.end).translation()\n",
        "    num_contacts = self.contactRes.Eval(self.plant_context).num_point_pair_contacts()\n",
        "\n",
        "    return np.r_[x - 0.0625, y, state], num_contacts > 0\n",
        "  \n",
        "\n",
        "  def step(self, u, dt = 0.01):\n",
        "    #Set joint torque with input\n",
        "    self.plant.get_actuation_input_port().FixValue(self.plant_context, u)\n",
        "    #Advance to next step\n",
        "    self.simulator.AdvanceTo(self.time + dt)\n",
        "    self.time += dt\n",
        "    #return current state\n",
        "    return self.get_state\n",
        "  \n",
        "  \n",
        "  def start_recording(self, init_state = None):\n",
        "    self.Setup(True)\n",
        "    self.reset(init_state)\n",
        "    self.visualizer.load()\n",
        "    self.visualizer.start_recording()\n",
        "  \n",
        "  def stop_recording(self):\n",
        "    self.visualizer.stop_recording()\n",
        "    self.visualizer.publish_recording()\n",
        "\n",
        "  def render(self, model, init_state = None):\n",
        "    self.start_recording(init_state)\n",
        "    \n",
        "    for i in range(200):\n",
        "      u = model(self.get_state)\n",
        "      self.step(u)\n",
        "    \n",
        "    self.stop_recording()\n"
      ],
      "execution_count": null,
      "outputs": []
    },
    {
      "cell_type": "markdown",
      "metadata": {
        "id": "RpCjIwJF1kqs"
      },
      "source": [
        "##**Test Env**"
      ]
    },
    {
      "cell_type": "code",
      "metadata": {
        "id": "j9wLR6CAG5yp"
      },
      "source": [
        "env = FlexibleEnv()\n"
      ],
      "execution_count": null,
      "outputs": []
    },
    {
      "cell_type": "markdown",
      "metadata": {
        "id": "agrBH0IWLg2L"
      },
      "source": [
        "##Apply constant torque"
      ]
    },
    {
      "cell_type": "code",
      "metadata": {
        "colab": {
          "base_uri": "https://localhost:8080/"
        },
        "id": "rk8Bx8UMUlan",
        "outputId": "3bdfca04-8083-4431-c10b-3b0725aee21c"
      },
      "source": [
        "def model(state):\n",
        "  return [1]\n",
        "  \n",
        "env.start_recording([np.pi,-np.pi/32, 0, 0])\n",
        "\n",
        "for i in range(200):\n",
        "    u = model(env.get_state)\n",
        "    state, ct = env.step(u)\n",
        "    # print(ct)\n",
        "env.stop_recording()"
      ],
      "execution_count": null,
      "outputs": [
        {
          "output_type": "stream",
          "text": [
            "Connecting to meshcat-server at zmq_url=tcp://127.0.0.1:6000...\n",
            "You can open the visualizer by visiting the following URL:\n",
            "http://31918c7e4a10.ngrok.io/static/\n",
            "Connected to meshcat-server.\n"
          ],
          "name": "stdout"
        }
      ]
    },
    {
      "cell_type": "markdown",
      "metadata": {
        "id": "3zbznUay2vjk"
      },
      "source": [
        "#Import Torch"
      ]
    },
    {
      "cell_type": "code",
      "metadata": {
        "id": "AG2zB2ptZ92s"
      },
      "source": [
        "import torch\n",
        "import torch.nn as nn\n",
        "import torch.optim as optim\n",
        "import torch.nn.functional as F\n",
        "from torch.distributions.normal import Normal\n",
        "\n",
        "\n",
        "# if gpu is to be used\n",
        "if torch.cuda.is_available():\n",
        "  device = torch.device(\"cuda\")\n",
        "  torch.set_default_tensor_type(torch.cuda.FloatTensor)\n",
        "else:\n",
        "  device = torch.device(\"cpu\")\n",
        "  torch.set_default_tensor_type(torch.FloatTensor)"
      ],
      "execution_count": null,
      "outputs": []
    },
    {
      "cell_type": "markdown",
      "metadata": {
        "id": "7SG9Qz4Z2j5P"
      },
      "source": [
        "##Util to Plot reward\n"
      ]
    },
    {
      "cell_type": "code",
      "metadata": {
        "id": "CejHVIejaELX"
      },
      "source": [
        "from IPython import display as ipythondisplay\n",
        "\n",
        "tic = time.time()\n",
        "def plot(reward):\n",
        "    global tic\n",
        "    if time.time() - tic > 2:\n",
        "\n",
        "      plt.cla()\n",
        "      plt.plot(reward)\n",
        "      plt.xlabel('episodes')\n",
        "      plt.ylabel('rewards')\n",
        "\n",
        "      ipythondisplay.clear_output(wait=True)\n",
        "      ipythondisplay.display(plt.gcf())\n",
        "      tic = time.time()"
      ],
      "execution_count": null,
      "outputs": []
    },
    {
      "cell_type": "markdown",
      "metadata": {
        "id": "YqECUyAk2pZ8"
      },
      "source": [
        "##Memory "
      ]
    },
    {
      "cell_type": "code",
      "metadata": {
        "id": "XMtTJJG9aEG5"
      },
      "source": [
        "from recordclass import recordclass\n",
        "\n",
        "Transitions = recordclass('Transitions', ('states', 'actions', 'next_states', 'rewards', 'dones'))\n",
        "\n",
        "class ReplayMemory():\n",
        "    def __init__(self, capacity = 1000, state_dim = 34, action_dim = 1):\n",
        "      \n",
        "        self.length = 0\n",
        "        self.capacity = capacity\n",
        "\n",
        "        self.states = np.zeros((capacity, state_dim))\n",
        "        self.actions = np.zeros((capacity, action_dim))\n",
        "        self.next_states = np.zeros((capacity, state_dim))\n",
        "        self.rewards = np.zeros((capacity, 1))\n",
        "        self.dones = np.zeros((capacity, 1))\n",
        "\n",
        "        self.temp_states = []\n",
        "      \n",
        "    def add_transition(self, *args):\n",
        "        index = self.length % self.capacity\n",
        "\n",
        "        self.temp_states.append(args[0])\n",
        "\n",
        "        self.states[index] = args[0]\n",
        "        self.actions[index] = args[1]\n",
        "        self.next_states[index] = args[2]\n",
        "        self.rewards[index] = args[3]\n",
        "        self.dones[index] = args[4]\n",
        "\n",
        "        self.length += 1\n",
        "\n",
        "    def sample(self, batch_size):\n",
        "\n",
        "        maxind = min(self.length, self.capacity)\n",
        "        inds = np.random.choice(maxind, batch_size)\n",
        "\n",
        "        batch = Transitions(self.states[inds],\n",
        "                            self.actions[inds],\n",
        "                            self.next_states[inds],\n",
        "                            self.rewards[inds],\n",
        "                            self.dones[inds])\n",
        "        \n",
        "        for i in range(5):\n",
        "          batch[i] = torch.tensor(batch[i], dtype=torch.float)\n",
        "\n",
        "        return batch\n",
        "        \n",
        "    def __len__(self):\n",
        "      return min(self.length, self.capacity)"
      ],
      "execution_count": null,
      "outputs": []
    },
    {
      "cell_type": "markdown",
      "metadata": {
        "id": "xHQdbXf43JPH"
      },
      "source": [
        "#**Q-value Network**"
      ]
    },
    {
      "cell_type": "code",
      "metadata": {
        "id": "_zPwZAq0aEPX"
      },
      "source": [
        "class DQN(nn.Module):\n",
        "\n",
        "    def __init__(self, state_dim = 34, action_dim = 1):\n",
        "        super(DQN, self).__init__()\n",
        "        self.l11 = nn.Linear(state_dim, 64)\n",
        "        self.l12 = nn.Linear(action_dim, 4)\n",
        "\n",
        "        self.l2 = nn.Linear(68, 128)\n",
        "        self.l3 = nn.Linear(128, 256)\n",
        "\n",
        "        self.last = nn.Linear(256, 1)\n",
        "        self.last.weight.data.uniform_(-0.05,0.05)\n",
        "        self.last.bias.data.fill_(0.01)\n",
        "\n",
        "    def forward(self, states, actions):\n",
        "        x = torch.cat((self.l11(states), self.l12(actions)),1)\n",
        "        x = F.silu(x)\n",
        "        x = F.silu(self.l2(x))\n",
        "        x = F.silu(self.l3(x))\n",
        "        x = self.last(x)\n",
        "        return x\n"
      ],
      "execution_count": null,
      "outputs": []
    },
    {
      "cell_type": "markdown",
      "metadata": {
        "id": "RuVbBsAY0e8-"
      },
      "source": [
        "#**Double DQN critic** "
      ]
    },
    {
      "cell_type": "code",
      "metadata": {
        "id": "LxQomVTMs2i9"
      },
      "source": [
        "class Critic(nn.Module):\n",
        "  def __init__(self):\n",
        "    super(Critic, self).__init__()\n",
        "    self.q1 = DQN()\n",
        "    self.q2 = DQN()\n",
        "  \n",
        "  def predict(self, states, actions):\n",
        "    q1 = self.q1(states, actions)\n",
        "    q2 = self.q2(states, actions)\n",
        "    return q1, q2\n",
        "  \n",
        "  def forward(self, states, actions):\n",
        "    q1, q2 = self.predict(states, actions)\n",
        "    return torch.min(q1, q2)\n",
        "  \n",
        "  def Cal_loss(self, expected_critic_values, batch):\n",
        "    q1, q2 = self.predict(batch.states, batch.actions)\n",
        "    loss1 = F.smooth_l1_loss(expected_critic_values, q1)\n",
        "    loss2 = F.smooth_l1_loss(expected_critic_values, q2)\n",
        "    return loss1 + loss2"
      ],
      "execution_count": null,
      "outputs": []
    },
    {
      "cell_type": "markdown",
      "metadata": {
        "id": "x64gwgZd3Nsy"
      },
      "source": [
        "#**Policy network**"
      ]
    },
    {
      "cell_type": "code",
      "metadata": {
        "id": "s6_sGDyYaEU-"
      },
      "source": [
        "class Policy(nn.Module):\n",
        "\n",
        "    def __init__(self, state_dim = 34, action_dim = 1):\n",
        "        super(Policy, self).__init__()\n",
        "\n",
        "        self.action_lim = 4\n",
        "\n",
        "        self.l1 = nn.Linear(state_dim, 64)\n",
        "        self.l2 = nn.Linear(64, 128)\n",
        "        self.l3 = nn.Linear(128, 256)\n",
        "\n",
        "        self.mean_layer = nn.Linear(256, action_dim)\n",
        "        self.mean_layer.weight.data.uniform_(-0.01,0.01)\n",
        "        self.mean_layer.bias.data.fill_(0.01)\n",
        "\n",
        "        self.log_std = nn.Linear(256, action_dim)\n",
        "        self.log_std.weight.data.uniform_(-0.05,0.05)\n",
        "        self.log_std.bias.data.fill_(0.1)\n",
        "\n",
        "\n",
        "    def forward(self, states):\n",
        "\n",
        "        x = F.silu(self.l1(states))\n",
        "        x = F.silu(self.l2(x))\n",
        "        x = F.silu(self.l3(x))\n",
        "\n",
        "        mean = self.mean_layer(x)\n",
        "        std = torch.exp(self.log_std(x).clamp(-20, 2))\n",
        "\n",
        "        return mean, std\n",
        "\n",
        "    def sample(self, states):\n",
        "\n",
        "        mean, std = self.forward(states)\n",
        "        sample = mean + std * torch.randn(mean.size())\n",
        "        action = torch.tanh(sample)\n",
        "        log_probs = Normal(mean,std).log_prob(sample) - torch.log(1 - action**2 + 1e-8)\n",
        "        \n",
        "        return action, log_probs\n",
        "\n",
        "    def choose_action(self, state, training = True):\n",
        "        \n",
        "        with torch.no_grad(): \n",
        "          state = torch.tensor(state, dtype = torch.float).unsqueeze(0)\n",
        "          mean, std = self.forward(state)\n",
        "          sample = mean + std * torch.randn(mean.size()) if training else mean\n",
        "          action = torch.tanh(sample)\n",
        "\n",
        "        return round(action.item(), 5)\n",
        "        "
      ],
      "execution_count": null,
      "outputs": []
    },
    {
      "cell_type": "markdown",
      "metadata": {
        "id": "3IFkhelWzzm9"
      },
      "source": [
        "##Traininig utils"
      ]
    },
    {
      "cell_type": "code",
      "metadata": {
        "id": "TRvMlLXHzgdg"
      },
      "source": [
        "def Optimize(model, optimizer, loss):\n",
        "    optimizer.zero_grad()\n",
        "    loss.backward()\n",
        "    for param in model.parameters():\n",
        "        param.grad.data.clamp_(-1,1) \n",
        "    optimizer.step()"
      ],
      "execution_count": null,
      "outputs": []
    },
    {
      "cell_type": "code",
      "metadata": {
        "id": "XNjMhnOWaVgR"
      },
      "source": [
        "def soft_update(target, source, tau):\n",
        "\tfor a, b in zip(target.parameters(), source.parameters()):\n",
        "\t\ta.data.copy_(a.data * (1.0 - tau) + b.data * tau)"
      ],
      "execution_count": null,
      "outputs": []
    },
    {
      "cell_type": "code",
      "metadata": {
        "id": "QEuYtMFqZNjX"
      },
      "source": [
        "def save(name):\n",
        "  torch.save({\n",
        "            'actor': target_actor.state_dict(),\n",
        "            'critic': target_critic.state_dict(),\n",
        "            'actor_optimizer': actor_optimizer.state_dict(),\n",
        "            'critic_optimizer': critic_optimizer.state_dict(),\n",
        "            }, name)\n"
      ],
      "execution_count": null,
      "outputs": []
    },
    {
      "cell_type": "markdown",
      "metadata": {
        "id": "FgGeSPNx3WZV"
      },
      "source": [
        "#**Reward function**"
      ]
    },
    {
      "cell_type": "code",
      "metadata": {
        "id": "f91SW5tBpP1p"
      },
      "source": [
        "def reward(state, next_state, prev_action, action): \n",
        "  th1 = np.arctan2(state[1], state[0])\n",
        "  th2 = np.arctan2(next_state[1], next_state[0])\n",
        "  reward = (np.abs(th1) - np.abs(th2))*20\n",
        "  reward += (np.abs(next_state[2]) - np.abs(state[2]))*4\n",
        "  dist = np.sqrt((next_state[0] - 1)**2 + next_state[1]**2) \n",
        "  reward += (1 - 4*np.clip(dist, 0, 0.25))*1 \n",
        "  reward -= 1*(prev_action - action)**2\n",
        "  return reward"
      ],
      "execution_count": null,
      "outputs": []
    },
    {
      "cell_type": "markdown",
      "metadata": {
        "id": "DKr4I2IE3Z_m"
      },
      "source": [
        "#**Initialize**\n",
        "###[Soft Actor-Critic](https://spinningup.openai.com/en/latest/algorithms/sac.html)"
      ]
    },
    {
      "cell_type": "code",
      "metadata": {
        "colab": {
          "base_uri": "https://localhost:8080/"
        },
        "id": "-NWtDLcnaVtr",
        "outputId": "d20be1ea-558b-4744-f06b-429188689a64"
      },
      "source": [
        "gamma = 0.99   # discount factor\n",
        "alpha = 0.1     # entropy reward coeff\n",
        "\n",
        "actor = Policy().to(device)\n",
        "critic = Critic().to(device)\n",
        "\n",
        "target_actor = Policy().to(device)\n",
        "target_actor.load_state_dict(actor.state_dict())\n",
        "\n",
        "target_critic = Critic().to(device)\n",
        "target_critic.load_state_dict(critic.state_dict())"
      ],
      "execution_count": null,
      "outputs": [
        {
          "output_type": "execute_result",
          "data": {
            "text/plain": [
              "<All keys matched successfully>"
            ]
          },
          "metadata": {
            "tags": []
          },
          "execution_count": 33
        }
      ]
    },
    {
      "cell_type": "code",
      "metadata": {
        "id": "LeyAwzNbYTgf"
      },
      "source": [
        "actor_optimizer = optim.Adam(actor.parameters(),1e-3)\n",
        "critic_optimizer = optim.Adam(critic.parameters(),1e-3)"
      ],
      "execution_count": null,
      "outputs": []
    },
    {
      "cell_type": "code",
      "metadata": {
        "id": "uYA_5VZ2YWSb"
      },
      "source": [
        "memory = ReplayMemory(300000)"
      ],
      "execution_count": null,
      "outputs": []
    },
    {
      "cell_type": "markdown",
      "metadata": {
        "id": "9DQus03M3bqm"
      },
      "source": [
        "#**Single training step**"
      ]
    },
    {
      "cell_type": "code",
      "metadata": {
        "id": "vK7G1KVMaVow"
      },
      "source": [
        "def train_step():\n",
        "\n",
        "    batch = memory.sample(64)\n",
        "\n",
        "  #---------------------critic training----------------------------------\n",
        "    next_actions, log_probs = actor.sample(batch.next_states)\n",
        "    next_critic_values = target_critic(batch.next_states, next_actions).detach()\n",
        "\n",
        "    expected_critic_values = batch.rewards + gamma*(1-batch.dones)*(next_critic_values - alpha*log_probs)\n",
        "    critic_loss = critic.Cal_loss(expected_critic_values.detach(), batch)\n",
        "\n",
        "    Optimize(critic, critic_optimizer, critic_loss)\n",
        "  #---------------------------------------------------------------------\n",
        "\n",
        "\n",
        "  #-----------------Freeze critic parameters-----------------------------\n",
        "    for param in critic.parameters():\n",
        "        param.requires_grad = False\n",
        "  #------------------------------------------------------------------------\n",
        "\n",
        "\n",
        "  #---------------------actor training----------------------------------\n",
        "    actions, log_probs = actor.sample(batch.states)\n",
        "    critic_value = critic(batch.states, actions)\n",
        "    actor_loss = torch.mean(-critic_value + alpha*log_probs)\n",
        "\n",
        "    Optimize(actor, actor_optimizer, actor_loss)\n",
        "  #-----------------------------------------------------------------------\n",
        "\n",
        "\n",
        "  #--------------------UnFreeze critic parameters-----------------------------\n",
        "    for param in critic.parameters():\n",
        "        param.requires_grad = True\n",
        "  #-------------------------------------------------------------------------\n",
        "\n",
        "\n",
        "  #----------------soft update targets--------------------------------------\n",
        "    soft_update(target_actor, actor, 0.005)\n",
        "    soft_update(target_critic, critic, 0.005)\n",
        "  #-------------------------------------------------------------------------"
      ],
      "execution_count": null,
      "outputs": []
    },
    {
      "cell_type": "code",
      "metadata": {
        "id": "jGxFiCOzafqJ"
      },
      "source": [
        "reward_list = []\n",
        "avg_rewards = []"
      ],
      "execution_count": null,
      "outputs": []
    },
    {
      "cell_type": "markdown",
      "metadata": {
        "id": "XV6XS5Dw3iWp"
      },
      "source": [
        "#**Training**"
      ]
    },
    {
      "cell_type": "code",
      "metadata": {
        "colab": {
          "base_uri": "https://localhost:8080/",
          "height": 941
        },
        "id": "7KIBIkHwaV1d",
        "outputId": "efd48059-6325-4299-e544-56052f70485f"
      },
      "source": [
        "env = FlexibleEnv()\n",
        "\n",
        "for i_episode in tqdm(range(3000)):\n",
        "\n",
        "  state, _ = env.reset()\n",
        "  while np.abs(state[2]) < 0.6 or _: \n",
        "    state, _ = env.reset()\n",
        "\n",
        "  print(state[2])\n",
        "  total_reward = 0\n",
        "  prev_action = None\n",
        "\n",
        "  for steps in range(400):\n",
        "\n",
        "    action = actor.choose_action(state)\n",
        "    if prev_action is None: prev_action = action \n",
        "    next_state, contact = env.step([4*action])\n",
        "    rew = reward(state, next_state, prev_action, action)\n",
        "\n",
        "    done = 0\n",
        "    if contact:\n",
        "      rew = -10\n",
        "      done = 1\n",
        "\n",
        "    memory.add_transition(state, action, next_state, rew, done)\n",
        "\n",
        "    total_reward += rew\n",
        "    state = next_state\n",
        "    prev_action = action\n",
        "\n",
        "    if done: \n",
        "      print(steps)\n",
        "      break\n",
        "\n",
        "  if len(memory) > 2000: \n",
        "    for _ in range(200):   \n",
        "      train_step()\n",
        "\n",
        "  reward_list.append(total_reward)\n",
        "  avg_rewards.append(np.mean(reward_list[-40:])) \n",
        "\n",
        "  plot(avg_rewards[-100:])\n"
      ],
      "execution_count": null,
      "outputs": [
        {
          "output_type": "display_data",
          "data": {
            "image/png": "[encoded data removed]",
            "text/plain": [
              "<Figure size 432x288 with 1 Axes>"
            ]
          },
          "metadata": {
            "tags": []
          }
        },
        {
          "output_type": "stream",
          "text": [
            "\n",
            "\n",
            " 20%|██        | 607/3000 [2:23:38<7:03:26, 10.62s/it]\u001b[A\u001b[A"
          ],
          "name": "stderr"
        },
        {
          "output_type": "stream",
          "text": [
            "1.047426945417714\n"
          ],
          "name": "stdout"
        },
        {
          "output_type": "error",
          "ename": "KeyboardInterrupt",
          "evalue": "ignored",
          "traceback": [
            "\u001b[0;31m---------------------------------------------------------------------------\u001b[0m",
            "\u001b[0;31mKeyboardInterrupt\u001b[0m                         Traceback (most recent call last)",
            "\u001b[0;32m<ipython-input-55-659e82a8e47e>\u001b[0m in \u001b[0;36m<module>\u001b[0;34m()\u001b[0m\n\u001b[1;32m     15\u001b[0m     \u001b[0maction\u001b[0m \u001b[0;34m=\u001b[0m \u001b[0mactor\u001b[0m\u001b[0;34m.\u001b[0m\u001b[0mchoose_action\u001b[0m\u001b[0;34m(\u001b[0m\u001b[0mstate\u001b[0m\u001b[0;34m)\u001b[0m\u001b[0;34m\u001b[0m\u001b[0;34m\u001b[0m\u001b[0m\n\u001b[1;32m     16\u001b[0m     \u001b[0;32mif\u001b[0m \u001b[0mprev_action\u001b[0m \u001b[0;32mis\u001b[0m \u001b[0;32mNone\u001b[0m\u001b[0;34m:\u001b[0m \u001b[0mprev_action\u001b[0m \u001b[0;34m=\u001b[0m \u001b[0maction\u001b[0m\u001b[0;34m\u001b[0m\u001b[0;34m\u001b[0m\u001b[0m\n\u001b[0;32m---> 17\u001b[0;31m     \u001b[0mnext_state\u001b[0m\u001b[0;34m,\u001b[0m \u001b[0mcontact\u001b[0m \u001b[0;34m=\u001b[0m \u001b[0menv\u001b[0m\u001b[0;34m.\u001b[0m\u001b[0mstep\u001b[0m\u001b[0;34m(\u001b[0m\u001b[0;34m[\u001b[0m\u001b[0;36m4\u001b[0m\u001b[0;34m*\u001b[0m\u001b[0maction\u001b[0m\u001b[0;34m]\u001b[0m\u001b[0;34m)\u001b[0m\u001b[0;34m\u001b[0m\u001b[0;34m\u001b[0m\u001b[0m\n\u001b[0m\u001b[1;32m     18\u001b[0m     \u001b[0mrew\u001b[0m \u001b[0;34m=\u001b[0m \u001b[0mreward\u001b[0m\u001b[0;34m(\u001b[0m\u001b[0mstate\u001b[0m\u001b[0;34m,\u001b[0m \u001b[0mnext_state\u001b[0m\u001b[0;34m,\u001b[0m \u001b[0mprev_action\u001b[0m\u001b[0;34m,\u001b[0m \u001b[0maction\u001b[0m\u001b[0;34m)\u001b[0m\u001b[0;34m\u001b[0m\u001b[0;34m\u001b[0m\u001b[0m\n\u001b[1;32m     19\u001b[0m \u001b[0;34m\u001b[0m\u001b[0m\n",
            "\u001b[0;32m<ipython-input-12-f10dacbf773e>\u001b[0m in \u001b[0;36mstep\u001b[0;34m(self, u, dt)\u001b[0m\n\u001b[1;32m     71\u001b[0m     \u001b[0mself\u001b[0m\u001b[0;34m.\u001b[0m\u001b[0mplant\u001b[0m\u001b[0;34m.\u001b[0m\u001b[0mget_actuation_input_port\u001b[0m\u001b[0;34m(\u001b[0m\u001b[0;34m)\u001b[0m\u001b[0;34m.\u001b[0m\u001b[0mFixValue\u001b[0m\u001b[0;34m(\u001b[0m\u001b[0mself\u001b[0m\u001b[0;34m.\u001b[0m\u001b[0mplant_context\u001b[0m\u001b[0;34m,\u001b[0m \u001b[0mu\u001b[0m\u001b[0;34m)\u001b[0m\u001b[0;34m\u001b[0m\u001b[0;34m\u001b[0m\u001b[0m\n\u001b[1;32m     72\u001b[0m     \u001b[0;31m#Advance to next step\u001b[0m\u001b[0;34m\u001b[0m\u001b[0;34m\u001b[0m\u001b[0;34m\u001b[0m\u001b[0m\n\u001b[0;32m---> 73\u001b[0;31m     \u001b[0mself\u001b[0m\u001b[0;34m.\u001b[0m\u001b[0msimulator\u001b[0m\u001b[0;34m.\u001b[0m\u001b[0mAdvanceTo\u001b[0m\u001b[0;34m(\u001b[0m\u001b[0mself\u001b[0m\u001b[0;34m.\u001b[0m\u001b[0mtime\u001b[0m \u001b[0;34m+\u001b[0m \u001b[0mdt\u001b[0m\u001b[0;34m)\u001b[0m\u001b[0;34m\u001b[0m\u001b[0;34m\u001b[0m\u001b[0m\n\u001b[0m\u001b[1;32m     74\u001b[0m     \u001b[0mself\u001b[0m\u001b[0;34m.\u001b[0m\u001b[0mtime\u001b[0m \u001b[0;34m+=\u001b[0m \u001b[0mdt\u001b[0m\u001b[0;34m\u001b[0m\u001b[0;34m\u001b[0m\u001b[0m\n\u001b[1;32m     75\u001b[0m     \u001b[0;31m#return current state\u001b[0m\u001b[0;34m\u001b[0m\u001b[0;34m\u001b[0m\u001b[0;34m\u001b[0m\u001b[0m\n",
            "\u001b[0;31mKeyboardInterrupt\u001b[0m: "
          ]
        },
        {
          "output_type": "display_data",
          "data": {
            "image/png": "[encoded data removed]",
            "text/plain": [
              "<Figure size 432x288 with 1 Axes>"
            ]
          },
          "metadata": {
            "tags": [],
            "needs_background": "light"
          }
        }
      ]
    },
    {
      "cell_type": "code",
      "metadata": {
        "id": "b4UVSVyL0GgJ"
      },
      "source": [
        "env = FlexibleEnv()\n",
        "actor.choose_action(state)"
      ],
      "execution_count": null,
      "outputs": []
    },
    {
      "cell_type": "code",
      "metadata": {
        "id": "gD0YVjHwGNNl"
      },
      "source": [
        "save('bes332obs')"
      ],
      "execution_count": null,
      "outputs": []
    },
    {
      "cell_type": "code",
      "metadata": {
        "id": "BBH0k0OOZg30"
      },
      "source": [
        "from google.colab import files"
      ],
      "execution_count": null,
      "outputs": []
    },
    {
      "cell_type": "code",
      "metadata": {
        "id": "gJveyhMo8MBN",
        "colab": {
          "base_uri": "https://localhost:8080/",
          "height": 16
        },
        "outputId": "a733a65b-fc1f-49d3-ce50-f7d27a4446e2"
      },
      "source": [
        "files.download('bes332obs')"
      ],
      "execution_count": null,
      "outputs": [
        {
          "output_type": "display_data",
          "data": {
            "application/javascript": [
              "\n",
              "    async function download(id, filename, size) {\n",
              "      if (!google.colab.kernel.accessAllowed) {\n",
              "        return;\n",
              "      }\n",
              "      const div = document.createElement('div');\n",
              "      const label = document.createElement('label');\n",
              "      label.textContent = `Downloading \"${filename}\": `;\n",
              "      div.appendChild(label);\n",
              "      const progress = document.createElement('progress');\n",
              "      progress.max = size;\n",
              "      div.appendChild(progress);\n",
              "      document.body.appendChild(div);\n",
              "\n",
              "      const buffers = [];\n",
              "      let downloaded = 0;\n",
              "\n",
              "      const channel = await google.colab.kernel.comms.open(id);\n",
              "      // Send a message to notify the kernel that we're ready.\n",
              "      channel.send({})\n",
              "\n",
              "      for await (const message of channel.messages) {\n",
              "        // Send a message to notify the kernel that we're ready.\n",
              "        channel.send({})\n",
              "        if (message.buffers) {\n",
              "          for (const buffer of message.buffers) {\n",
              "            buffers.push(buffer);\n",
              "            downloaded += buffer.byteLength;\n",
              "            progress.value = downloaded;\n",
              "          }\n",
              "        }\n",
              "      }\n",
              "      const blob = new Blob(buffers, {type: 'application/binary'});\n",
              "      const a = document.createElement('a');\n",
              "      a.href = window.URL.createObjectURL(blob);\n",
              "      a.download = filename;\n",
              "      div.appendChild(a);\n",
              "      a.click();\n",
              "      div.remove();\n",
              "    }\n",
              "  "
            ],
            "text/plain": [
              "<IPython.core.display.Javascript object>"
            ]
          },
          "metadata": {
            "tags": []
          }
        },
        {
          "output_type": "display_data",
          "data": {
            "application/javascript": [
              "download(\"download_a7b5a6c0-9cb9-4396-afe5-8971543e90e4\", \"bes332obs\", 1621785)"
            ],
            "text/plain": [
              "<IPython.core.display.Javascript object>"
            ]
          },
          "metadata": {
            "tags": []
          }
        }
      ]
    },
    {
      "cell_type": "code",
      "metadata": {
        "id": "09PdQihvhb5q"
      },
      "source": [
        "files.upload()"
      ],
      "execution_count": null,
      "outputs": []
    },
    {
      "cell_type": "code",
      "metadata": {
        "id": "WMP3fGnf-XlF"
      },
      "source": [
        "state = torch.load('bes332obs', map_location = device)"
      ],
      "execution_count": null,
      "outputs": []
    },
    {
      "cell_type": "code",
      "metadata": {
        "colab": {
          "base_uri": "https://localhost:8080/"
        },
        "id": "6G_UYxK--eYg",
        "outputId": "1c92a1a3-6019-4e58-c400-fd46e2aa0cae"
      },
      "source": [
        "actor.load_state_dict(state['actor'])\n",
        "critic.load_state_dict(state['critic'])\n",
        "actor_optimizer.load_state_dict(state['actor_optimizer'])\n",
        "critic_optimizer.load_state_dict(state['critic_optimizer'])\n",
        "\n",
        "target_actor.load_state_dict(actor.state_dict())\n",
        "target_critic.load_state_dict(critic.state_dict())"
      ],
      "execution_count": null,
      "outputs": [
        {
          "output_type": "execute_result",
          "data": {
            "text/plain": [
              "<All keys matched successfully>"
            ]
          },
          "metadata": {
            "tags": []
          },
          "execution_count": 39
        }
      ]
    },
    {
      "cell_type": "markdown",
      "metadata": {
        "id": "8G5n4M2X3ooN"
      },
      "source": [
        "#Test Learned Policy"
      ]
    },
    {
      "cell_type": "code",
      "metadata": {
        "id": "nIuoqktphfPo"
      },
      "source": [
        "proc, zmq_url, web_url = start_zmq_server_as_subprocess(server_args=server_args)"
      ],
      "execution_count": 64,
      "outputs": []
    },
    {
      "cell_type": "code",
      "metadata": {
        "id": "f6HU1nuWiOKN"
      },
      "source": [
        "env = FlexibleEnv()\n",
        "def Go_to(goal = np.pi/2, init_state = None):\n",
        "\n",
        "  goal_state = 1\n",
        "  goal = goal/np.pi\n",
        "\n",
        "  env.start_recording(init_state)\n",
        "\n",
        "  us = []\n",
        "\n",
        "  for i in range(500):\n",
        "\n",
        "      S,_ = env.get_state\n",
        "\n",
        "      u = actor.choose_action(S, False)\n",
        "      us.append(4*u)\n",
        "      state = env.step([4*u])\n",
        "\n",
        "  env.stop_recording()\n",
        "  plt.plot([i*0.01 for i in range(len(us))], us)\n",
        "  plt.xlabel('time')\n",
        "  plt.ylabel('torque')\n",
        "  plt.title(f'Torque vs Time')\n",
        "\n",
        "\n",
        "  #Add target angle Marker in visualiser\n",
        "  R = RollPitchYaw([np.pi/4, 0, 0])\n",
        "  T = RigidTransform(R, [0.0625,0,0]).GetAsMatrix4()\n",
        "  AddTriad(env.visualizer.vis, name='target', prefix='', length=0.25, radius=0.003, opacity=0.8)\n",
        "  env.visualizer.vis['']['target'].set_transform(T)"
      ],
      "execution_count": 65,
      "outputs": []
    },
    {
      "cell_type": "code",
      "metadata": {
        "colab": {
          "base_uri": "https://localhost:8080/",
          "height": 363
        },
        "id": "vHu2IRe5Sjzd",
        "outputId": "8195b040-8558-4754-9942-8a1ad2c3b6ce"
      },
      "source": [
        "Go_to(0, [np.pi,0,0,0])\n",
        "\n",
        "# env.get_state"
      ],
      "execution_count": 66,
      "outputs": [
        {
          "output_type": "stream",
          "text": [
            "Connecting to meshcat-server at zmq_url=tcp://127.0.0.1:6005...\n",
            "You can open the visualizer by visiting the following URL:\n",
            "http://4799dfddcd1e.ngrok.io/static/\n",
            "Connected to meshcat-server.\n"
          ],
          "name": "stdout"
        },
        {
          "output_type": "display_data",
          "data": {
            "image/png": "[encoded data removed]",
            "text/plain": [
              "<Figure size 432x288 with 1 Axes>"
            ]
          },
          "metadata": {
            "tags": [],
            "needs_background": "light"
          }
        }
      ]
    },
    {
      "cell_type": "code",
      "metadata": {
        "id": "3zhTCoH830IT"
      },
      "source": [
        ""
      ],
      "execution_count": null,
      "outputs": []
    }
  ]
}