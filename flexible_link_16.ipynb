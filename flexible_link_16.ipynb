{
  "nbformat": 4,
  "nbformat_minor": 0,
  "metadata": {
    "colab": {
      "name": "flexible-link-16.ipynb",
      "provenance": [],
      "collapsed_sections": [],
      "include_colab_link": true
    },
    "kernelspec": {
      "display_name": "Python 3",
      "name": "python3"
    },
    "language_info": {
      "name": "python"
    },
    "accelerator": "GPU"
  },
  "cells": [
    {
      "cell_type": "markdown",
      "metadata": {
        "id": "view-in-github",
        "colab_type": "text"
      },
      "source": [
        "<a href=\"https://colab.research.google.com/github/Bharath2/cube/blob/master/flexible_link_16.ipynb\" target=\"_parent\"><img src=\"https://colab.research.google.com/assets/colab-badge.svg\" alt=\"Open In Colab\"/></a>"
      ]
    },
    {
      "cell_type": "markdown",
      "metadata": {
        "id": "gcmzMIIcKVV1"
      },
      "source": [
        "#**PyDrake Setup**"
      ]
    },
    {
      "cell_type": "code",
      "metadata": {
        "id": "tffe6Auv-HdA",
        "colab": {
          "base_uri": "https://localhost:8080/"
        },
        "outputId": "ab4106bc-01b1-4fae-d765-0f1cb1074d7e"
      },
      "source": [
        "import importlib\n",
        "import sys\n",
        "from urllib.request import urlretrieve\n",
        "\n",
        "# Install drake (and underactuated).\n",
        "if 'google.colab' in sys.modules and importlib.util.find_spec('underactuated') is None:\n",
        "    urlretrieve(f\"http://underactuated.csail.mit.edu/scripts/setup/setup_underactuated_colab.py\",\n",
        "                \"setup_underactuated_colab.py\")\n",
        "    from setup_underactuated_colab import setup_underactuated\n",
        "    setup_underactuated(underactuated_sha='15cfd96b0bdfd1b0c67597c24f91907776c02a6d', drake_version='0.27.0', drake_build='release')\n",
        "\n",
        "!pip install recordclass"
      ],
      "execution_count": null,
      "outputs": [
        {
          "output_type": "stream",
          "text": [
            "Cloning into '/opt/underactuated'...\n",
            "\n",
            "HEAD is now at 15cfd96 and again\n",
            "\n",
            "ERROR: torchtext 0.9.1 has requirement torch==1.8.1, but you'll have torch 1.7.1 which is incompatible.\n",
            "ERROR: bokeh 2.3.1 has requirement pillow>=7.1.0, but you'll have pillow 7.0.0 which is incompatible.\n",
            "ERROR: albumentations 0.1.12 has requirement imgaug<0.2.7,>=0.2.5, but you'll have imgaug 0.2.9 which is incompatible.\n",
            "\n",
            "\n",
            "WARNING: apt does not have a stable CLI interface. Use with caution in scripts.\n",
            "\n",
            "\n",
            "Collecting recordclass\n",
            "\u001b[?25l  Downloading https://files.pythonhosted.org/packages/0f/8c/ca5a806a523c554cc89ba648d26ddafe7be27b1a711819bed4f74999bf8a/recordclass-0.14.3.tar.gz (156kB)\n",
            "\u001b[K     |████████████████████████████████| 163kB 4.4MB/s \n",
            "\u001b[?25hBuilding wheels for collected packages: recordclass\n",
            "  Building wheel for recordclass (setup.py) ... \u001b[?25l\u001b[?25hdone\n",
            "  Created wheel for recordclass: filename=recordclass-0.14.3-cp37-cp37m-linux_x86_64.whl size=344681 sha256=abc63c2666df1385f66eefab4697003579b5d45a8eb09ddfd1f28ad434fb58c9\n",
            "  Stored in directory: /root/.cache/pip/wheels/c2/fa/9f/abec56a7c5d6843a053f2aa53166c556be33c169438c57e483\n",
            "Successfully built recordclass\n",
            "Installing collected packages: recordclass\n",
            "Successfully installed recordclass-0.14.3\n"
          ],
          "name": "stdout"
        }
      ]
    },
    {
      "cell_type": "markdown",
      "metadata": {
        "id": "cIrP3-rHMveS"
      },
      "source": [
        "###setup meshcat server"
      ]
    },
    {
      "cell_type": "code",
      "metadata": {
        "id": "EL7Frf0HMgW3"
      },
      "source": [
        "server_args = ['--ngrok_http_tunnel']\n",
        "\n",
        "from meshcat.servers.zmqserver import start_zmq_server_as_subprocess\n",
        "proc, zmq_url, web_url = start_zmq_server_as_subprocess(server_args=server_args)"
      ],
      "execution_count": null,
      "outputs": []
    },
    {
      "cell_type": "markdown",
      "metadata": {
        "id": "qk41owg2Kapp"
      },
      "source": [
        "#**import modules**"
      ]
    },
    {
      "cell_type": "code",
      "metadata": {
        "id": "5n9itCFG_ZbX"
      },
      "source": [
        "import time\n",
        "import numpy as np\n",
        "from tqdm import tqdm\n",
        "import matplotlib.pyplot as plt\n",
        "from itertools import count\n",
        "\n",
        "\n",
        "from pydrake.all import (\n",
        "    DiagramBuilder, SceneGraph, Simulator, RigidTransform, \n",
        "    AddMultibodyPlantSceneGraph, Parser, RotationMatrix, PlanarSceneGraphVisualizer,\n",
        "    LeafSystem, BasicVector, RevoluteSpring, AddTriad, RollPitchYaw\n",
        ")\n",
        "\n",
        "import pydrake.systems.meshcat_visualizer as meshcat_visualizer"
      ],
      "execution_count": null,
      "outputs": []
    },
    {
      "cell_type": "markdown",
      "metadata": {
        "id": "f9Wi1KTbKjOP"
      },
      "source": [
        "#**URDF**"
      ]
    },
    {
      "cell_type": "code",
      "metadata": {
        "colab": {
          "base_uri": "https://localhost:8080/"
        },
        "id": "EksRwm2otvAL",
        "outputId": "3480648a-4b4b-4289-ef7d-a68204bf4f51"
      },
      "source": [
        "!pip install xacro"
      ],
      "execution_count": null,
      "outputs": [
        {
          "output_type": "stream",
          "text": [
            "Requirement already satisfied: xacro in /usr/local/lib/python3.7/dist-packages (1.13.3)\n"
          ],
          "name": "stdout"
        }
      ]
    },
    {
      "cell_type": "code",
      "metadata": {
        "id": "7SFndMAs3TH7",
        "colab": {
          "base_uri": "https://localhost:8080/"
        },
        "outputId": "06777feb-825b-4a0f-dc79-602fafc71058"
      },
      "source": [
        "%%file model\n",
        "<?xml version=\"1.0\"?>\n",
        "\n",
        "<robot xmlns:xacro=\"http://www.ros.org/wiki/xacro\" name=\"RR\">\n",
        "\n",
        "  <xacro:macro name=\"Link\" params=\"id damping color\">\n",
        "  <link name=\"link${id}\">\n",
        "    <inertial>\n",
        "      <origin xyz=\"0 0 0\" rpy=\"0 0 0\" />\n",
        "      <mass value=\"0.125\" />\n",
        "      <inertia ixx=\"0.02\" ixy=\"0\" ixz=\"0\" iyy=\"0.02\" iyz=\"0\" izz=\"0.02\" />\n",
        "    </inertial>\n",
        "    <visual>\n",
        "      <origin xyz=\"0.0625 0 0\" rpy=\"0 0 0\" />\n",
        "      <geometry>\n",
        "        <box size=\"0.125 0.1 0.05\"/>\n",
        "      </geometry>\n",
        "      <material>\n",
        "        <color rgba=\"${color} 1\" />\n",
        "      </material>\n",
        "    </visual>\n",
        "  </link>\n",
        "\n",
        "  <joint name=\"theta${id}\" type=\"continuous\">\n",
        "    <parent link=\"link${id-1}\" />\n",
        "    <child link=\"link${id}\" />\n",
        "    <origin rpy=\"0 0 0\" xyz=\"0.125 0 0\" />\n",
        "    <axis xyz=\"0 0 1\" />\n",
        "    <dynamics damping=\"${damping}\" />\n",
        "  </joint>\n",
        "\n",
        "  </xacro:macro>\n",
        "\n",
        "  <link name=\"link0\">\n",
        "    <visual>\n",
        "      <origin xyz=\"0.125 0 -0.125\" rpy=\"0 0 0\" />\n",
        "      <geometry>\n",
        "        <cylinder length=\".1\" radius=\".053\"  />\n",
        "      </geometry>\n",
        "      <material>\n",
        "        <color rgba=\"0.5 0.5 0.5 1\" />\n",
        "      </material>\n",
        "    </visual>\n",
        "  </link>\n",
        "\n",
        "  <joint name=\"fixed1\" type=\"fixed\">\n",
        "    <parent link=\"world\" />\n",
        "    <child link=\"link0\" />\n",
        "  </joint>\n",
        "\n",
        "  <xacro:Link id = \"1\" damping = \"0.1\" color = \"0.2 0.3 0.9\"/>\n",
        "  <xacro:Link id = \"2\" damping = \"0.1\" color = \"0.9 0.3 0.2\"/>\n",
        "  <xacro:Link id = \"3\" damping = \"0.1\" color = \"0.2 0.3 0.9\"/>\n",
        "  <xacro:Link id = \"4\" damping = \"0.1\" color = \"0.9 0.3 0.2\"/>\n",
        "  <xacro:Link id = \"5\" damping = \"0.1\" color = \"0.2 0.3 0.9\"/>\n",
        "  <xacro:Link id = \"6\" damping = \"0.1\" color = \"0.9 0.3 0.2\"/>\n",
        "  <xacro:Link id = \"7\" damping = \"0.1\" color = \"0.2 0.3 0.9\"/>\n",
        "  <xacro:Link id = \"8\" damping = \"0.1\" color = \"0.9 0.3 0.2\"/>\n",
        "  <xacro:Link id = \"9\" damping = \"0.1\" color = \"0.2 0.3 0.9\"/>\n",
        "  <xacro:Link id = \"10\" damping = \"0.1\" color = \"0.9 0.3 0.2\"/>\n",
        "  <xacro:Link id = \"11\" damping = \"0.1\" color = \"0.2 0.3 0.9\"/>\n",
        "  <xacro:Link id = \"12\" damping = \"0.1\" color = \"0.9 0.3 0.2\"/>\n",
        "  <xacro:Link id = \"13\" damping = \"0.1\" color = \"0.2 0.3 0.9\"/>\n",
        "  <xacro:Link id = \"14\" damping = \"0.1\" color = \"0.9 0.3 0.2\"/>\n",
        "  <xacro:Link id = \"15\" damping = \"0.1\" color = \"0.2 0.3 0.9\"/>\n",
        "  <xacro:Link id = \"16\" damping = \"0.1\" color = \"0.9 0.3 0.2\"/>\n",
        "\n",
        "  <transmission type=\"SimpleTransmission\" name=\"j1\">\n",
        "    <actuator name=\"torque1\" />\n",
        "    <joint name=\"theta1\" />\n",
        "    <mechanicalReduction>1</mechanicalReduction>\n",
        "  </transmission>\n",
        "\n",
        "</robot>"
      ],
      "execution_count": null,
      "outputs": [
        {
          "output_type": "stream",
          "text": [
            "Overwriting model\n"
          ],
          "name": "stdout"
        }
      ]
    },
    {
      "cell_type": "code",
      "metadata": {
        "colab": {
          "base_uri": "https://localhost:8080/"
        },
        "id": "mnMXuPlttyO5",
        "outputId": "b40ee5b1-8341-4fde-f9e1-36e9478b7558"
      },
      "source": [
        "!xacro model -o model.urdf"
      ],
      "execution_count": null,
      "outputs": [
        {
          "output_type": "stream",
          "text": [
            "\u001b[93mNo module named 'rosgraph'\u001b[0m\n",
            "\n"
          ],
          "name": "stdout"
        }
      ]
    },
    {
      "cell_type": "markdown",
      "metadata": {
        "id": "tdi_lMgXKwYO"
      },
      "source": [
        "#Flexible Env class based on pydrake simulator\n",
        "\n",
        "* joint damping coeff: 1 N.m.s\n",
        "\n",
        "* joint stiffness: 5 N/m"
      ]
    },
    {
      "cell_type": "code",
      "metadata": {
        "id": "AW9QhAzX-kNE"
      },
      "source": [
        "def angle_normalize(x):\n",
        "    return (((x+np.pi) % (2*np.pi)) - np.pi)/np.pi\n",
        "\n",
        "class FlexibleEnv():\n",
        "\n",
        "  def __init__(self):\n",
        "    self.Setup()\n",
        "    self.reset()\n",
        "\n",
        "  def Setup(self, visualize = False):\n",
        "    builder = DiagramBuilder()\n",
        "    plant, scene_graph = AddMultibodyPlantSceneGraph(builder, time_step = 0.0)\n",
        "    parse_ins = Parser(plant).AddModelFromFile('./model.urdf')\n",
        "    #Add Revolute spring\n",
        "    for i in range(2,17):\n",
        "      plant.AddForceElement(RevoluteSpring(plant.GetJointByName(f\"theta{i}\", parse_ins), 0, 5))\n",
        "    plant.Finalize()\n",
        "    self.plant = plant\n",
        "\n",
        "    # Setup visualization\n",
        "    self.visualizer = None\n",
        "    if visualize:\n",
        "      self.visualizer = meshcat_visualizer.ConnectMeshcatVisualizer(\n",
        "                builder, \n",
        "                scene_graph = scene_graph, \n",
        "                zmq_url = zmq_url, \n",
        "                delete_prefix_on_load=True)\n",
        "      #set planar view instead of 3d view\n",
        "      self.visualizer.set_planar_viewpoint(camera_position=[0, 0, 1], \n",
        "                                  xmin=-3, xmax=1, ymin=-2, ymax=2)\n",
        "    \n",
        "    self.diagram = builder.Build()\n",
        "\n",
        "\n",
        "  def reset(self, init_state = None):\n",
        "    #reset time and simulator\n",
        "    self.time = 0\n",
        "    self.context = self.diagram.CreateDefaultContext()\n",
        "    self.plant_context = self.plant.GetMyMutableContextFromRoot(self.context)\n",
        "    self.simulator = Simulator(self.diagram, self.context)\n",
        "    #set initial state\n",
        "    self.set_state(init_state)\n",
        "    return self.get_state\n",
        "  \n",
        "  def set_state(self, init_state = None):\n",
        "    if not init_state:\n",
        "      init_state = np.random.uniform(-1,1,4)\n",
        "      init_state = init_state * [np.pi, 1, np.pi/6, 0.1]\n",
        "    init_state = [init_state[0]] + [init_state[1]/8]*15 + [init_state[2]] + [init_state[3]/8]*15\n",
        "    self.plant_context.SetContinuousState(init_state)\n",
        "\n",
        "  @property\n",
        "  def get_state(self):\n",
        "    #get current state from plant\n",
        "    state = self.plant.get_state_output_port().Eval(self.plant_context)\n",
        "    state[0] = angle_normalize(state[0])\n",
        "    return state\n",
        "\n",
        "\n",
        "  def step(self, u, dt = 0.05):\n",
        "    #Set joint torque with input\n",
        "    self.plant.get_actuation_input_port().FixValue(self.plant_context, u)\n",
        "    #Advance to next step\n",
        "    self.simulator.AdvanceTo(self.time + dt)\n",
        "    self.time += dt\n",
        "    #return current state\n",
        "    return self.get_state\n",
        "  \n",
        "  \n",
        "  def start_recording(self, init_state = None):\n",
        "    self.Setup(True)\n",
        "    self.reset(init_state)\n",
        "    self.visualizer.load()\n",
        "    self.visualizer.start_recording()\n",
        "  \n",
        "  def stop_recording(self):\n",
        "    self.visualizer.stop_recording()\n",
        "    self.visualizer.publish_recording()\n",
        "\n",
        "  def render(self, model, init_state = None):\n",
        "    self.start_recording(init_state)\n",
        "    \n",
        "    for i in range(200):\n",
        "      u = model(self.get_state)\n",
        "      self.step(u)\n",
        "    \n",
        "    self.stop_recording()\n"
      ],
      "execution_count": null,
      "outputs": []
    },
    {
      "cell_type": "markdown",
      "metadata": {
        "id": "RpCjIwJF1kqs"
      },
      "source": [
        "##**Test Env**"
      ]
    },
    {
      "cell_type": "code",
      "metadata": {
        "colab": {
          "base_uri": "https://localhost:8080/"
        },
        "id": "aZ2lxCht2yQX",
        "outputId": "629d0b6e-4a23-4495-8a05-d06196bec705"
      },
      "source": [
        "angle_normalize(np.pi-0.01)"
      ],
      "execution_count": null,
      "outputs": [
        {
          "output_type": "execute_result",
          "data": {
            "text/plain": [
              "0.9968169011381621"
            ]
          },
          "metadata": {
            "tags": []
          },
          "execution_count": 47
        }
      ]
    },
    {
      "cell_type": "code",
      "metadata": {
        "id": "j9wLR6CAG5yp"
      },
      "source": [
        "env = FlexibleEnv()"
      ],
      "execution_count": null,
      "outputs": []
    },
    {
      "cell_type": "code",
      "metadata": {
        "id": "ubjPFl03g_km",
        "colab": {
          "base_uri": "https://localhost:8080/"
        },
        "outputId": "75a8a66c-51be-4792-df58-997af16c6534"
      },
      "source": [
        "env.reset([-np.pi/4,0,0,0])"
      ],
      "execution_count": null,
      "outputs": [
        {
          "output_type": "execute_result",
          "data": {
            "text/plain": [
              "array([-0.25,  0.  ,  0.  ,  0.  ,  0.  ,  0.  ,  0.  ,  0.  ,  0.  ,\n",
              "        0.  ,  0.  ,  0.  ,  0.  ,  0.  ,  0.  ,  0.  ,  0.  ,  0.  ,\n",
              "        0.  ,  0.  ,  0.  ,  0.  ,  0.  ,  0.  ,  0.  ,  0.  ,  0.  ,\n",
              "        0.  ,  0.  ,  0.  ,  0.  ,  0.  ])"
            ]
          },
          "metadata": {
            "tags": []
          },
          "execution_count": 49
        }
      ]
    },
    {
      "cell_type": "code",
      "metadata": {
        "colab": {
          "base_uri": "https://localhost:8080/"
        },
        "id": "lHg0lBqYg51N",
        "outputId": "b5575a0c-07c2-45e2-83f8-1e8dc77b1b0b"
      },
      "source": [
        "env.get_state"
      ],
      "execution_count": null,
      "outputs": [
        {
          "output_type": "execute_result",
          "data": {
            "text/plain": [
              "array([-0.25,  0.  ,  0.  ,  0.  ,  0.  ,  0.  ,  0.  ,  0.  ,  0.  ,\n",
              "        0.  ,  0.  ,  0.  ,  0.  ,  0.  ,  0.  ,  0.  ,  0.  ,  0.  ,\n",
              "        0.  ,  0.  ,  0.  ,  0.  ,  0.  ,  0.  ,  0.  ,  0.  ,  0.  ,\n",
              "        0.  ,  0.  ,  0.  ,  0.  ,  0.  ])"
            ]
          },
          "metadata": {
            "tags": []
          },
          "execution_count": 50
        }
      ]
    },
    {
      "cell_type": "code",
      "metadata": {
        "colab": {
          "base_uri": "https://localhost:8080/"
        },
        "id": "GQbvVgOgMLdm",
        "outputId": "75fd8bcf-70ed-46f7-9202-d9ca9ed89b5d"
      },
      "source": [
        "# env.start_recording()\n",
        "\n",
        "#env.step(joint_torques, duration)\n",
        "env.step([-3], 0.02) \n",
        "# env.step([1],6)\n",
        "# env.step([-1],3)\n",
        "\n",
        "# env.stop_recording()"
      ],
      "execution_count": null,
      "outputs": [
        {
          "output_type": "execute_result",
          "data": {
            "text/plain": [
              "array([-2.56512050e-01,  2.51122439e-02, -4.45656934e-04, -1.10559639e-03,\n",
              "       -8.31882918e-04, -6.09901982e-04, -4.47064930e-04, -3.28046766e-04,\n",
              "       -2.41190526e-04, -1.77981140e-04, -1.32221617e-04, -9.94257039e-05,\n",
              "       -7.63780630e-05, -6.08180507e-05, -5.11719145e-05, -4.47975750e-05,\n",
              "       -1.96490860e+00,  2.36422346e+00,  1.53277533e-02, -1.06529654e-01,\n",
              "       -8.26029906e-02, -6.06198605e-02, -4.44216024e-02, -3.25841930e-02,\n",
              "       -2.39482678e-02, -1.76654429e-02, -1.31184411e-02, -9.86051669e-03,\n",
              "       -7.57156676e-03, -6.02642153e-03, -5.06323261e-03, -4.33055040e-03])"
            ]
          },
          "metadata": {
            "tags": []
          },
          "execution_count": 51
        }
      ]
    },
    {
      "cell_type": "markdown",
      "metadata": {
        "id": "agrBH0IWLg2L"
      },
      "source": [
        "##Apply constant torque"
      ]
    },
    {
      "cell_type": "code",
      "metadata": {
        "colab": {
          "base_uri": "https://localhost:8080/"
        },
        "id": "rk8Bx8UMUlan",
        "outputId": "22ca1f93-f2f1-4811-daf9-fd05725c8f50"
      },
      "source": [
        "def model(state):\n",
        "  return [1]\n",
        "  \n",
        "env.render(model)"
      ],
      "execution_count": null,
      "outputs": [
        {
          "output_type": "stream",
          "text": [
            "Connecting to meshcat-server at zmq_url=tcp://127.0.0.1:6001...\n",
            "You can open the visualizer by visiting the following URL:\n",
            "http://337119e20561.ngrok.io/static/\n",
            "Connected to meshcat-server.\n"
          ],
          "name": "stdout"
        }
      ]
    },
    {
      "cell_type": "markdown",
      "metadata": {
        "id": "3zbznUay2vjk"
      },
      "source": [
        "#Import Torch"
      ]
    },
    {
      "cell_type": "code",
      "metadata": {
        "id": "AG2zB2ptZ92s"
      },
      "source": [
        "import torch\n",
        "import torch.nn as nn\n",
        "import torch.optim as optim\n",
        "import torch.nn.functional as F\n",
        "from torch.distributions.normal import Normal\n",
        "\n",
        "# if gpu is to be used\n",
        "if torch.cuda.is_available():\n",
        "  device = torch.device(\"cuda\")\n",
        "  torch.set_default_tensor_type(torch.cuda.FloatTensor)\n",
        "else:\n",
        "  device = torch.device(\"cpu\")\n",
        "  torch.set_default_tensor_type(torch.FloatTensor)"
      ],
      "execution_count": null,
      "outputs": []
    },
    {
      "cell_type": "markdown",
      "metadata": {
        "id": "7SG9Qz4Z2j5P"
      },
      "source": [
        "##Util to Plot reward\n"
      ]
    },
    {
      "cell_type": "code",
      "metadata": {
        "id": "CejHVIejaELX"
      },
      "source": [
        "from IPython import display as ipythondisplay\n",
        "\n",
        "tic = time.time()\n",
        "def plot(reward):\n",
        "    global tic\n",
        "    if time.time() - tic > 2:\n",
        "\n",
        "      plt.cla()\n",
        "      plt.plot(reward)\n",
        "      plt.xlabel('episodes')\n",
        "      plt.ylabel('rewards')\n",
        "\n",
        "      ipythondisplay.clear_output(wait=True)\n",
        "      ipythondisplay.display(plt.gcf())\n",
        "      tic = time.time()"
      ],
      "execution_count": null,
      "outputs": []
    },
    {
      "cell_type": "markdown",
      "metadata": {
        "id": "AxJwyOTM4GZc"
      },
      "source": [
        "#Sparse Reward"
      ]
    },
    {
      "cell_type": "code",
      "metadata": {
        "id": "fjErXGgeaVkU"
      },
      "source": [
        "def Reward(states, goal_states, epsilon):  \n",
        "\n",
        "  dist = (states[:,0] - goal_states[:,0])**2\n",
        "  dist += (states[:,5] - goal_states[:,5])**2\n",
        "  dist = (dist)**(0.5)\n",
        "\n",
        "  #reward is 0 if dist < epsilon, -1 if dist > epsilon\n",
        "  rewards = -(dist > epsilon).float()\n",
        "\n",
        "  return rewards.unsqueeze(1)"
      ],
      "execution_count": null,
      "outputs": []
    },
    {
      "cell_type": "markdown",
      "metadata": {
        "id": "YqECUyAk2pZ8"
      },
      "source": [
        "###Memory for [HindSight Experience Replay](https://arxiv.org/pdf/1707.01495.pdf)"
      ]
    },
    {
      "cell_type": "code",
      "metadata": {
        "id": "XMtTJJG9aEG5"
      },
      "source": [
        "from recordclass import recordclass\n",
        "\n",
        "Transitions = recordclass('Transitions', ('states', 'goal_states', 'actions', 'next_states'))\n",
        "\n",
        "class ReplayMemory():\n",
        "    def __init__(self, capacity = 1000, state_dim = 32, goal_dim = 32, action_dim = 1, Her_k = 8):\n",
        "      \n",
        "        self.length = 0\n",
        "        self.prev_length = 0\n",
        "        self.capacity = capacity\n",
        "        self.Her_K = Her_k\n",
        "\n",
        "        self.states = np.zeros((capacity, state_dim))\n",
        "        self.goal_states = np.zeros((capacity, Her_k, goal_dim))\n",
        "        self.actions = np.zeros((capacity, action_dim))\n",
        "        self.next_states = np.zeros((capacity, state_dim))\n",
        "\n",
        "        self.temp_states = []\n",
        "      \n",
        "    def add_transition(self, *args):\n",
        "        index = self.length % self.capacity\n",
        "\n",
        "        self.temp_states.append(args[0])\n",
        "\n",
        "        self.states[index] = args[0]\n",
        "        self.goal_states[index][0] = args[1]\n",
        "        self.actions[index] = args[2]\n",
        "        self.next_states[index] = args[3]\n",
        "\n",
        "        self.length += 1\n",
        "    \n",
        "    def add_goal_states(self):\n",
        "        n = len(self.temp_states)\n",
        "        temp_states = np.array(self.temp_states)\n",
        "        self.temp_states = []\n",
        "        for i in range(n):\n",
        "          start = i if (n-i) > self.Her_K else n - self.Her_K\n",
        "\n",
        "          goal_inds = np.random.randint(start,n,self.Her_K-1)\n",
        "\n",
        "          ind = self.prev_length % self.capacity\n",
        "          self.goal_states[ind][1:,:] = temp_states[goal_inds]\n",
        "          self.prev_length += 1\n",
        "        \n",
        "\n",
        "    def sample(self, batch_size):\n",
        "\n",
        "        maxind = min(self.length, self.capacity)\n",
        "        inds = np.random.choice(maxind, batch_size)\n",
        "        goal_inds = np.random.choice(self.Her_K, batch_size)\n",
        "\n",
        "        batch = Transitions(self.states[inds],\n",
        "                            self.goal_states[inds,goal_inds],\n",
        "                            self.actions[inds],\n",
        "                            self.next_states[inds]\n",
        "                            )\n",
        "        \n",
        "        for i in range(4):\n",
        "          batch[i] = torch.tensor(batch[i], dtype=torch.float)\n",
        "\n",
        "        return batch\n",
        "        \n",
        "    def __len__(self):\n",
        "      return min(self.length, self.capacity)"
      ],
      "execution_count": null,
      "outputs": []
    },
    {
      "cell_type": "markdown",
      "metadata": {
        "id": "xHQdbXf43JPH"
      },
      "source": [
        "#**Q-value Network**"
      ]
    },
    {
      "cell_type": "code",
      "metadata": {
        "id": "_zPwZAq0aEPX"
      },
      "source": [
        "class DQN(nn.Module):\n",
        "\n",
        "    def __init__(self, state_dim = 32, goal_dim = 32, action_dim = 1):\n",
        "        super(DQN, self).__init__()\n",
        "        self.l11 = nn.Linear(state_dim, 64)\n",
        "        self.l11.weight.data.uniform_(-0.05,0.05)\n",
        "        self.l11.bias.data.fill_(0.01)\n",
        "\n",
        "        self.l12 = nn.Linear(goal_dim, 64)\n",
        "        self.l12.weight.data.uniform_(-0.05,0.05)\n",
        "        self.l12.bias.data.fill_(0.01)\n",
        "\n",
        "        self.l13 = nn.Linear(action_dim, 16)\n",
        "        self.l13.weight.data.uniform_(-0.05,0.05)\n",
        "        self.l13.bias.data.fill_(0.01)\n",
        "\n",
        "        self.l2 = nn.Linear(144, 256)\n",
        "\n",
        "        self.l3 = nn.Linear(256, 1)\n",
        "        self.l3.weight.data.uniform_(-0.003,0.003)\n",
        "        self.l3.bias.data.fill_(0.001)\n",
        "\n",
        "    def forward(self, states, goal_states, actions):\n",
        "        states = torch.tanh(self.l11(states))\n",
        "        goal_states = torch.tanh(self.l12(goal_states))\n",
        "        actions = torch.tanh(self.l13(actions))\n",
        "        x = torch.cat((states, goal_states, actions),1)\n",
        "        x = torch.relu(self.l2(x))\n",
        "        x = self.l3(x)\n",
        "        return x\n"
      ],
      "execution_count": null,
      "outputs": []
    },
    {
      "cell_type": "markdown",
      "metadata": {
        "id": "RuVbBsAY0e8-"
      },
      "source": [
        "#**Double DQN critic** "
      ]
    },
    {
      "cell_type": "code",
      "metadata": {
        "id": "LxQomVTMs2i9"
      },
      "source": [
        "class Critic(nn.Module):\n",
        "  def __init__(self):\n",
        "    super(Critic, self).__init__()\n",
        "    self.q1 = DQN()\n",
        "    self.q2 = DQN()\n",
        "  \n",
        "  def predict(self, states, goal_states, actions):\n",
        "    q1 = self.q1(states, goal_states, actions)\n",
        "    q2 = self.q2(states, goal_states, actions)\n",
        "    return q1, q2\n",
        "  \n",
        "  def forward(self, states, goal_states, actions):\n",
        "    q1, q2 = self.predict(states, goal_states, actions)\n",
        "    return torch.min(q1, q2)\n",
        "  \n",
        "  def Cal_loss(self, expected_critic_values, batch):\n",
        "    q1, q2 = self.predict(batch.states, batch.goal_states, batch.actions)\n",
        "    loss1 = F.smooth_l1_loss(expected_critic_values, q1)\n",
        "    loss2 = F.smooth_l1_loss(expected_critic_values, q2)\n",
        "    return loss1 + loss2"
      ],
      "execution_count": null,
      "outputs": []
    },
    {
      "cell_type": "markdown",
      "metadata": {
        "id": "x64gwgZd3Nsy"
      },
      "source": [
        "#**Policy network**"
      ]
    },
    {
      "cell_type": "code",
      "metadata": {
        "id": "s6_sGDyYaEU-"
      },
      "source": [
        "class Policy(nn.Module):\n",
        "\n",
        "    def __init__(self, state_dim = 32, goal_dim = 32, action_dim = 1, action_limit = 4):\n",
        "        super(Policy, self).__init__()\n",
        "\n",
        "        self.act_lim = action_limit\n",
        "\n",
        "        self.l11 = nn.Linear(state_dim, 64)\n",
        "        self.l11.weight.data.uniform_(-0.05,0.05)\n",
        "        self.l11.bias.data.fill_(0.01)\n",
        "\n",
        "        self.l12 = nn.Linear(goal_dim, 64)\n",
        "        self.l12.weight.data.uniform_(-0.05,0.05)\n",
        "        self.l12.bias.data.fill_(0.01)\n",
        "\n",
        "        self.l2 = nn.Linear(128, 256)\n",
        "\n",
        "        self.mean_layer = nn.Linear(256, action_dim)\n",
        "        self.mean_layer.weight.data.uniform_(-0.01,0.01)\n",
        "        self.mean_layer.bias.data.fill_(0.01)\n",
        "\n",
        "        self.log_std = nn.Linear(256, action_dim)\n",
        "        self.log_std.weight.data.uniform_(-0.005,0.005)\n",
        "        self.log_std.bias.data.fill_(0.005)\n",
        "\n",
        "    def forward(self, states, goal_states, training = True):\n",
        "        states = torch.tanh(self.l11(states))\n",
        "        goal_states = torch.tanh(self.l12(goal_states))\n",
        "\n",
        "        x = torch.cat((states, goal_states), 1)\n",
        "        x = torch.relu(self.l2(x))\n",
        "\n",
        "        mean = self.mean_layer(x)\n",
        "        std = torch.exp(self.log_std(x).clamp(-20, 2))\n",
        "\n",
        "        if not training:\n",
        "          sample = mean\n",
        "        else:\n",
        "          sample = mean + std * torch.randn(mean.size())\n",
        "\n",
        "        action = torch.tanh(sample)\n",
        "\n",
        "        log_probs = Normal(mean, std).log_prob(sample) - torch.log(1 - action**2 + 1e-8)\n",
        "\n",
        "        return self.act_lim * action, std, log_probs\n",
        "\n",
        "    def choose_action(self, state, goal_state, training = True, verb = 0):\n",
        "        state = torch.tensor(state, dtype = torch.float).unsqueeze(0)\n",
        "        goal_state = torch.tensor(goal_state, dtype = torch.float).unsqueeze(0)\n",
        "\n",
        "        action, std, _  = self.forward(state, goal_state, training)\n",
        "        action, std = action.item(), std.item()\n",
        "        if verb: print(action, std)\n",
        "        \n",
        "        return [round(action, 5)]\n",
        "        "
      ],
      "execution_count": null,
      "outputs": []
    },
    {
      "cell_type": "markdown",
      "metadata": {
        "id": "3IFkhelWzzm9"
      },
      "source": [
        "##Traininig utils"
      ]
    },
    {
      "cell_type": "code",
      "metadata": {
        "id": "TRvMlLXHzgdg"
      },
      "source": [
        "def Optimize(model, optimizer, loss):\n",
        "    optimizer.zero_grad()\n",
        "    loss.backward()\n",
        "    for param in model.parameters():\n",
        "        param.grad.data.clamp_(-1, 1) \n",
        "        # param.grad.data[torch.isnan(param.grad.data)] = 0\n",
        "    optimizer.step()"
      ],
      "execution_count": null,
      "outputs": []
    },
    {
      "cell_type": "code",
      "metadata": {
        "id": "XNjMhnOWaVgR"
      },
      "source": [
        "def soft_update(target, source, tau):\n",
        "\tfor a, b in zip(target.parameters(), source.parameters()):\n",
        "\t\ta.data.copy_(a.data * (1.0 - tau) + b.data * tau)"
      ],
      "execution_count": null,
      "outputs": []
    },
    {
      "cell_type": "markdown",
      "metadata": {
        "id": "DKr4I2IE3Z_m"
      },
      "source": [
        "#**Initialize**"
      ]
    },
    {
      "cell_type": "code",
      "metadata": {
        "id": "-NWtDLcnaVtr"
      },
      "source": [
        "gamma = 0.99\n",
        "epsilon = 0.075\n",
        "\n",
        "actor = Policy().to(device)\n",
        "target_actor = Policy().to(device)\n",
        "\n",
        "critic = Critic().to(device)\n",
        "target_critic = Critic().to(device)\n",
        "\n",
        "target_actor.load_state_dict(actor.state_dict())\n",
        "target_critic.load_state_dict(critic.state_dict())\n",
        "\n",
        "memory = ReplayMemory(300000)\n",
        "\n",
        "actor_optimizer = optim.Adam(actor.parameters(),1e-3)\n",
        "critic_optimizer = optim.Adam(critic.parameters(),1e-3)\n",
        "\n",
        "\n",
        "reward_list = []\n",
        "avg_rewards = [-300]"
      ],
      "execution_count": null,
      "outputs": []
    },
    {
      "cell_type": "markdown",
      "metadata": {
        "id": "9DQus03M3bqm"
      },
      "source": [
        "#**Single training step**"
      ]
    },
    {
      "cell_type": "code",
      "metadata": {
        "id": "vK7G1KVMaVow"
      },
      "source": [
        "def train_step():\n",
        "    if len(memory) < 2000: return\n",
        "\n",
        "    batch = memory.sample(64)\n",
        "\n",
        "  #---------------------critic training----------------------------------\n",
        "    next_actions, std, log_probs = actor(batch.next_states, batch.goal_states)\n",
        "    next_critic_values = target_critic(batch.next_states, batch.goal_states, next_actions).detach()\n",
        "\n",
        "    expected_critic_values = Reward(batch.states, batch.goal_states, epsilon) + gamma * (next_critic_values - 0.1*log_probs)\n",
        "    expected_critic_values = expected_critic_values.clamp(-150, 150)\n",
        "\n",
        "    critic_loss = critic.Cal_loss(expected_critic_values.detach(), batch)\n",
        "\n",
        "    Optimize(critic, critic_optimizer, critic_loss)\n",
        "  #---------------------------------------------------------------------\n",
        "\n",
        "\n",
        "  #-----------------Freeze critic parameters-----------------------------\n",
        "    for param in critic.parameters():\n",
        "        param.requires_grad = False\n",
        "  #------------------------------------------------------------------------\n",
        "\n",
        "\n",
        "  #---------------------actor training----------------------------------\n",
        "    actions, std, log_probs = actor(batch.states, batch.goal_states)\n",
        "    critic_value = critic(batch.states, batch.goal_states, actions)\n",
        "    actor_loss = torch.mean(-critic_value + 0.1*log_probs)\n",
        "\n",
        "    Optimize(actor, actor_optimizer, actor_loss)\n",
        "  #-----------------------------------------------------------------------\n",
        "\n",
        "\n",
        "  #--------------------UnFreeze critic parameters-----------------------------\n",
        "    for param in critic.parameters():\n",
        "        param.requires_grad = True\n",
        "  #-------------------------------------------------------------------------\n",
        "\n",
        "\n",
        "  #----------------soft update targets--------------------------------------\n",
        "    soft_update(target_actor, actor, 0.005)\n",
        "    soft_update(target_critic, critic, 0.005)\n",
        "  #-------------------------------------------------------------------------"
      ],
      "execution_count": null,
      "outputs": []
    },
    {
      "cell_type": "markdown",
      "metadata": {
        "id": "XV6XS5Dw3iWp"
      },
      "source": [
        "#**Training**"
      ]
    },
    {
      "cell_type": "code",
      "metadata": {
        "colab": {
          "base_uri": "https://localhost:8080/",
          "height": 558
        },
        "id": "7KIBIkHwaV1d",
        "outputId": "aa37e9d6-e068-47ec-c1ff-857486117877"
      },
      "source": [
        "env = FlexibleEnv()\n",
        "\n",
        "for i_episode in tqdm(range(10)):\n",
        "\n",
        "  state = env.reset()\n",
        "  total_reward = 0\n",
        "  goal_state = [np.random.uniform(-1,1)]+ [0]*31\n",
        "\n",
        "  print(state, goal_state)\n",
        "\n",
        "  for steps in range(500):\n",
        "\n",
        "    action = actor.choose_action(state, goal_state)\n",
        "    next_state = env.step(action)\n",
        "    memory.add_transition(state, goal_state, action[0], next_state)\n",
        "\n",
        "    dist = (state[0] - goal_state[0])**2\n",
        "    dist += (state[5] - goal_state[5])**2\n",
        "    dist = (dist)**(0.5)\n",
        "    dist = -int(dist>epsilon)\n",
        "    total_reward += dist\n",
        "\n",
        "    state = next_state\n",
        "  \n",
        "  memory.add_goal_states()\n",
        "  for _ in range(300):   \n",
        "    train_step()\n",
        "\n",
        "  # epsilon *= 0.998\n",
        "  reward_list.append(total_reward)\n",
        "  avg_rewards.append(np.mean(reward_list[-40:])) \n",
        "\n",
        "  plot(avg_rewards)"
      ],
      "execution_count": null,
      "outputs": [
        {
          "output_type": "display_data",
          "data": {
            "image/png": "[encoded data removed]",
            "text/plain": [
              "<Figure size 432x288 with 1 Axes>"
            ]
          },
          "metadata": {
            "tags": []
          }
        },
        {
          "output_type": "stream",
          "text": [
            "100%|██████████| 10/10 [00:41<00:00,  4.19s/it]\n"
          ],
          "name": "stderr"
        },
        {
          "output_type": "display_data",
          "data": {
            "image/png": "[encoded data removed]",
            "text/plain": [
              "<Figure size 432x288 with 1 Axes>"
            ]
          },
          "metadata": {
            "tags": [],
            "needs_background": "light"
          }
        }
      ]
    },
    {
      "cell_type": "markdown",
      "metadata": {
        "id": "8G5n4M2X3ooN"
      },
      "source": [
        "#Test Learned Policy"
      ]
    },
    {
      "cell_type": "code",
      "metadata": {
        "id": "f6HU1nuWiOKN"
      },
      "source": [
        "def Go_to(goal = np.pi/2, init_state = None, verb = 0):\n",
        "\n",
        "  goal_state = [goal/np.pi]+[0]*31\n",
        "\n",
        "  policy = lambda state: target_actor.choose_action(state, goal_state, False, verb)\n",
        "\n",
        "  #Simulate with learned policy\n",
        "  env = FlexibleEnv()\n",
        "\n",
        "  # print(env.get_state)\n",
        "  env.start_recording(init_state)\n",
        "\n",
        "  prev_theta = 0\n",
        "    \n",
        "  for i in range(500):\n",
        "      state = env.get_state\n",
        "      theta = state[1]\n",
        "      # print((theta - prev_theta)*20)\n",
        "      prev_theta = theta\n",
        "      u = policy(state)\n",
        "      dist = ((state[1] - goal_state[0])**2 )**(0.5)\n",
        "      # print(state, dist, '\\n')\n",
        "      env.step(u)\n",
        "    \n",
        "  env.stop_recording()\n",
        "\n",
        "\n",
        "  #Add target angle Marker in visualiser\n",
        "  R = RollPitchYaw([np.pi/4, 0, goal])\n",
        "  T = RigidTransform(R, [0.125,0,0]).GetAsMatrix4()\n",
        "  AddTriad(env.visualizer.vis, name='target', prefix='', length=1, radius=0.01, opacity=0.8)\n",
        "  env.visualizer.vis['']['target'].set_transform(T)"
      ],
      "execution_count": null,
      "outputs": []
    },
    {
      "cell_type": "code",
      "metadata": {
        "colab": {
          "base_uri": "https://localhost:8080/"
        },
        "id": "vHu2IRe5Sjzd",
        "outputId": "90c9ef85-f31c-426e-c58a-11b7208d14ea"
      },
      "source": [
        "Go_to(0, [5*np.pi/6,0,0,0], 0)\n",
        "\n",
        "# env.get_state"
      ],
      "execution_count": null,
      "outputs": [
        {
          "output_type": "stream",
          "text": [
            "Connecting to meshcat-server at zmq_url=tcp://127.0.0.1:6001...\n",
            "You can open the visualizer by visiting the following URL:\n",
            "http://337119e20561.ngrok.io/static/\n",
            "Connected to meshcat-server.\n"
          ],
          "name": "stdout"
        }
      ]
    },
    {
      "cell_type": "code",
      "metadata": {
        "id": "RqIVbSg_ZXER"
      },
      "source": [
        "batch = memory.sample(400*300)"
      ],
      "execution_count": null,
      "outputs": []
    },
    {
      "cell_type": "markdown",
      "metadata": {
        "id": "YmgOR4TTZ4Q1"
      },
      "source": [
        ""
      ]
    },
    {
      "cell_type": "code",
      "metadata": {
        "id": "zv3QOLOSZ4a3"
      },
      "source": [
        "data = batch.states"
      ],
      "execution_count": null,
      "outputs": []
    },
    {
      "cell_type": "code",
      "metadata": {
        "id": "6sCjvBMjY6zv",
        "colab": {
          "base_uri": "https://localhost:8080/"
        },
        "outputId": "c4d08e4b-2a32-4db1-b4b2-f3202d584f8c"
      },
      "source": [
        "data = data - data.mean(axis=0) # Center data points\n",
        "print(\"Centered Matrix: \", data)\n"
      ],
      "execution_count": null,
      "outputs": [
        {
          "output_type": "stream",
          "text": [
            "Centered Matrix:  tensor([[-0.5824,  0.0636,  0.0578,  ...,  0.0801,  0.0937,  0.0721],\n",
            "        [-0.4916,  0.1676, -0.0837,  ..., -0.1356, -0.1532, -0.1051],\n",
            "        [ 0.6792,  0.0346, -0.0454,  ..., -0.0225, -0.0881, -0.0812],\n",
            "        ...,\n",
            "        [-0.7557,  0.0348, -0.0385,  ...,  0.0260,  0.0124, -0.0083],\n",
            "        [ 0.0586,  0.0724, -0.0268,  ..., -0.1215, -0.1546, -0.1000],\n",
            "        [-0.3276,  0.0654, -0.0556,  ..., -0.3198, -0.3416, -0.2301]])\n"
          ],
          "name": "stdout"
        }
      ]
    },
    {
      "cell_type": "code",
      "metadata": {
        "id": "kmouI0vfY6wg",
        "colab": {
          "base_uri": "https://localhost:8080/"
        },
        "outputId": "f8a860b8-de54-4f16-9ad6-0db3c94c36af"
      },
      "source": [
        "cov = np.cov(data.T) / data.shape[0] # Get covariance matrix\n",
        "print(\"Covariance matrix: \", cov)"
      ],
      "execution_count": null,
      "outputs": [
        {
          "output_type": "stream",
          "text": [
            "Covariance matrix:  [[ 2.85207102e-06  9.48905766e-09  2.57949934e-10 ... -2.63074931e-09\n",
            "  -1.50582870e-09 -1.10891963e-09]\n",
            " [ 9.48905766e-09  1.17200458e-07  4.10700124e-08 ... -1.19071693e-09\n",
            "  -3.82264570e-09 -3.44724868e-09]\n",
            " [ 2.57949934e-10  4.10700124e-08  6.63481819e-08 ...  2.79452004e-09\n",
            "   1.62068801e-10 -1.52028348e-09]\n",
            " ...\n",
            " [-2.63074931e-09 -1.19071693e-09  2.79452004e-09 ...  6.91936453e-07\n",
            "   6.63209973e-07  3.89129965e-07]\n",
            " [-1.50582870e-09 -3.82264570e-09  1.62068801e-10 ...  6.63209973e-07\n",
            "   7.90732373e-07  5.24493767e-07]\n",
            " [-1.10891963e-09 -3.44724868e-09 -1.52028348e-09 ...  3.89129965e-07\n",
            "   5.24493767e-07  3.76441889e-07]]\n"
          ],
          "name": "stdout"
        }
      ]
    },
    {
      "cell_type": "code",
      "metadata": {
        "id": "0Bqvqo0KY6tX"
      },
      "source": [
        "v, w = np.linalg.eig(cov)"
      ],
      "execution_count": null,
      "outputs": []
    },
    {
      "cell_type": "code",
      "metadata": {
        "id": "FmYerPlSY6qE",
        "colab": {
          "base_uri": "https://localhost:8080/"
        },
        "outputId": "ae19ff05-3f62-4e49-f5e5-e184db04fe1a"
      },
      "source": [
        "idx = v.argsort()[::-1] # Sort descending and get sorted indices\n",
        "v = v[idx] # Use indices on eigv vector\n",
        "w = w[:,idx] # \n",
        "\n",
        "print(\"Eigenvalue vektoru: \", v)\n",
        "print(\"Eigenvektorler: \", w)\n"
      ],
      "execution_count": null,
      "outputs": [
        {
          "output_type": "stream",
          "text": [
            "Eigenvalue vektoru:  [1.26796396e-04 2.07345803e-05 8.52210175e-06 4.43729325e-06\n",
            " 2.95286423e-06 2.84773342e-06 1.79741168e-06 1.35001399e-06\n",
            " 8.59487226e-07 3.80349328e-07 2.56869338e-07 1.42614104e-07\n",
            " 6.90605960e-08 5.80523286e-08 3.43887552e-08 1.81976665e-08\n",
            " 1.05837236e-08 4.50806150e-09 3.00396146e-09 7.30088717e-10\n",
            " 3.97541287e-10 1.36295231e-10 4.40257767e-11 2.63500309e-11\n",
            " 1.37653292e-11 2.99349784e-12 1.67710046e-12 3.73236640e-13\n",
            " 1.44628533e-13 1.49802077e-14 2.34493821e-15 1.68915426e-16]\n",
            "Eigenvektorler:  [[ 2.92445862e-04  1.09714855e-02 -1.26174255e-04 ...  4.56219374e-07\n",
            "   1.76850084e-07 -3.74384701e-08]\n",
            " [-6.46329185e-03  5.40336058e-02  1.49422605e-02 ... -8.93140598e-04\n",
            "  -1.20045124e-03 -4.63186523e-04]\n",
            " [ 9.86784882e-03  5.66125794e-03  4.40408070e-02 ...  1.48714141e-02\n",
            "   2.45184758e-03  2.25825750e-03]\n",
            " ...\n",
            " [ 1.16991006e-03 -4.03458641e-03 -1.12184286e-02 ... -7.67786904e-03\n",
            "   5.63392067e-03  3.37599191e-04]\n",
            " [ 9.25443687e-04 -3.72044207e-03 -1.49367111e-02 ...  7.30256657e-04\n",
            "  -2.20960460e-03  2.38451429e-04]\n",
            " [ 5.30557307e-04 -1.80949059e-03 -9.91590255e-03 ...  7.34477379e-04\n",
            "   5.95079511e-04 -1.58894823e-04]]\n"
          ],
          "name": "stdout"
        }
      ]
    },
    {
      "cell_type": "code",
      "metadata": {
        "id": "ImF5XByBaKLL",
        "colab": {
          "base_uri": "https://localhost:8080/"
        },
        "outputId": "c7e94161-ad78-4e8a-9e49-92c07028f873"
      },
      "source": [
        "np.where(w[:, :5] < 5e-2, 0, w[:, :5])"
      ],
      "execution_count": null,
      "outputs": [
        {
          "output_type": "execute_result",
          "data": {
            "text/plain": [
              "array([[0.        , 0.        , 0.        , 0.        , 0.12923595],\n",
              "       [0.        , 0.05403361, 0.        , 0.        , 0.        ],\n",
              "       [0.        , 0.        , 0.        , 0.        , 0.        ],\n",
              "       [0.        , 0.        , 0.        , 0.        , 0.        ],\n",
              "       [0.        , 0.        , 0.        , 0.        , 0.        ],\n",
              "       [0.        , 0.        , 0.        , 0.        , 0.        ],\n",
              "       [0.        , 0.        , 0.        , 0.        , 0.        ],\n",
              "       [0.        , 0.        , 0.        , 0.        , 0.        ],\n",
              "       [0.        , 0.        , 0.        , 0.        , 0.        ],\n",
              "       [0.        , 0.        , 0.        , 0.        , 0.        ],\n",
              "       [0.        , 0.        , 0.        , 0.        , 0.        ],\n",
              "       [0.        , 0.        , 0.        , 0.        , 0.        ],\n",
              "       [0.        , 0.        , 0.        , 0.        , 0.        ],\n",
              "       [0.        , 0.        , 0.        , 0.        , 0.        ],\n",
              "       [0.        , 0.        , 0.        , 0.        , 0.        ],\n",
              "       [0.        , 0.        , 0.        , 0.        , 0.        ],\n",
              "       [0.60361019, 0.        , 0.        , 0.        , 0.138584  ],\n",
              "       [0.        , 0.        , 0.        , 0.        , 0.06237655],\n",
              "       [0.        , 0.81094706, 0.        , 0.15509911, 0.19259452],\n",
              "       [0.13293682, 0.18570274, 0.6678706 , 0.        , 0.        ],\n",
              "       [0.05426079, 0.        , 0.43327866, 0.32283551, 0.08493653],\n",
              "       [0.        , 0.        , 0.        , 0.54402172, 0.08732706],\n",
              "       [0.        , 0.        , 0.        , 0.14618985, 0.        ],\n",
              "       [0.        , 0.        , 0.        , 0.        , 0.        ],\n",
              "       [0.        , 0.        , 0.        , 0.        , 0.        ],\n",
              "       [0.        , 0.        , 0.07893562, 0.        , 0.3518826 ],\n",
              "       [0.        , 0.        , 0.07259553, 0.        , 0.41847211],\n",
              "       [0.        , 0.        , 0.        , 0.11600764, 0.20534515],\n",
              "       [0.        , 0.        , 0.        , 0.15722443, 0.        ],\n",
              "       [0.        , 0.        , 0.        , 0.13751768, 0.        ],\n",
              "       [0.        , 0.        , 0.        , 0.0933254 , 0.        ],\n",
              "       [0.        , 0.        , 0.        , 0.        , 0.        ]])"
            ]
          },
          "metadata": {
            "tags": []
          },
          "execution_count": 34
        }
      ]
    },
    {
      "cell_type": "code",
      "metadata": {
        "id": "R55AyEMMWMbb",
        "colab": {
          "base_uri": "https://localhost:8080/"
        },
        "outputId": "33cf04ad-037c-4978-ffd9-495a462fecc8"
      },
      "source": [
        "data = data - data.mean(axis=0) # Center data points\n",
        "print(\"Centered Matrix: \", data)\n"
      ],
      "execution_count": null,
      "outputs": [
        {
          "output_type": "stream",
          "text": [
            "Centered Matrix:  tensor([[-0.5824,  0.0636,  0.0578,  ...,  0.0801,  0.0937,  0.0721],\n",
            "        [-0.4916,  0.1676, -0.0837,  ..., -0.1356, -0.1532, -0.1051],\n",
            "        [ 0.6792,  0.0346, -0.0454,  ..., -0.0225, -0.0881, -0.0812],\n",
            "        ...,\n",
            "        [-0.7557,  0.0348, -0.0385,  ...,  0.0260,  0.0124, -0.0083],\n",
            "        [ 0.0586,  0.0724, -0.0268,  ..., -0.1215, -0.1546, -0.1000],\n",
            "        [-0.3276,  0.0654, -0.0556,  ..., -0.3198, -0.3416, -0.2301]])\n"
          ],
          "name": "stdout"
        }
      ]
    },
    {
      "cell_type": "code",
      "metadata": {
        "id": "kXDvFkR_Y6mT"
      },
      "source": [
        ""
      ],
      "execution_count": null,
      "outputs": []
    },
    {
      "cell_type": "code",
      "metadata": {
        "id": "vkHww-M0QqGh"
      },
      "source": [
        "                                                                                                                                                                                                                                                                                                                                                                                                                                                                                                                                                                                                                                                                                                                                                                                                                                                                                                                                                                                                                                                                                                                                                                                                                                                                                                                                                                                                                                                                                                                                                                                                                                                                                                                                                                                                                                                                                                                                                                                                                                                                                                                                                                                                                                                                                                                                                                                                                                                                                                                                                                                                                                                                                                                                                                                                                                                                                                                                                                                                                                                                                                                                                                                                                                                                                                                                                                                                                                                                                                                                                                                                                                                                                                                                                                                                                                                                                                                                                                                                                                                                                                                                                                                                                                                                                                                                                                                                                                                                                                                                   "
      ],
      "execution_count": null,
      "outputs": []
    },
    {
      "cell_type": "code",
      "metadata": {
        "id": "fWUmzigvMMiG"
      },
      "source": [
        ""
      ],
      "execution_count": null,
      "outputs": []
    },
    {
      "cell_type": "code",
      "metadata": {
        "id": "qv5nEd8uY6ij"
      },
      "source": [
        ""
      ],
      "execution_count": null,
      "outputs": []
    },
    {
      "cell_type": "code",
      "metadata": {
        "id": "LsFjC6ptY6fD"
      },
      "source": [
        ""
      ],
      "execution_count": null,
      "outputs": []
    },
    {
      "cell_type": "code",
      "metadata": {
        "id": "1h1qL2VvY6O6",
        "colab": {
          "base_uri": "https://localhost:8080/",
          "height": 130
        },
        "outputId": "431a1204-aca1-4450-a5c4-9b4e0355b51c"
      },
      "source": [
        "rf crf"
      ],
      "execution_count": null,
      "outputs": [
        {
          "output_type": "error",
          "ename": "SyntaxError",
          "evalue": "ignored",
          "traceback": [
            "\u001b[0;36m  File \u001b[0;32m\"<ipython-input-36-e09fbad9f24d>\"\u001b[0;36m, line \u001b[0;32m1\u001b[0m\n\u001b[0;31m    rf crf\u001b[0m\n\u001b[0m         ^\u001b[0m\n\u001b[0;31mSyntaxError\u001b[0m\u001b[0;31m:\u001b[0m invalid syntax\n"
          ]
        }
      ]
    }
  ]
}