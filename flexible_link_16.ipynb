{
  "nbformat": 4,
  "nbformat_minor": 0,
  "metadata": {
    "colab": {
      "name": "flexible-link-16.ipynb",
      "provenance": [],
      "collapsed_sections": [],
      "include_colab_link": true
    },
    "kernelspec": {
      "display_name": "Python 3",
      "name": "python3"
    },
    "language_info": {
      "name": "python"
    },
    "accelerator": "GPU"
  },
  "cells": [
    {
      "cell_type": "markdown",
      "metadata": {
        "id": "view-in-github",
        "colab_type": "text"
      },
      "source": [
        "<a href=\"https://colab.research.google.com/github/Bharath2/cube/blob/master/flexible_link_16.ipynb\" target=\"_parent\"><img src=\"https://colab.research.google.com/assets/colab-badge.svg\" alt=\"Open In Colab\"/></a>"
      ]
    },
    {
      "cell_type": "markdown",
      "metadata": {
        "id": "gcmzMIIcKVV1"
      },
      "source": [
        "#**PyDrake Setup**"
      ]
    },
    {
      "cell_type": "code",
      "metadata": {
        "id": "tffe6Auv-HdA",
        "colab": {
          "base_uri": "https://localhost:8080/"
        },
        "outputId": "2644af66-85c8-41bd-db83-db215d338b2c"
      },
      "source": [
        "import importlib\n",
        "import sys\n",
        "from urllib.request import urlretrieve\n",
        "\n",
        "# Install drake (and underactuated).\n",
        "if 'google.colab' in sys.modules and importlib.util.find_spec('underactuated') is None:\n",
        "    urlretrieve(f\"http://underactuated.csail.mit.edu/scripts/setup/setup_underactuated_colab.py\",\n",
        "                \"setup_underactuated_colab.py\")\n",
        "    from setup_underactuated_colab import setup_underactuated\n",
        "    setup_underactuated(underactuated_sha='15cfd96b0bdfd1b0c67597c24f91907776c02a6d', drake_version='0.27.0', drake_build='release')\n",
        "\n",
        "!pip install recordclass"
      ],
      "execution_count": 1,
      "outputs": [
        {
          "output_type": "stream",
          "text": [
            "HEAD is now at 15cfd96 and again\n",
            "\n",
            "\n",
            "WARNING: apt does not have a stable CLI interface. Use with caution in scripts.\n",
            "\n",
            "\n",
            "Requirement already satisfied: recordclass in /usr/local/lib/python3.7/dist-packages (0.14.3)\n"
          ],
          "name": "stdout"
        }
      ]
    },
    {
      "cell_type": "markdown",
      "metadata": {
        "id": "cIrP3-rHMveS"
      },
      "source": [
        "###setup meshcat server"
      ]
    },
    {
      "cell_type": "code",
      "metadata": {
        "id": "EL7Frf0HMgW3"
      },
      "source": [
        "server_args = ['--ngrok_http_tunnel']\n",
        "\n",
        "from meshcat.servers.zmqserver import start_zmq_server_as_subprocess\n",
        "proc, zmq_url, web_url = start_zmq_server_as_subprocess(server_args=server_args)"
      ],
      "execution_count": 32,
      "outputs": []
    },
    {
      "cell_type": "markdown",
      "metadata": {
        "id": "qk41owg2Kapp"
      },
      "source": [
        "#**import modules**"
      ]
    },
    {
      "cell_type": "code",
      "metadata": {
        "id": "5n9itCFG_ZbX"
      },
      "source": [
        "import time\n",
        "import numpy as np\n",
        "from tqdm import tqdm\n",
        "import matplotlib.pyplot as plt\n",
        "from itertools import count\n",
        "\n",
        "\n",
        "from pydrake.all import (\n",
        "    DiagramBuilder, SceneGraph, Simulator, RigidTransform, \n",
        "    AddMultibodyPlantSceneGraph, Parser, RotationMatrix, PlanarSceneGraphVisualizer,\n",
        "    LeafSystem, BasicVector, RevoluteSpring, AddTriad, RollPitchYaw\n",
        ")\n",
        "\n",
        "import pydrake.systems.meshcat_visualizer as meshcat_visualizer"
      ],
      "execution_count": 33,
      "outputs": []
    },
    {
      "cell_type": "markdown",
      "metadata": {
        "id": "f9Wi1KTbKjOP"
      },
      "source": [
        "#**URDF**"
      ]
    },
    {
      "cell_type": "code",
      "metadata": {
        "colab": {
          "base_uri": "https://localhost:8080/"
        },
        "id": "EksRwm2otvAL",
        "outputId": "9fbea58d-b849-488b-d3fe-d9d93a1b16b7"
      },
      "source": [
        "!pip install xacro"
      ],
      "execution_count": 34,
      "outputs": [
        {
          "output_type": "stream",
          "text": [
            "Requirement already satisfied: xacro in /usr/local/lib/python3.7/dist-packages (1.13.3)\n"
          ],
          "name": "stdout"
        }
      ]
    },
    {
      "cell_type": "code",
      "metadata": {
        "id": "7SFndMAs3TH7",
        "colab": {
          "base_uri": "https://localhost:8080/"
        },
        "outputId": "97f2bbcc-b451-45da-a0f5-1fe63cb9137d"
      },
      "source": [
        "%%file model\n",
        "<?xml version=\"1.0\"?>\n",
        "\n",
        "<robot xmlns:xacro=\"http://www.ros.org/wiki/xacro\" name=\"RR\">\n",
        "\n",
        "  <xacro:macro name=\"Link\" params=\"id damping color\">\n",
        "  <link name=\"link${id}\">\n",
        "    <inertial>\n",
        "      <origin xyz=\"0 0 0\" rpy=\"0 0 0\" />\n",
        "      <mass value=\"0.0625\" />\n",
        "      <inertia ixx=\"0.0125\" ixy=\"0\" ixz=\"0\" iyy=\"0.0125\" iyz=\"0\" izz=\"0.0125\" />\n",
        "    </inertial>\n",
        "    <visual>\n",
        "      <origin xyz=\"0.03125 0 0\" rpy=\"0 0 0\" />\n",
        "      <geometry>\n",
        "        <box size=\"0.0625 0.04 0.05\"/>\n",
        "      </geometry>\n",
        "      <material>\n",
        "        <color rgba=\"${color} 1\" />\n",
        "      </material>\n",
        "    </visual>\n",
        "  </link>\n",
        "\n",
        "  <joint name=\"theta${id}\" type=\"continuous\">\n",
        "    <parent link=\"link${id-1}\" />\n",
        "    <child link=\"link${id}\" />\n",
        "    <origin rpy=\"0 0 0\" xyz=\"0.0625 0 0\" />\n",
        "    <axis xyz=\"0 0 1\" />\n",
        "    <dynamics damping=\"${damping}\" />\n",
        "  </joint>\n",
        "\n",
        "  </xacro:macro>\n",
        "\n",
        "  <link name=\"link0\">\n",
        "    <visual>\n",
        "      <origin xyz=\"0.0625 0 -0.0625\" rpy=\"0 0 0\" />\n",
        "      <geometry>\n",
        "        <cylinder length=\".1\" radius=\".026\"  />\n",
        "      </geometry>\n",
        "      <material>\n",
        "        <color rgba=\"0.5 0.5 0.5 1\" />\n",
        "      </material>\n",
        "    </visual>\n",
        "  </link>\n",
        "\n",
        "  <joint name=\"fixed1\" type=\"fixed\">\n",
        "    <parent link=\"world\" />\n",
        "    <child link=\"link0\" />\n",
        "  </joint>\n",
        "\n",
        "  <xacro:Link id = \"1\" damping = \"0.1\" color = \"0.2 0.3 0.9\"/>\n",
        "  <xacro:Link id = \"2\" damping = \"0.1\" color = \"0.9 0.3 0.2\"/>\n",
        "  <xacro:Link id = \"3\" damping = \"0.1\" color = \"0.2 0.3 0.9\"/>\n",
        "  <xacro:Link id = \"4\" damping = \"0.1\" color = \"0.9 0.3 0.2\"/>\n",
        "  <xacro:Link id = \"5\" damping = \"0.1\" color = \"0.2 0.3 0.9\"/>\n",
        "  <xacro:Link id = \"6\" damping = \"0.1\" color = \"0.9 0.3 0.2\"/>\n",
        "  <xacro:Link id = \"7\" damping = \"0.1\" color = \"0.2 0.3 0.9\"/>\n",
        "  <xacro:Link id = \"8\" damping = \"0.1\" color = \"0.9 0.3 0.2\"/>\n",
        "  <xacro:Link id = \"9\" damping = \"0.1\" color = \"0.2 0.3 0.9\"/>\n",
        "  <xacro:Link id = \"10\" damping = \"0.1\" color = \"0.9 0.3 0.2\"/>\n",
        "  <xacro:Link id = \"11\" damping = \"0.1\" color = \"0.2 0.3 0.9\"/>\n",
        "  <xacro:Link id = \"12\" damping = \"0.1\" color = \"0.9 0.3 0.2\"/>\n",
        "  <xacro:Link id = \"13\" damping = \"0.1\" color = \"0.2 0.3 0.9\"/>\n",
        "  <xacro:Link id = \"14\" damping = \"0.1\" color = \"0.9 0.3 0.2\"/>\n",
        "  <xacro:Link id = \"15\" damping = \"0.1\" color = \"0.2 0.3 0.9\"/>\n",
        "  <xacro:Link id = \"16\" damping = \"0.1\" color = \"0.9 0.3 0.2\"/>\n",
        "\n",
        "  <transmission type=\"SimpleTransmission\" name=\"j1\">\n",
        "    <actuator name=\"torque1\" />\n",
        "    <joint name=\"theta1\" />\n",
        "    <mechanicalReduction>1</mechanicalReduction>\n",
        "  </transmission>\n",
        "\n",
        "</robot>"
      ],
      "execution_count": 35,
      "outputs": [
        {
          "output_type": "stream",
          "text": [
            "Overwriting model\n"
          ],
          "name": "stdout"
        }
      ]
    },
    {
      "cell_type": "code",
      "metadata": {
        "colab": {
          "base_uri": "https://localhost:8080/"
        },
        "id": "mnMXuPlttyO5",
        "outputId": "736ca7f7-08a9-417d-de01-c3a8b4d53724"
      },
      "source": [
        "!xacro model -o model.urdf"
      ],
      "execution_count": 36,
      "outputs": [
        {
          "output_type": "stream",
          "text": [
            "\u001b[93mNo module named 'rosgraph'\u001b[0m\n",
            "\n"
          ],
          "name": "stdout"
        }
      ]
    },
    {
      "cell_type": "markdown",
      "metadata": {
        "id": "tdi_lMgXKwYO"
      },
      "source": [
        "#Flexible Env class based on pydrake simulator\n",
        "\n",
        "* joint damping coeff: 1 N.m.s\n",
        "\n",
        "* joint stiffness: 5 N/m"
      ]
    },
    {
      "cell_type": "code",
      "metadata": {
        "id": "AW9QhAzX-kNE"
      },
      "source": [
        "def angle_normalize(x):\n",
        "    return (((x+np.pi) % (2*np.pi)) - np.pi)/np.pi\n",
        "\n",
        "class FlexibleEnv():\n",
        "\n",
        "  def __init__(self):\n",
        "    self.Setup()\n",
        "    self.reset()\n",
        "\n",
        "  def Setup(self, visualize = False):\n",
        "    builder = DiagramBuilder()\n",
        "    plant, scene_graph = AddMultibodyPlantSceneGraph(builder, time_step = 0.0)\n",
        "    parse_ins = Parser(plant).AddModelFromFile('./model.urdf')\n",
        "    #Add Revolute spring\n",
        "    for i in range(2,17):\n",
        "      plant.AddForceElement(RevoluteSpring(plant.GetJointByName(f\"theta{i}\", parse_ins), 0, 1))\n",
        "    plant.Finalize()\n",
        "    self.plant = plant\n",
        "\n",
        "    # Setup visualization\n",
        "    self.visualizer = None\n",
        "    if visualize:\n",
        "      self.visualizer = meshcat_visualizer.ConnectMeshcatVisualizer(\n",
        "                builder, \n",
        "                scene_graph = scene_graph, \n",
        "                zmq_url = zmq_url, \n",
        "                delete_prefix_on_load=True)\n",
        "      #set planar view instead of 3d view\n",
        "      self.visualizer.set_planar_viewpoint(camera_position=[0, 0, 1], \n",
        "                                  xmin=-1.5, xmax=0.5, ymin=-1, ymax=1)\n",
        "    \n",
        "    self.diagram = builder.Build()\n",
        "\n",
        "\n",
        "  def reset(self, init_state = None):\n",
        "    #reset time and simulator\n",
        "    self.time = 0\n",
        "    self.context = self.diagram.CreateDefaultContext()\n",
        "    self.plant_context = self.plant.GetMyMutableContextFromRoot(self.context)\n",
        "    self.simulator = Simulator(self.diagram, self.context)\n",
        "    #set initial state\n",
        "    self.set_state(init_state)\n",
        "    return self.get_state\n",
        "  \n",
        "  def set_state(self, init_state = None):\n",
        "    if not init_state:\n",
        "      init_state = np.random.uniform(-1,1,4)\n",
        "      init_state = init_state * [np.pi, 1, np.pi/6, 0.1]\n",
        "    init_state = [init_state[0]] + [init_state[1]/8]*15 + [init_state[2]] + [init_state[3]/8]*15\n",
        "    self.plant_context.SetContinuousState(init_state)\n",
        "\n",
        "  @property\n",
        "  def get_state(self):\n",
        "    #get current state from plant\n",
        "    state = self.plant.get_state_output_port().Eval(self.plant_context)\n",
        "    state[0] = angle_normalize(state[0])\n",
        "    return state\n",
        "\n",
        "\n",
        "  def step(self, u, dt = 0.05):\n",
        "    #Set joint torque with input\n",
        "    self.plant.get_actuation_input_port().FixValue(self.plant_context, u)\n",
        "    #Advance to next step\n",
        "    self.simulator.AdvanceTo(self.time + dt)\n",
        "    self.time += dt\n",
        "    #return current state\n",
        "    return self.get_state\n",
        "  \n",
        "  \n",
        "  def start_recording(self, init_state = None):\n",
        "    self.Setup(True)\n",
        "    self.reset(init_state)\n",
        "    self.visualizer.load()\n",
        "    self.visualizer.start_recording()\n",
        "  \n",
        "  def stop_recording(self):\n",
        "    self.visualizer.stop_recording()\n",
        "    self.visualizer.publish_recording()\n",
        "\n",
        "  def render(self, model, init_state = None):\n",
        "    self.start_recording(init_state)\n",
        "    \n",
        "    for i in range(200):\n",
        "      u = model(self.get_state)\n",
        "      self.step(u)\n",
        "    \n",
        "    self.stop_recording()\n"
      ],
      "execution_count": 39,
      "outputs": []
    },
    {
      "cell_type": "markdown",
      "metadata": {
        "id": "RpCjIwJF1kqs"
      },
      "source": [
        "##**Test Env**"
      ]
    },
    {
      "cell_type": "code",
      "metadata": {
        "colab": {
          "base_uri": "https://localhost:8080/"
        },
        "id": "aZ2lxCht2yQX",
        "outputId": "8502b7cd-74bd-45ea-c15d-00e73de47576"
      },
      "source": [
        "angle_normalize(np.pi-0.01)"
      ],
      "execution_count": 40,
      "outputs": [
        {
          "output_type": "execute_result",
          "data": {
            "text/plain": [
              "0.9968169011381621"
            ]
          },
          "metadata": {
            "tags": []
          },
          "execution_count": 40
        }
      ]
    },
    {
      "cell_type": "code",
      "metadata": {
        "id": "j9wLR6CAG5yp"
      },
      "source": [
        "env = FlexibleEnv()"
      ],
      "execution_count": 41,
      "outputs": []
    },
    {
      "cell_type": "code",
      "metadata": {
        "id": "ubjPFl03g_km",
        "colab": {
          "base_uri": "https://localhost:8080/"
        },
        "outputId": "a5bd920b-6b1c-41aa-c05a-371c68713e16"
      },
      "source": [
        "env.reset([-np.pi/4,0,0,0])"
      ],
      "execution_count": 42,
      "outputs": [
        {
          "output_type": "execute_result",
          "data": {
            "text/plain": [
              "array([-0.25,  0.  ,  0.  ,  0.  ,  0.  ,  0.  ,  0.  ,  0.  ,  0.  ,\n",
              "        0.  ,  0.  ,  0.  ,  0.  ,  0.  ,  0.  ,  0.  ,  0.  ,  0.  ,\n",
              "        0.  ,  0.  ,  0.  ,  0.  ,  0.  ,  0.  ,  0.  ,  0.  ,  0.  ,\n",
              "        0.  ,  0.  ,  0.  ,  0.  ,  0.  ])"
            ]
          },
          "metadata": {
            "tags": []
          },
          "execution_count": 42
        }
      ]
    },
    {
      "cell_type": "code",
      "metadata": {
        "colab": {
          "base_uri": "https://localhost:8080/"
        },
        "id": "lHg0lBqYg51N",
        "outputId": "21708211-52ec-4203-fb9b-f97f07c00f1b"
      },
      "source": [
        "env.get_state"
      ],
      "execution_count": 43,
      "outputs": [
        {
          "output_type": "execute_result",
          "data": {
            "text/plain": [
              "array([-0.25,  0.  ,  0.  ,  0.  ,  0.  ,  0.  ,  0.  ,  0.  ,  0.  ,\n",
              "        0.  ,  0.  ,  0.  ,  0.  ,  0.  ,  0.  ,  0.  ,  0.  ,  0.  ,\n",
              "        0.  ,  0.  ,  0.  ,  0.  ,  0.  ,  0.  ,  0.  ,  0.  ,  0.  ,\n",
              "        0.  ,  0.  ,  0.  ,  0.  ,  0.  ])"
            ]
          },
          "metadata": {
            "tags": []
          },
          "execution_count": 43
        }
      ]
    },
    {
      "cell_type": "code",
      "metadata": {
        "colab": {
          "base_uri": "https://localhost:8080/"
        },
        "id": "GQbvVgOgMLdm",
        "outputId": "c49d4803-4b65-41cf-a4d4-a4d7e6b85bcb"
      },
      "source": [
        "# env.start_recording()\n",
        "\n",
        "#env.step(joint_torques, duration)\n",
        "env.step([-3], 0.02) \n",
        "# env.step([1],6)\n",
        "# env.step([-1],3)\n",
        "\n",
        "# env.stop_recording()"
      ],
      "execution_count": 44,
      "outputs": [
        {
          "output_type": "execute_result",
          "data": {
            "text/plain": [
              "array([-2.62028832e-01,  4.05252974e-02,  1.53277936e-03, -5.12591423e-04,\n",
              "       -5.25426093e-04, -4.65053083e-04, -4.11065667e-04, -3.65041852e-04,\n",
              "       -3.26152912e-04, -2.93640273e-04, -2.66868419e-04, -2.45314019e-04,\n",
              "       -2.28555421e-04, -2.16252723e-04, -2.07782706e-04, -1.93533870e-04,\n",
              "       -3.58659640e+00,  3.74625083e+00,  2.49751775e-01, -4.17588844e-02,\n",
              "       -5.10824523e-02, -4.55652507e-02, -4.02873918e-02, -3.57761489e-02,\n",
              "       -3.19639696e-02, -2.87768830e-02, -2.61525952e-02, -2.40398022e-02,\n",
              "       -2.23971078e-02, -2.11894176e-02, -2.03198560e-02, -1.84424602e-02])"
            ]
          },
          "metadata": {
            "tags": []
          },
          "execution_count": 44
        }
      ]
    },
    {
      "cell_type": "markdown",
      "metadata": {
        "id": "agrBH0IWLg2L"
      },
      "source": [
        "##Apply constant torque"
      ]
    },
    {
      "cell_type": "code",
      "metadata": {
        "colab": {
          "base_uri": "https://localhost:8080/"
        },
        "id": "rk8Bx8UMUlan",
        "outputId": "0b89ff38-c0b4-4c9e-cd75-141f95b1f8a6"
      },
      "source": [
        "def model(state):\n",
        "  return [1]\n",
        "  \n",
        "env.render(model)"
      ],
      "execution_count": 45,
      "outputs": [
        {
          "output_type": "stream",
          "text": [
            "Connecting to meshcat-server at zmq_url=tcp://127.0.0.1:6001...\n",
            "You can open the visualizer by visiting the following URL:\n",
            "http://2fa7b4ea681d.ngrok.io/static/\n",
            "Connected to meshcat-server.\n"
          ],
          "name": "stdout"
        }
      ]
    },
    {
      "cell_type": "markdown",
      "metadata": {
        "id": "3zbznUay2vjk"
      },
      "source": [
        "#Import Torch"
      ]
    },
    {
      "cell_type": "code",
      "metadata": {
        "id": "AG2zB2ptZ92s"
      },
      "source": [
        "import torch\n",
        "import torch.nn as nn\n",
        "import torch.optim as optim\n",
        "import torch.nn.functional as F\n",
        "from torch.distributions.normal import Normal\n",
        "\n",
        "# if gpu is to be used\n",
        "if torch.cuda.is_available():\n",
        "  device = torch.device(\"cuda\")\n",
        "  torch.set_default_tensor_type(torch.cuda.FloatTensor)\n",
        "else:\n",
        "  device = torch.device(\"cpu\")\n",
        "  torch.set_default_tensor_type(torch.FloatTensor)"
      ],
      "execution_count": 46,
      "outputs": []
    },
    {
      "cell_type": "markdown",
      "metadata": {
        "id": "7SG9Qz4Z2j5P"
      },
      "source": [
        "##Util to Plot reward\n"
      ]
    },
    {
      "cell_type": "code",
      "metadata": {
        "id": "CejHVIejaELX"
      },
      "source": [
        "from IPython import display as ipythondisplay\n",
        "\n",
        "tic = time.time()\n",
        "def plot(reward):\n",
        "    global tic\n",
        "    if time.time() - tic > 2:\n",
        "\n",
        "      plt.cla()\n",
        "      plt.plot(reward)\n",
        "      plt.xlabel('episodes')\n",
        "      plt.ylabel('rewards')\n",
        "\n",
        "      ipythondisplay.clear_output(wait=True)\n",
        "      ipythondisplay.display(plt.gcf())\n",
        "      tic = time.time()"
      ],
      "execution_count": 47,
      "outputs": []
    },
    {
      "cell_type": "markdown",
      "metadata": {
        "id": "AxJwyOTM4GZc"
      },
      "source": [
        "#Sparse Reward"
      ]
    },
    {
      "cell_type": "code",
      "metadata": {
        "id": "fjErXGgeaVkU"
      },
      "source": [
        "def Reward(states, goal_states, epsilon):  \n",
        "\n",
        "  dist = (states[:,0] - goal_states[:,0])**2\n",
        "  dist += (states[:,3] - goal_states[:,3])**2\n",
        "  dist += 0.05*(states[:,12] - goal_states[:,12])**2\n",
        "  dist = (dist)**(0.5)\n",
        "\n",
        "  #reward is 0 if dist < epsilon, -1 if dist > epsilon\n",
        "  rewards = -(dist > epsilon).float()\n",
        "\n",
        "  return rewards.unsqueeze(1)"
      ],
      "execution_count": 48,
      "outputs": []
    },
    {
      "cell_type": "markdown",
      "metadata": {
        "id": "YqECUyAk2pZ8"
      },
      "source": [
        "###Memory for [HindSight Experience Replay](https://arxiv.org/pdf/1707.01495.pdf)"
      ]
    },
    {
      "cell_type": "code",
      "metadata": {
        "id": "XMtTJJG9aEG5"
      },
      "source": [
        "from recordclass import recordclass\n",
        "\n",
        "Transitions = recordclass('Transitions', ('states', 'goal_states', 'actions', 'next_states'))\n",
        "\n",
        "class ReplayMemory():\n",
        "    def __init__(self, capacity = 1000, state_dim = 32, goal_dim = 32, action_dim = 1, Her_k = 8):\n",
        "      \n",
        "        self.length = 0\n",
        "        self.prev_length = 0\n",
        "        self.capacity = capacity\n",
        "        self.Her_K = Her_k\n",
        "\n",
        "        self.states = np.zeros((capacity, state_dim))\n",
        "        self.goal_states = np.zeros((capacity, Her_k, goal_dim))\n",
        "        self.actions = np.zeros((capacity, action_dim))\n",
        "        self.next_states = np.zeros((capacity, state_dim))\n",
        "\n",
        "        self.temp_states = []\n",
        "      \n",
        "    def add_transition(self, *args):\n",
        "        index = self.length % self.capacity\n",
        "\n",
        "        self.temp_states.append(args[0])\n",
        "\n",
        "        self.states[index] = args[0]\n",
        "        self.goal_states[index][0] = args[1]\n",
        "        self.actions[index] = args[2]\n",
        "        self.next_states[index] = args[3]\n",
        "\n",
        "        self.length += 1\n",
        "    \n",
        "    def add_goal_states(self):\n",
        "        n = len(self.temp_states)\n",
        "        temp_states = np.array(self.temp_states)\n",
        "        self.temp_states = []\n",
        "        for i in range(n):\n",
        "          start = i if (n-i) > self.Her_K else n - self.Her_K\n",
        "\n",
        "          goal_inds = np.random.randint(start,n,self.Her_K-1)\n",
        "\n",
        "          ind = self.prev_length % self.capacity\n",
        "          self.goal_states[ind][1:,:] = temp_states[goal_inds]\n",
        "          self.prev_length += 1\n",
        "        \n",
        "\n",
        "    def sample(self, batch_size):\n",
        "\n",
        "        maxind = min(self.length, self.capacity)\n",
        "        inds = np.random.choice(maxind, batch_size)\n",
        "        goal_inds = np.random.choice(self.Her_K, batch_size)\n",
        "\n",
        "        batch = Transitions(self.states[inds],\n",
        "                            self.goal_states[inds,goal_inds],\n",
        "                            self.actions[inds],\n",
        "                            self.next_states[inds]\n",
        "                            )\n",
        "        \n",
        "        for i in range(4):\n",
        "          batch[i] = torch.tensor(batch[i], dtype=torch.float)\n",
        "\n",
        "        return batch\n",
        "        \n",
        "    def __len__(self):\n",
        "      return min(self.length, self.capacity)"
      ],
      "execution_count": 49,
      "outputs": []
    },
    {
      "cell_type": "markdown",
      "metadata": {
        "id": "xHQdbXf43JPH"
      },
      "source": [
        "#**Q-value Network**"
      ]
    },
    {
      "cell_type": "code",
      "metadata": {
        "id": "_zPwZAq0aEPX"
      },
      "source": [
        "class DQN(nn.Module):\n",
        "\n",
        "    def __init__(self, state_dim = 32, goal_dim = 32, action_dim = 1):\n",
        "        super(DQN, self).__init__()\n",
        "        self.l11 = nn.Linear(state_dim, 64)\n",
        "        self.l11.weight.data.uniform_(-0.05,0.05)\n",
        "        self.l11.bias.data.fill_(0.01)\n",
        "\n",
        "        self.l12 = nn.Linear(goal_dim, 64)\n",
        "        self.l12.weight.data.uniform_(-0.05,0.05)\n",
        "        self.l12.bias.data.fill_(0.01)\n",
        "\n",
        "        self.l13 = nn.Linear(action_dim, 16)\n",
        "        self.l13.weight.data.uniform_(-0.05,0.05)\n",
        "        self.l13.bias.data.fill_(0.01)\n",
        "\n",
        "        self.l2 = nn.Linear(144, 256)\n",
        "\n",
        "        self.l3 = nn.Linear(256, 1)\n",
        "        self.l3.weight.data.uniform_(-0.003,0.003)\n",
        "        self.l3.bias.data.fill_(0.001)\n",
        "\n",
        "    def forward(self, states, goal_states, actions):\n",
        "        states = torch.tanh(self.l11(states))\n",
        "        goal_states = torch.tanh(self.l12(goal_states))\n",
        "        actions = torch.tanh(self.l13(actions))\n",
        "        x = torch.cat((states, goal_states, actions),1)\n",
        "        x = torch.relu(self.l2(x))\n",
        "        x = self.l3(x)\n",
        "        return x\n"
      ],
      "execution_count": 50,
      "outputs": []
    },
    {
      "cell_type": "markdown",
      "metadata": {
        "id": "RuVbBsAY0e8-"
      },
      "source": [
        "#**Double DQN critic** "
      ]
    },
    {
      "cell_type": "code",
      "metadata": {
        "id": "LxQomVTMs2i9"
      },
      "source": [
        "class Critic(nn.Module):\n",
        "  def __init__(self):\n",
        "    super(Critic, self).__init__()\n",
        "    self.q1 = DQN()\n",
        "    self.q2 = DQN()\n",
        "  \n",
        "  def predict(self, states, goal_states, actions):\n",
        "    q1 = self.q1(states, goal_states, actions)\n",
        "    q2 = self.q2(states, goal_states, actions)\n",
        "    return q1, q2\n",
        "  \n",
        "  def forward(self, states, goal_states, actions):\n",
        "    q1, q2 = self.predict(states, goal_states, actions)\n",
        "    return torch.min(q1, q2)\n",
        "  \n",
        "  def Cal_loss(self, expected_critic_values, batch):\n",
        "    q1, q2 = self.predict(batch.states, batch.goal_states, batch.actions)\n",
        "    loss1 = F.smooth_l1_loss(expected_critic_values, q1)\n",
        "    loss2 = F.smooth_l1_loss(expected_critic_values, q2)\n",
        "    return loss1 + loss2"
      ],
      "execution_count": 51,
      "outputs": []
    },
    {
      "cell_type": "markdown",
      "metadata": {
        "id": "x64gwgZd3Nsy"
      },
      "source": [
        "#**Policy network**"
      ]
    },
    {
      "cell_type": "code",
      "metadata": {
        "id": "s6_sGDyYaEU-"
      },
      "source": [
        "class Policy(nn.Module):\n",
        "\n",
        "    def __init__(self, state_dim = 32, goal_dim = 32, action_dim = 1, action_limit = 4):\n",
        "        super(Policy, self).__init__()\n",
        "\n",
        "        self.act_lim = action_limit\n",
        "\n",
        "        self.l11 = nn.Linear(state_dim, 64)\n",
        "        self.l11.weight.data.uniform_(-0.05,0.05)\n",
        "        self.l11.bias.data.fill_(0.01)\n",
        "\n",
        "        self.l12 = nn.Linear(goal_dim, 64)\n",
        "        self.l12.weight.data.uniform_(-0.05,0.05)\n",
        "        self.l12.bias.data.fill_(0.01)\n",
        "\n",
        "        self.l2 = nn.Linear(128, 256)\n",
        "\n",
        "        self.mean_layer = nn.Linear(256, action_dim)\n",
        "        self.mean_layer.weight.data.uniform_(-0.01,0.01)\n",
        "        self.mean_layer.bias.data.fill_(0.01)\n",
        "\n",
        "        self.log_std = nn.Linear(256, action_dim)\n",
        "        self.log_std.weight.data.uniform_(-0.005,0.005)\n",
        "        self.log_std.bias.data.fill_(0.005)\n",
        "\n",
        "    def forward(self, states, goal_states, training = True):\n",
        "        states = torch.tanh(self.l11(states))\n",
        "        goal_states = torch.tanh(self.l12(goal_states))\n",
        "\n",
        "        x = torch.cat((states, goal_states), 1)\n",
        "        x = torch.relu(self.l2(x))\n",
        "\n",
        "        mean = self.mean_layer(x)\n",
        "        std = torch.exp(self.log_std(x).clamp(-20, 2))\n",
        "\n",
        "        if not training:\n",
        "          sample = mean\n",
        "        else:\n",
        "          sample = mean + std * torch.randn(mean.size())\n",
        "\n",
        "        action = torch.tanh(sample)\n",
        "\n",
        "        log_probs = Normal(mean, std).log_prob(sample) - torch.log(1 - action**2 + 1e-8)\n",
        "\n",
        "        return self.act_lim * action, std, log_probs\n",
        "\n",
        "    def choose_action(self, state, goal_state, training = True, verb = 0):\n",
        "        state = torch.tensor(state, dtype = torch.float).unsqueeze(0)\n",
        "        goal_state = torch.tensor(goal_state, dtype = torch.float).unsqueeze(0)\n",
        "\n",
        "        action, std, _  = self.forward(state, goal_state, training)\n",
        "        action, std = action.item(), std.item()\n",
        "        if verb: print(action, std)\n",
        "        \n",
        "        return [round(action, 5)]\n",
        "        "
      ],
      "execution_count": 52,
      "outputs": []
    },
    {
      "cell_type": "markdown",
      "metadata": {
        "id": "3IFkhelWzzm9"
      },
      "source": [
        "##Traininig utils"
      ]
    },
    {
      "cell_type": "code",
      "metadata": {
        "id": "TRvMlLXHzgdg"
      },
      "source": [
        "def Optimize(model, optimizer, loss):\n",
        "    optimizer.zero_grad()\n",
        "    loss.backward()\n",
        "    for param in model.parameters():\n",
        "        param.grad.data.clamp_(-2, 2) \n",
        "        # param.grad.data[torch.isnan(param.grad.data)] = 0\n",
        "    optimizer.step()"
      ],
      "execution_count": 53,
      "outputs": []
    },
    {
      "cell_type": "code",
      "metadata": {
        "id": "XNjMhnOWaVgR"
      },
      "source": [
        "def soft_update(target, source, tau):\n",
        "\tfor a, b in zip(target.parameters(), source.parameters()):\n",
        "\t\ta.data.copy_(a.data * (1.0 - tau) + b.data * tau)"
      ],
      "execution_count": 54,
      "outputs": []
    },
    {
      "cell_type": "markdown",
      "metadata": {
        "id": "DKr4I2IE3Z_m"
      },
      "source": [
        "#**Initialize**"
      ]
    },
    {
      "cell_type": "code",
      "metadata": {
        "id": "-NWtDLcnaVtr"
      },
      "source": [
        "gamma = 0.99\n",
        "epsilon = 0.075\n",
        "\n",
        "actor = Policy().to(device)\n",
        "target_actor = Policy().to(device)\n",
        "\n",
        "critic = Critic().to(device)\n",
        "target_critic = Critic().to(device)\n",
        "\n",
        "target_actor.load_state_dict(actor.state_dict())\n",
        "target_critic.load_state_dict(critic.state_dict())\n",
        "\n",
        "memory = ReplayMemory(300000)\n",
        "\n",
        "actor_optimizer = optim.Adam(actor.parameters(),1e-3)\n",
        "critic_optimizer = optim.Adam(critic.parameters(),1e-3)\n",
        "\n",
        "\n",
        "reward_list = []\n",
        "avg_rewards = [-500]"
      ],
      "execution_count": 55,
      "outputs": []
    },
    {
      "cell_type": "markdown",
      "metadata": {
        "id": "9DQus03M3bqm"
      },
      "source": [
        "#**Single training step**"
      ]
    },
    {
      "cell_type": "code",
      "metadata": {
        "id": "vK7G1KVMaVow"
      },
      "source": [
        "def train_step():\n",
        "    if len(memory) < 2000: return\n",
        "\n",
        "    batch = memory.sample(64)\n",
        "\n",
        "  #---------------------critic training----------------------------------\n",
        "    next_actions, std, log_probs = actor(batch.next_states, batch.goal_states)\n",
        "    next_critic_values = target_critic(batch.next_states, batch.goal_states, next_actions).detach()\n",
        "\n",
        "    expected_critic_values = Reward(batch.states, batch.goal_states, epsilon) + gamma * (next_critic_values - 0.1*log_probs)\n",
        "    expected_critic_values = expected_critic_values.clamp(-150, 150)\n",
        "\n",
        "    critic_loss = critic.Cal_loss(expected_critic_values.detach(), batch)\n",
        "\n",
        "    Optimize(critic, critic_optimizer, critic_loss)\n",
        "  #---------------------------------------------------------------------\n",
        "\n",
        "\n",
        "  #-----------------Freeze critic parameters-----------------------------\n",
        "    for param in critic.parameters():\n",
        "        param.requires_grad = False\n",
        "  #------------------------------------------------------------------------\n",
        "\n",
        "\n",
        "  #---------------------actor training----------------------------------\n",
        "    actions, std, log_probs = actor(batch.states, batch.goal_states)\n",
        "    critic_value = critic(batch.states, batch.goal_states, actions)\n",
        "    actor_loss = torch.mean(-critic_value + 0.1*log_probs)\n",
        "\n",
        "    Optimize(actor, actor_optimizer, actor_loss)\n",
        "  #-----------------------------------------------------------------------\n",
        "\n",
        "\n",
        "  #--------------------UnFreeze critic parameters-----------------------------\n",
        "    for param in critic.parameters():\n",
        "        param.requires_grad = True\n",
        "  #-------------------------------------------------------------------------\n",
        "\n",
        "\n",
        "  #----------------soft update targets--------------------------------------\n",
        "    soft_update(target_actor, actor, 0.005)\n",
        "    soft_update(target_critic, critic, 0.005)\n",
        "  #-------------------------------------------------------------------------"
      ],
      "execution_count": 56,
      "outputs": []
    },
    {
      "cell_type": "markdown",
      "metadata": {
        "id": "XV6XS5Dw3iWp"
      },
      "source": [
        "#**Training**"
      ]
    },
    {
      "cell_type": "code",
      "metadata": {
        "colab": {
          "base_uri": "https://localhost:8080/",
          "height": 381
        },
        "id": "7KIBIkHwaV1d",
        "outputId": "953d404b-8f77-4734-c80e-eba39008348e"
      },
      "source": [
        "env = FlexibleEnv()\n",
        "avg_rewards = []\n",
        "for i_episode in tqdm(range(200)):\n",
        "\n",
        "  state = env.reset()\n",
        "  total_reward = 0\n",
        "  goal_state = [np.random.uniform(-1,1)]+ [0]*31\n",
        "\n",
        "  print(state, goal_state)\n",
        "\n",
        "  for steps in range(500):\n",
        "\n",
        "    action = actor.choose_action(state, goal_state)\n",
        "    next_state = env.step(action)\n",
        "    memory.add_transition(state, goal_state, action[0], next_state)\n",
        "\n",
        "    dist = (state[0] - goal_state[0])**2\n",
        "    dist += (state[3] - goal_state[3])**2\n",
        "    dist += 0.05*(state[12] - goal_state[12])**2\n",
        "    dist = (dist)**(0.5)\n",
        "    dist = -int(dist>epsilon)\n",
        "    total_reward += dist\n",
        "\n",
        "    state = next_state\n",
        "  \n",
        "  memory.add_goal_states()\n",
        "  for _ in range(300):   \n",
        "    train_step()\n",
        "\n",
        "  # epsilon *= 0.998\n",
        "  reward_list.append(total_reward)\n",
        "  avg_rewards.append(np.mean(reward_list[-40:])) \n",
        "\n",
        "  plot(avg_rewards)"
      ],
      "execution_count": null,
      "outputs": [
        {
          "output_type": "display_data",
          "data": {
            "image/png": "[encoded data removed]",
            "text/plain": [
              "<Figure size 432x288 with 1 Axes>"
            ]
          },
          "metadata": {
            "tags": []
          }
        },
        {
          "output_type": "stream",
          "text": [
            "\r  6%|▋         | 13/200 [01:24<22:27,  7.21s/it]"
          ],
          "name": "stderr"
        },
        {
          "output_type": "stream",
          "text": [
            "[-0.35252203 -0.04429523 -0.04429523 -0.04429523 -0.04429523 -0.04429523\n",
            " -0.04429523 -0.04429523 -0.04429523 -0.04429523 -0.04429523 -0.04429523\n",
            " -0.04429523 -0.04429523 -0.04429523 -0.04429523  0.45443908  0.01015503\n",
            "  0.01015503  0.01015503  0.01015503  0.01015503  0.01015503  0.01015503\n",
            "  0.01015503  0.01015503  0.01015503  0.01015503  0.01015503  0.01015503\n",
            "  0.01015503  0.01015503] [-0.6375793878090936, 0, 0, 0, 0, 0, 0, 0, 0, 0, 0, 0, 0, 0, 0, 0, 0, 0, 0, 0, 0, 0, 0, 0, 0, 0, 0, 0, 0, 0, 0, 0]\n"
          ],
          "name": "stdout"
        }
      ]
    },
    {
      "cell_type": "code",
      "metadata": {
        "id": "eGYqutzRfV67"
      },
      "source": [
        "torch.save({\n",
        "          'actor': target_actor.state_dict(),\n",
        "          'critic': target_critic.state_dict(),\n",
        "          'actor_optimizer': actor_optimizer.state_dict(),\n",
        "          'critic_optimizer': critic_optimizer.state_dict()\n",
        "          }, 'best16')\n"
      ],
      "execution_count": 26,
      "outputs": []
    },
    {
      "cell_type": "code",
      "metadata": {
        "colab": {
          "base_uri": "https://localhost:8080/",
          "height": 17
        },
        "id": "Srqfk41vSFbO",
        "outputId": "2c353d43-0eb9-463c-8c05-ac5bbbc4ffe7"
      },
      "source": [
        "from google.colab import files\n",
        "files.download('best16')"
      ],
      "execution_count": 27,
      "outputs": [
        {
          "output_type": "display_data",
          "data": {
            "application/javascript": [
              "\n",
              "    async function download(id, filename, size) {\n",
              "      if (!google.colab.kernel.accessAllowed) {\n",
              "        return;\n",
              "      }\n",
              "      const div = document.createElement('div');\n",
              "      const label = document.createElement('label');\n",
              "      label.textContent = `Downloading \"${filename}\": `;\n",
              "      div.appendChild(label);\n",
              "      const progress = document.createElement('progress');\n",
              "      progress.max = size;\n",
              "      div.appendChild(progress);\n",
              "      document.body.appendChild(div);\n",
              "\n",
              "      const buffers = [];\n",
              "      let downloaded = 0;\n",
              "\n",
              "      const channel = await google.colab.kernel.comms.open(id);\n",
              "      // Send a message to notify the kernel that we're ready.\n",
              "      channel.send({})\n",
              "\n",
              "      for await (const message of channel.messages) {\n",
              "        // Send a message to notify the kernel that we're ready.\n",
              "        channel.send({})\n",
              "        if (message.buffers) {\n",
              "          for (const buffer of message.buffers) {\n",
              "            buffers.push(buffer);\n",
              "            downloaded += buffer.byteLength;\n",
              "            progress.value = downloaded;\n",
              "          }\n",
              "        }\n",
              "      }\n",
              "      const blob = new Blob(buffers, {type: 'application/binary'});\n",
              "      const a = document.createElement('a');\n",
              "      a.href = window.URL.createObjectURL(blob);\n",
              "      a.download = filename;\n",
              "      div.appendChild(a);\n",
              "      a.click();\n",
              "      div.remove();\n",
              "    }\n",
              "  "
            ],
            "text/plain": [
              "<IPython.core.display.Javascript object>"
            ]
          },
          "metadata": {
            "tags": []
          }
        },
        {
          "output_type": "display_data",
          "data": {
            "application/javascript": [
              "download(\"download_f33e1fba-b401-4cb2-b6ff-4b12bc572a46\", \"best16\", 1480409)"
            ],
            "text/plain": [
              "<IPython.core.display.Javascript object>"
            ]
          },
          "metadata": {
            "tags": []
          }
        }
      ]
    },
    {
      "cell_type": "markdown",
      "metadata": {
        "id": "8G5n4M2X3ooN"
      },
      "source": [
        "#Test Learned Policy"
      ]
    },
    {
      "cell_type": "code",
      "metadata": {
        "id": "f6HU1nuWiOKN"
      },
      "source": [
        "def Go_to(goal = np.pi/2, init_state = None, verb = 0):\n",
        "\n",
        "  goal_state = [goal/np.pi]+[0]*31\n",
        "\n",
        "  policy = lambda state: target_actor.choose_action(state, goal_state, False, verb)\n",
        "\n",
        "  #Simulate with learned policy\n",
        "  env = FlexibleEnv()\n",
        "\n",
        "  # print(env.get_state)\n",
        "  env.start_recording(init_state)\n",
        "\n",
        "  prev_theta = 0\n",
        "    \n",
        "  for i in range(200):\n",
        "      state = env.get_state\n",
        "      theta = state[1]\n",
        "      # print((theta - prev_theta)*20)\n",
        "      prev_theta = theta\n",
        "      u = policy(state)\n",
        "      dist = ((state[1] - goal_state[0])**2 )**(0.5)\n",
        "      # print(state, dist, '\\n')\n",
        "      env.step(u)\n",
        "    \n",
        "  env.stop_recording()\n",
        "\n",
        "\n",
        "  #Add target angle Marker in visualiser\n",
        "  R = RollPitchYaw([np.pi/4, 0, goal])\n",
        "  T = RigidTransform(R, [0.0625,0,0]).GetAsMatrix4()\n",
        "  AddTriad(env.visualizer.vis, name='target', prefix='', length=0.5, radius=0.005, opacity=0.8)\n",
        "  env.visualizer.vis['']['target'].set_transform(T)"
      ],
      "execution_count": 37,
      "outputs": []
    },
    {
      "cell_type": "code",
      "metadata": {
        "colab": {
          "base_uri": "https://localhost:8080/"
        },
        "id": "vHu2IRe5Sjzd",
        "outputId": "c39bd063-6c33-4833-b702-325f900fabcd"
      },
      "source": [
        "Go_to(np.pi/2, [0,0,0,0], 0)\n",
        "\n",
        "# env.get_state"
      ],
      "execution_count": 38,
      "outputs": [
        {
          "output_type": "stream",
          "text": [
            "Connecting to meshcat-server at zmq_url=tcp://127.0.0.1:6001...\n",
            "You can open the visualizer by visiting the following URL:\n",
            "http://2fa7b4ea681d.ngrok.io/static/\n",
            "Connected to meshcat-server.\n"
          ],
          "name": "stdout"
        }
      ]
    },
    {
      "cell_type": "code",
      "metadata": {
        "id": "05D4Oaq5o_5x"
      },
      "source": [
        ""
      ],
      "execution_count": null,
      "outputs": []
    }
  ]
}