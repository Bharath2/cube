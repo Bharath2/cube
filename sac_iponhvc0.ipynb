{
  "nbformat": 4,
  "nbformat_minor": 0,
  "metadata": {
    "colab": {
      "name": "sac-iponhvc0.ipynb",
      "provenance": [],
      "collapsed_sections": [
        "ruTYmH4QGoGX",
        "xyuA3PFnIByt",
        "iMV5rPsoI3Bk",
        "TY1RgZD1JDI2",
        "-1Q4ry9NJReY"
      ],
      "include_colab_link": true
    },
    "kernelspec": {
      "name": "python3",
      "display_name": "Python 3"
    },
    "language_info": {
      "name": "python"
    },
    "accelerator": "GPU"
  },
  "cells": [
    {
      "cell_type": "markdown",
      "metadata": {
        "id": "view-in-github",
        "colab_type": "text"
      },
      "source": [
        "<a href=\"https://colab.research.google.com/github/Bharath2/cube/blob/master/sac_iponhvc0.ipynb\" target=\"_parent\"><img src=\"https://colab.research.google.com/assets/colab-badge.svg\" alt=\"Open In Colab\"/></a>"
      ]
    },
    {
      "cell_type": "code",
      "metadata": {
        "colab": {
          "base_uri": "https://localhost:8080/"
        },
        "id": "gpOM1Hf2Fk1u",
        "outputId": "6bd2754c-b40e-47d6-8559-9433ca2f87e3"
      },
      "source": [
        "!apt-get install -y xvfb python-opengl x11-utils > /dev/null 2>&1\n",
        "!pip install pyvirtualdisplay > /dev/null 2>&1\n",
        "!pip install mitdeeplearning\n",
        "!pip install recordclass\n",
        "!pip install box2d box2d-py box2d-kengz"
      ],
      "execution_count": 1,
      "outputs": [
        {
          "output_type": "stream",
          "text": [
            "Requirement already satisfied: mitdeeplearning in /usr/local/lib/python3.7/dist-packages (0.2.0)\n",
            "Requirement already satisfied: regex in /usr/local/lib/python3.7/dist-packages (from mitdeeplearning) (2019.12.20)\n",
            "Requirement already satisfied: tqdm in /usr/local/lib/python3.7/dist-packages (from mitdeeplearning) (4.41.1)\n",
            "Requirement already satisfied: gym in /usr/local/lib/python3.7/dist-packages (from mitdeeplearning) (0.17.3)\n",
            "Requirement already satisfied: numpy in /usr/local/lib/python3.7/dist-packages (from mitdeeplearning) (1.19.5)\n",
            "Requirement already satisfied: cloudpickle<1.7.0,>=1.2.0 in /usr/local/lib/python3.7/dist-packages (from gym->mitdeeplearning) (1.3.0)\n",
            "Requirement already satisfied: scipy in /usr/local/lib/python3.7/dist-packages (from gym->mitdeeplearning) (1.4.1)\n",
            "Requirement already satisfied: pyglet<=1.5.0,>=1.4.0 in /usr/local/lib/python3.7/dist-packages (from gym->mitdeeplearning) (1.5.0)\n",
            "Requirement already satisfied: future in /usr/local/lib/python3.7/dist-packages (from pyglet<=1.5.0,>=1.4.0->gym->mitdeeplearning) (0.16.0)\n",
            "Requirement already satisfied: recordclass in /usr/local/lib/python3.7/dist-packages (0.14.3)\n",
            "Requirement already satisfied: box2d in /usr/local/lib/python3.7/dist-packages (2.3.10)\n",
            "Requirement already satisfied: box2d-py in /usr/local/lib/python3.7/dist-packages (2.3.8)\n",
            "Collecting box2d-kengz\n",
            "  Using cached https://files.pythonhosted.org/packages/81/20/51d6c0c87f7642efb709c518fb0ca8e5eab068259588552c41da5926ae27/Box2D-kengz-2.3.3.tar.gz\n",
            "Building wheels for collected packages: box2d-kengz\n",
            "  Building wheel for box2d-kengz (setup.py) ... \u001b[?25lerror\n",
            "\u001b[31m  ERROR: Failed building wheel for box2d-kengz\u001b[0m\n",
            "\u001b[?25h  Running setup.py clean for box2d-kengz\n",
            "Failed to build box2d-kengz\n",
            "Installing collected packages: box2d-kengz\n",
            "    Running setup.py install for box2d-kengz ... \u001b[?25l\u001b[?25herror\n",
            "\u001b[31mERROR: Command errored out with exit status 1: /usr/bin/python3 -u -c 'import sys, setuptools, tokenize; sys.argv[0] = '\"'\"'/tmp/pip-install-7fgt6akn/box2d-kengz/setup.py'\"'\"'; __file__='\"'\"'/tmp/pip-install-7fgt6akn/box2d-kengz/setup.py'\"'\"';f=getattr(tokenize, '\"'\"'open'\"'\"', open)(__file__);code=f.read().replace('\"'\"'\\r\\n'\"'\"', '\"'\"'\\n'\"'\"');f.close();exec(compile(code, __file__, '\"'\"'exec'\"'\"'))' install --record /tmp/pip-record-7jkg3vvt/install-record.txt --single-version-externally-managed --compile Check the logs for full command output.\u001b[0m\n"
          ],
          "name": "stdout"
        }
      ]
    },
    {
      "cell_type": "code",
      "metadata": {
        "id": "OH6EK2CsF-Wa"
      },
      "source": [
        "import time, gym\n",
        "from gym import spaces\n",
        "import numpy as np\n",
        "from tqdm import tqdm\n",
        "import matplotlib.pyplot as plt\n",
        "from itertools import count\n",
        "from scipy.integrate import solve_ivp"
      ],
      "execution_count": 2,
      "outputs": []
    },
    {
      "cell_type": "code",
      "metadata": {
        "id": "jMLBg1hqGEIw"
      },
      "source": [
        "from pyvirtualdisplay import Display\n",
        "from mitdeeplearning.lab3 import play_video\n",
        "from gym.wrappers.monitoring.video_recorder import VideoRecorder\n",
        "\n",
        "def save_video(env, model, name):\n",
        "    display = Display(visible=0, size=(400, 300))\n",
        "    display.start()\n",
        "\n",
        "    filename = name + \".mp4\"\n",
        "    video_recorder = VideoRecorder(env, filename, enabled=True)\n",
        "    \n",
        "    counter = 0\n",
        "    action = [0]\n",
        "    done = 0\n",
        "    obs = env.reset()\n",
        "    while not done:\n",
        "        env.render()\n",
        "        video_recorder.capture_frame() \n",
        "        action = model(obs)\n",
        "        obs, reward, done, info = env.step(action)\n",
        "        counter += 1\n",
        "\n",
        "    video_recorder.close()\n",
        "    video_recorder.enabled = False\n",
        "    print(\"Successfully saved {} frames into {}!\".format(counter, filename))\n",
        "    return filename"
      ],
      "execution_count": 3,
      "outputs": []
    },
    {
      "cell_type": "markdown",
      "metadata": {
        "id": "ruTYmH4QGoGX"
      },
      "source": [
        "# **Environment**"
      ]
    },
    {
      "cell_type": "code",
      "metadata": {
        "id": "qc0VaxCjGlHE"
      },
      "source": [
        "class IPHVC(gym.Env):\n",
        "    metadata = {\n",
        "        'render.modes': ['human','rgb_array'],\n",
        "        'video.frames_per_second': 30\n",
        "    }\n",
        "\n",
        "    def __init__(self):\n",
        "        super(IPHVC,self).__init__()\n",
        "        self.viewer = None\n",
        "        self.counter = 0\n",
        "        self.maxsteps = 600 # need more time than 500\n",
        "        self.mp = 0.25\n",
        "        self.Jp = 0.0075\n",
        "        self.lp = 1.0 # eases instead of 0.6; redo equations of motion with lpc later\n",
        "        self.mc = 10\n",
        "        self.g = 9.81\n",
        "        self.fxscale = 40\n",
        "        self.fyscale = 90\n",
        "        self.xmax = 0.2 # more realistic instead of 0.3\n",
        "        self.ymax = 0.1\n",
        "        self.state = np.array([0,0,0,0,0,0])\n",
        "        self.action_space = spaces.Box(low=-1*np.ones((2,)),high=1*np.ones((2,)),dtype=np.float32)\n",
        "        self.observation_space = spaces.Box(low=-100*np.ones((6,)),high=100*np.ones((6,)),dtype=np.float32)\n",
        "    \n",
        "    def reset(self):\n",
        "        self.counter = 0\n",
        "        self.state = np.array([np.pi+np.random.normal(0,0.1),0,0,np.random.normal(0,0.1),0,0])\n",
        "        self.state[0] = self.state[0]%(2*np.pi)\n",
        "        obs = self.state\n",
        "        return obs\n",
        "\n",
        "    def __f(self,t,y):\n",
        "        mp, Jp, lp, mc, g = self.mp, self.Jp, self.lp, self.mc, self.g\n",
        "        q, xc, yc, qd, xcd, ycd = y[0:6]\n",
        "        M = np.array([[Jp + lp ** 2 * mp / 4,-mp * lp * np.cos(q) / 2,-mp * lp * np.sin(q) / 2],[-mp * lp * np.cos(q) / 2,mc + mp,0],[-mp * lp * np.sin(q) / 2,0,mc + mp]])\n",
        "        C = np.array([[0],[mp * lp * qd ** 2 * np.sin(q) / 2],[-mp * lp * qd ** 2 * np.cos(q) / 2]])\n",
        "        G = np.array([[-mp * g * lp * np.sin(q) / 2],[0],[mc * g + mp * g]])\n",
        "\n",
        "        tau = self.tau.reshape((3,1))+np.array([0,0,(mp+mc)*g]).reshape((3,1))\n",
        "        Minv = np.linalg.inv(M)\n",
        "        acc = Minv@(tau-C-G)\n",
        "        dy = np.array([y[3],y[4],y[5],acc[0],acc[1],acc[2]],dtype=np.float32)\n",
        "        return dy\n",
        "\n",
        "    def step(self,action):\n",
        "        next_state, reward, done, info = self.state, 0, False, {'Terminal':''}\n",
        "        self.counter += 1\n",
        "        if self.counter>self.maxsteps:\n",
        "            done, info['Terminal'] = True, 'Timeout'\n",
        "            return next_state, reward, done, info\n",
        "        self.tau = np.array([0,self.fxscale*action[0],self.fyscale*action[1]])\n",
        "        self.state[0] = self.state[0]%(2*np.pi)\n",
        "        sol = solve_ivp(self.__f,[0,0.01],self.state,rtol=1e-8,atol=1e-8)\n",
        "        next_state = sol.y[:,-1]\n",
        "        next_state[0] = next_state[0]%(2*np.pi)\n",
        "        self.state = next_state\n",
        "        reward = 0.1*abs(next_state[0]-np.pi)**2\n",
        "\n",
        "        if abs(next_state[1])>self.xmax or abs(next_state[2])>self.ymax:\n",
        "            reward, done, info['Terminal'] = -0.1, True, 'Limit'\n",
        "        if self.counter==self.maxsteps:\n",
        "            done, info['Terminal'] = True, 'Timeout'\n",
        "        return next_state, reward, done, info\n",
        "\n",
        "    def render(self, mode='human'):\n",
        "        if self.viewer is None:\n",
        "            from gym.envs.classic_control import rendering\n",
        "            self.viewer = rendering.Viewer(400,400)\n",
        "            self.viewer.set_bounds(-1.0,1.0,-1.0,1.0)#left,right,bottom,top\n",
        "\n",
        "            gnd = rendering.make_polygon([(-0.1-self.xmax,-0.1-self.ymax),(0.1+self.xmax,-0.1-self.ymax),(0.1+self.xmax,0.1+self.ymax),(-0.1-self.xmax,0.1+self.ymax)],filled=False)\n",
        "            gnd.set_color(0.5,0.5,0.5)\n",
        "\n",
        "            cart = rendering.make_polygon([(-0.1,-0.1),(0.1,-0.1),(0.1,0.1),(-0.1,0.1)],filled=True)\n",
        "            cart.set_color(1,0.5,0.5)\n",
        "            self.cartt = rendering.Transform(translation=(0,0))\n",
        "            cart.add_attr(self.cartt)\n",
        "\n",
        "            pend = rendering.make_capsule(0.6,0.02)\n",
        "            pend.set_color(0.5,0.5,1.0)\n",
        "            self.pendt = rendering.Transform(rotation=self.state[0]+np.pi/2)\n",
        "            pend.add_attr(self.pendt)\n",
        "\n",
        "            self.viewer.add_geom(gnd)\n",
        "            self.viewer.add_geom(cart)\n",
        "            self.viewer.add_geom(pend)\n",
        "        self.cartt.set_translation(self.state[1],self.state[2])\n",
        "        self.pendt.set_translation(self.state[1],self.state[2])\n",
        "        self.pendt.set_rotation(self.state[0]+np.pi/2)\n",
        "        return self.viewer.render(return_rgb_array=mode == 'rgb_array')\n",
        "\n",
        "    def close(self):\n",
        "        if self.viewer:\n",
        "            self.viewer.close()\n",
        "            self.viewer = None"
      ],
      "execution_count": 4,
      "outputs": []
    },
    {
      "cell_type": "code",
      "metadata": {
        "colab": {
          "base_uri": "https://localhost:8080/",
          "height": 472
        },
        "id": "oeH9E1bmGN2p",
        "outputId": "54381953-9ac4-4323-c151-fc0384fc0e59"
      },
      "source": [
        "#env = gym.make('BipedalWalker-v3')\n",
        "env = IPHVC()\n",
        "env.reset()\n",
        "\n",
        "save_video(env, lambda x: [0]*4, 'a')\n",
        "play_video('a.mp4')"
      ],
      "execution_count": 5,
      "outputs": [
        {
          "output_type": "stream",
          "text": [
            "/usr/local/lib/python3.7/dist-packages/gym/logger.py:30: UserWarning: \u001b[33mWARN: Box bound precision lowered by casting to float32\u001b[0m\n",
            "  warnings.warn(colorize('%s: %s'%('WARN', msg % args), 'yellow'))\n"
          ],
          "name": "stderr"
        },
        {
          "output_type": "stream",
          "text": [
            "Successfully saved 600 frames into a.mp4!\n"
          ],
          "name": "stdout"
        },
        {
          "output_type": "execute_result",
          "data": {
            "text/html": [
              "\n",
              "        <video controls >\n",
              "            <source src=\"data:video/mp4;base64,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\" type=\"video/mp4\" />\n",
              "        </video>"
            ],
            "text/plain": [
              "<IPython.core.display.HTML object>"
            ]
          },
          "metadata": {
            "tags": []
          },
          "execution_count": 5
        }
      ]
    },
    {
      "cell_type": "code",
      "metadata": {
        "id": "lVBnNAYRH-Oa"
      },
      "source": [
        "state_dim = 6\n",
        "action_dim = 2"
      ],
      "execution_count": 6,
      "outputs": []
    },
    {
      "cell_type": "markdown",
      "metadata": {
        "id": "xyuA3PFnIByt"
      },
      "source": [
        "# **Import Torch**"
      ]
    },
    {
      "cell_type": "code",
      "metadata": {
        "id": "avKd9SViIHIq"
      },
      "source": [
        "import torch\n",
        "import torch.nn as nn\n",
        "import torch.optim as optim\n",
        "import torch.nn.functional as F\n",
        "from torch.distributions.normal import Normal\n",
        "from torch.nn.utils import clip_grad_value_\n",
        "\n",
        "\n",
        "# if gpu is to be used\n",
        "if torch.cuda.is_available():\n",
        "  device = torch.device(\"cuda\")\n",
        "  torch.set_default_tensor_type(torch.cuda.FloatTensor)\n",
        "else:\n",
        "  device = torch.device(\"cpu\")\n",
        "  torch.set_default_tensor_type(torch.FloatTensor)"
      ],
      "execution_count": 7,
      "outputs": []
    },
    {
      "cell_type": "markdown",
      "metadata": {
        "id": "u441CgBYIQG7"
      },
      "source": [
        "# Training Utils"
      ]
    },
    {
      "cell_type": "code",
      "metadata": {
        "id": "kfK7cq5VIT1K"
      },
      "source": [
        "def optimize(model, optimizer, loss, clip_value = 1):\n",
        "    optimizer.zero_grad()\n",
        "    loss.backward()\n",
        "    clip_grad_value_(model.parameters(), clip_value)\n",
        "    optimizer.step()"
      ],
      "execution_count": 8,
      "outputs": []
    },
    {
      "cell_type": "code",
      "metadata": {
        "id": "IPI4llqUIXX3"
      },
      "source": [
        "def soft_update(target, source, tau):\n",
        "\tfor a, b in zip(target.parameters(), source.parameters()):\n",
        "\t\ta.data.copy_(a.data * (1.0 - tau) + b.data * tau)"
      ],
      "execution_count": 9,
      "outputs": []
    },
    {
      "cell_type": "markdown",
      "metadata": {
        "id": "misgcpa0IsX7"
      },
      "source": [
        "# Util to Plot Reward"
      ]
    },
    {
      "cell_type": "code",
      "metadata": {
        "id": "9AAh0Sd9IvOC"
      },
      "source": [
        "from IPython import display as ipythondisplay\n",
        "\n",
        "tic = time.time()\n",
        "def plot(reward):\n",
        "    global tic\n",
        "    if time.time() - tic > 2:\n",
        "\n",
        "      plt.cla()\n",
        "      plt.grid(True)\n",
        "      fig = plt.gcf()\n",
        "      fig.set_size_inches(9,6)\n",
        "      plt.plot(reward)\n",
        "      plt.xlabel('episodes')\n",
        "      plt.ylabel('rewards')\n",
        "\n",
        "      ipythondisplay.clear_output(wait=True)\n",
        "      ipythondisplay.display(plt.gcf())\n",
        "      tic = time.time()"
      ],
      "execution_count": 10,
      "outputs": []
    },
    {
      "cell_type": "markdown",
      "metadata": {
        "id": "iMV5rPsoI3Bk"
      },
      "source": [
        "# **Replay Memory**"
      ]
    },
    {
      "cell_type": "code",
      "metadata": {
        "id": "csbYwk0SI7rJ"
      },
      "source": [
        "from recordclass import recordclass\n",
        "\n",
        "Transitions = recordclass('Transitions', ('states', 'actions', 'next_states', 'rewards', 'dones'))\n",
        "\n",
        "class ReplayMemory():\n",
        "    def __init__(self, capacity = 1000, state_dim = 6, action_dim = 2):\n",
        "      \n",
        "        self.length = 0\n",
        "        self.capacity = capacity\n",
        "\n",
        "        self.states = np.zeros((capacity, state_dim))\n",
        "        self.actions = np.zeros((capacity, action_dim))\n",
        "        self.next_states = np.zeros((capacity, state_dim))\n",
        "        self.rewards = np.zeros((capacity, 1))\n",
        "        self.dones = np.zeros((capacity, 1))\n",
        "      \n",
        "    def add_transition(self, *args):\n",
        "        index = self.length % self.capacity\n",
        "\n",
        "        self.states[index] = args[0]\n",
        "        self.actions[index] = args[1]\n",
        "        self.next_states[index] = args[2]\n",
        "        self.rewards[index] = args[3]\n",
        "        self.dones[index] = args[4]\n",
        "\n",
        "        self.length += 1\n",
        "\n",
        "    def sample(self, batch_size):\n",
        "\n",
        "        maxind = min(self.length, self.capacity)\n",
        "        inds = np.random.choice(maxind, batch_size)\n",
        "\n",
        "        batch = Transitions(self.states[inds],\n",
        "                            self.actions[inds],\n",
        "                            self.next_states[inds],\n",
        "                            self.rewards[inds],\n",
        "                            self.dones[inds])\n",
        "        \n",
        "        for i in range(5):\n",
        "          batch[i] = torch.tensor(batch[i], dtype=torch.float)\n",
        "\n",
        "        return batch\n",
        "    \n",
        "    def clear(self): \n",
        "      self.length = 0\n",
        "        \n",
        "    def __len__(self):\n",
        "      return min(self.length, self.capacity)"
      ],
      "execution_count": 11,
      "outputs": []
    },
    {
      "cell_type": "markdown",
      "metadata": {
        "id": "TY1RgZD1JDI2"
      },
      "source": [
        "# **Q-value Network**"
      ]
    },
    {
      "cell_type": "code",
      "metadata": {
        "id": "tyOnoa0eJFqx"
      },
      "source": [
        "class DQN(nn.Module):\n",
        "\n",
        "    def __init__(self, state_dim = 6, action_dim = 2):\n",
        "        super(DQN, self).__init__()\n",
        "        self.l11 = nn.Linear(state_dim, 32)\n",
        "        self.l12 = nn.Linear(action_dim, 8)\n",
        "\n",
        "        self.l2 = nn.Linear(40, 128)\n",
        "        self.l3 = nn.Linear(128, 256)\n",
        "\n",
        "        self.last = nn.Linear(256, 1)\n",
        "        self.last.weight.data.uniform_(-0.05,0.05)\n",
        "        self.last.bias.data.fill_(0.01)\n",
        "\n",
        "    def forward(self, states, actions):\n",
        "        x = torch.cat((self.l11(states), self.l12(actions)),1)\n",
        "        x = F.silu(x)\n",
        "        x = F.silu(self.l2(x))\n",
        "        x = F.silu(self.l3(x))\n",
        "        x = self.last(x)\n",
        "        return x"
      ],
      "execution_count": 12,
      "outputs": []
    },
    {
      "cell_type": "markdown",
      "metadata": {
        "id": "-1Q4ry9NJReY"
      },
      "source": [
        "# **Double Q-Network Critic**"
      ]
    },
    {
      "cell_type": "code",
      "metadata": {
        "id": "hs7le9zNJX7D"
      },
      "source": [
        "class Critic(nn.Module):\n",
        "  def __init__(self, state_dim = 6, action_dim = 2):\n",
        "    super(Critic, self).__init__()\n",
        "    self.q1 = DQN(state_dim, action_dim)\n",
        "    self.q2 = DQN(state_dim, action_dim)\n",
        "  \n",
        "  def predict(self, states, actions):\n",
        "    q1 = self.q1(states, actions)\n",
        "    q2 = self.q2(states, actions)\n",
        "    return q1, q2\n",
        "  \n",
        "  def forward(self, states, actions):\n",
        "    q1, q2 = self.predict(states, actions)\n",
        "    return torch.min(q1, q2)\n",
        "  \n",
        "  def calc_loss(self, states, actions, expected_critic_values):\n",
        "    q1, q2 = self.predict(states, actions)\n",
        "    loss1 = F.smooth_l1_loss(expected_critic_values, q1)\n",
        "    loss2 = F.smooth_l1_loss(expected_critic_values, q2)\n",
        "    return loss1 + loss2\n",
        "  \n",
        "  def requires_grad(self, boolean = True):\n",
        "    for param in self.parameters():\n",
        "        param.requires_grad = boolean"
      ],
      "execution_count": 13,
      "outputs": []
    },
    {
      "cell_type": "markdown",
      "metadata": {
        "id": "AwN4ct3sJp46"
      },
      "source": [
        "# **Policy Network**"
      ]
    },
    {
      "cell_type": "code",
      "metadata": {
        "id": "EAgWWtb9Jtm7"
      },
      "source": [
        "class Policy(nn.Module):\n",
        "\n",
        "    def __init__(self, state_dim = 6, action_dim = 2):\n",
        "        super(Policy, self).__init__()\n",
        "\n",
        "        self.l1 = nn.Linear(state_dim, 64)\n",
        "        self.l2 = nn.Linear(64, 128)\n",
        "        self.l3 = nn.Linear(128, 256)\n",
        "\n",
        "        self.mean_layer = nn.Linear(256, action_dim)\n",
        "        self.mean_layer.weight.data.uniform_(-0.01,0.01)\n",
        "        self.mean_layer.bias.data.fill_(0.01)\n",
        "\n",
        "        self.log_std = nn.Linear(256, action_dim)\n",
        "        self.log_std.weight.data.uniform_(-0.5,0.5)\n",
        "        self.log_std.bias.data.fill_(0.1)\n",
        "\n",
        "\n",
        "    def forward(self, states):\n",
        "\n",
        "        x = F.silu(self.l1(states))\n",
        "        x = F.silu(self.l2(x))\n",
        "        x = F.silu(self.l3(x))\n",
        "\n",
        "        mean = self.mean_layer(x)\n",
        "        std = torch.exp(self.log_std(x).clamp(-20, 2))\n",
        "\n",
        "        return Normal(mean, std)\n",
        "\n",
        "    def sample(self, states):\n",
        "\n",
        "        dist = self.forward(states)\n",
        "        samples = dist.rsample()\n",
        "        actions = torch.tanh(samples)\n",
        "        log_probs = dist.log_prob(samples) - torch.log(1 - actions**2 + 1e-8)\n",
        "        \n",
        "        return actions, log_probs.mean(axis = 1)\n",
        "\n",
        "    def choose_action(self, state, training = True):\n",
        "        \n",
        "        with torch.no_grad(): \n",
        "          state = torch.tensor(state, dtype = torch.float).unsqueeze(0)\n",
        "          dist = self.forward(state)\n",
        "          sample = dist.sample() if training else dist.mean\n",
        "          action = torch.tanh(sample).squeeze(0)\n",
        "\n",
        "        return np.round(action.cpu().numpy(), 5)"
      ],
      "execution_count": 25,
      "outputs": []
    },
    {
      "cell_type": "markdown",
      "metadata": {
        "id": "lIMY5aR1KBEL"
      },
      "source": [
        "# **Initialize**"
      ]
    },
    {
      "cell_type": "code",
      "metadata": {
        "id": "XXffKHhsJN3n"
      },
      "source": [
        "action_lim = np.array([1, 1])"
      ],
      "execution_count": 26,
      "outputs": []
    },
    {
      "cell_type": "code",
      "metadata": {
        "colab": {
          "base_uri": "https://localhost:8080/"
        },
        "id": "lBjcbNTFKEPW",
        "outputId": "529fb04f-4f5e-40e1-dfa5-c4f5d013a4e6"
      },
      "source": [
        "gamma = 0.99   # discount factor\n",
        "alpha = 0.12   # entropy reward coeff\n",
        "\n",
        "actor = Policy().to(device)\n",
        "critic = Critic().to(device)\n",
        "\n",
        "target_critic = Critic().to(device)\n",
        "target_critic.load_state_dict(critic.state_dict())"
      ],
      "execution_count": 27,
      "outputs": [
        {
          "output_type": "execute_result",
          "data": {
            "text/plain": [
              "<All keys matched successfully>"
            ]
          },
          "metadata": {
            "tags": []
          },
          "execution_count": 27
        }
      ]
    },
    {
      "cell_type": "code",
      "metadata": {
        "id": "5dHGLEZmKJm8"
      },
      "source": [
        "actor_optimizer  = optim.Adam(actor.parameters(), 1e-3)\n",
        "critic_optimizer = optim.Adam(critic.parameters(), 1e-3)"
      ],
      "execution_count": 28,
      "outputs": []
    },
    {
      "cell_type": "code",
      "metadata": {
        "id": "Zce1ivF2KKei"
      },
      "source": [
        "memory = ReplayMemory(300000)"
      ],
      "execution_count": 29,
      "outputs": []
    },
    {
      "cell_type": "code",
      "metadata": {
        "id": "GxElGlNuKm4I"
      },
      "source": [
        "def save(name):\n",
        "  torch.save({\n",
        "            'actor': actor.state_dict(),\n",
        "            'critic': target_critic.state_dict(),\n",
        "            'actor_optimizer': actor_optimizer.state_dict(),\n",
        "            'critic_optimizer': critic_optimizer.state_dict(),\n",
        "            }, name)"
      ],
      "execution_count": 30,
      "outputs": []
    },
    {
      "cell_type": "code",
      "metadata": {
        "id": "S1Mje7QZY4F8"
      },
      "source": [
        "def load(name, device):\n",
        "  state = torch.load(name, map_location = device)\n",
        "\n",
        "  actor.load_state_dict(state['actor'])\n",
        "  critic.load_state_dict(state['critic'])\n",
        "  actor_optimizer.load_state_dict(state['actor_optimizer'])\n",
        "  critic_optimizer.load_state_dict(state['critic_optimizer'])\n",
        "\n",
        "  target_critic.load_state_dict(critic.state_dict())"
      ],
      "execution_count": 31,
      "outputs": []
    },
    {
      "cell_type": "markdown",
      "metadata": {
        "id": "EyyddKl6Kpcv"
      },
      "source": [
        "# **Single training step**"
      ]
    },
    {
      "cell_type": "code",
      "metadata": {
        "id": "3ibPDGzCKs_H"
      },
      "source": [
        "def train_step(batch_size = 64):\n",
        "\n",
        "    batch = memory.sample(batch_size)\n",
        "\n",
        "  #---------------------critic training----------------------------------\n",
        "    with torch.no_grad(): \n",
        "      next_actions, log_probs = actor.sample(batch.next_states)\n",
        "      next_critic_values = target_critic(batch.next_states, next_actions)\n",
        "      expected_critic_values = batch.rewards + (1 - batch.dones)*gamma*(next_critic_values - alpha*log_probs)\n",
        "\n",
        "    critic_loss = critic.calc_loss(batch.states, batch.actions, expected_critic_values)\n",
        "\n",
        "    optimize(critic, critic_optimizer, critic_loss)\n",
        "  #---------------------------------------------------------------------\n",
        "\n",
        "\n",
        "   #---------------------actor training----------------------------------\n",
        "    critic.requires_grad(False)\n",
        "\n",
        "    actions, log_probs = actor.sample(batch.states)\n",
        "    critic_value = critic(batch.states, actions)\n",
        "    actor_loss = -torch.mean(critic_value - alpha*log_probs)\n",
        "\n",
        "    optimize(actor, actor_optimizer, actor_loss)\n",
        "\n",
        "    critic.requires_grad(True)\n",
        "  #-----------------------------------------------------------------------\n",
        "\n",
        "\n",
        "  #----------------soft update target critic--------------------------------\n",
        "    soft_update(target_critic, critic, 0.005)\n",
        "  #-------------------------------------------------------------------------"
      ],
      "execution_count": 32,
      "outputs": []
    },
    {
      "cell_type": "code",
      "metadata": {
        "id": "wSCy_RXaK3NF"
      },
      "source": [
        "reward_list = []\n",
        "avg_rewards = []"
      ],
      "execution_count": 33,
      "outputs": []
    },
    {
      "cell_type": "markdown",
      "metadata": {
        "id": "H7P1gBitK4fH"
      },
      "source": [
        "# **Training**"
      ]
    },
    {
      "cell_type": "code",
      "metadata": {
        "colab": {
          "base_uri": "https://localhost:8080/"
        },
        "id": "p7MZyK1fu-FF",
        "outputId": "ec4c905d-b3fa-4fc4-ed6e-96dbe7b4d6f0"
      },
      "source": [
        "len(memory)"
      ],
      "execution_count": 34,
      "outputs": [
        {
          "output_type": "execute_result",
          "data": {
            "text/plain": [
              "0"
            ]
          },
          "metadata": {
            "tags": []
          },
          "execution_count": 34
        }
      ]
    },
    {
      "cell_type": "code",
      "metadata": {
        "colab": {
          "base_uri": "https://localhost:8080/"
        },
        "id": "BtjDbH_YuLIz",
        "outputId": "3eb1d84b-a91b-4e20-f746-b867f603e6eb"
      },
      "source": [
        "env = IPHVC()\n",
        "\n",
        "while len(memory) < 2500:\n",
        "  state = env.reset()\n",
        "  done = 0\n",
        "  while not done:\n",
        "    action = env.action_space.sample()\n",
        "    next_state, reward, done, info = env.step(action)\n",
        "    memory.add_transition(state, action, next_state, reward, done)\n",
        "    \n",
        "    train_step()"
      ],
      "execution_count": 35,
      "outputs": [
        {
          "output_type": "stream",
          "text": [
            "/usr/local/lib/python3.7/dist-packages/gym/logger.py:30: UserWarning: \u001b[33mWARN: Box bound precision lowered by casting to float32\u001b[0m\n",
            "  warnings.warn(colorize('%s: %s'%('WARN', msg % args), 'yellow'))\n",
            "/usr/local/lib/python3.7/dist-packages/ipykernel_launcher.py:18: UserWarning: Using a target size (torch.Size([64, 1])) that is different to the input size (torch.Size([64, 64])). This will likely lead to incorrect results due to broadcasting. Please ensure they have the same size.\n",
            "/usr/local/lib/python3.7/dist-packages/ipykernel_launcher.py:19: UserWarning: Using a target size (torch.Size([64, 1])) that is different to the input size (torch.Size([64, 64])). This will likely lead to incorrect results due to broadcasting. Please ensure they have the same size.\n"
          ],
          "name": "stderr"
        }
      ]
    },
    {
      "cell_type": "code",
      "metadata": {
        "colab": {
          "base_uri": "https://localhost:8080/",
          "height": 407
        },
        "id": "DNjEaJ9JK7ld",
        "outputId": "0310fe80-6df5-4ef4-99af-7ba9c83cd663"
      },
      "source": [
        "for i_episode in tqdm(range(2000)):\n",
        "\n",
        "  state = env.reset()\n",
        "  total_reward = 0\n",
        "  done = 0\n",
        "  steps = 0\n",
        "\n",
        "  while not done:\n",
        "\n",
        "    action = action_lim*actor.choose_action(state)\n",
        "    # if np.random.uniform() < 0.1:\n",
        "    #   action = env.action_space.sample()\n",
        "    next_state, reward, done, info = env.step(action)\n",
        "    memory.add_transition(state, action, next_state, reward, done)\n",
        "\n",
        "    total_reward += reward\n",
        "    state = next_state\n",
        "    steps += 1\n",
        "  \n",
        "  for _ in range(200):\n",
        "    train_step()\n",
        "\n",
        "  reward_list.append(total_reward)\n",
        "  avg_rewards.append(np.mean(reward_list[-50:])) \n",
        "\n",
        "  plot(avg_rewards)"
      ],
      "execution_count": null,
      "outputs": [
        {
          "output_type": "display_data",
          "data": {
            "image/png": "[encoded data removed]",
            "text/plain": [
              "<Figure size 648x432 with 1 Axes>"
            ]
          },
          "metadata": {
            "tags": []
          }
        },
        {
          "output_type": "stream",
          "text": [
            "\r 92%|█████████▏| 1846/2000 [1:34:35<06:41,  2.61s/it]"
          ],
          "name": "stderr"
        }
      ]
    },
    {
      "cell_type": "code",
      "metadata": {
        "id": "SMYnGihfM2Kr"
      },
      "source": [
        "save('best')"
      ],
      "execution_count": null,
      "outputs": []
    },
    {
      "cell_type": "code",
      "metadata": {
        "id": "hVRTWf41Y2Zd"
      },
      "source": [
        "load('best', device)"
      ],
      "execution_count": null,
      "outputs": []
    },
    {
      "cell_type": "code",
      "metadata": {
        "id": "vPmBaZu-LSAa"
      },
      "source": [
        "policy = lambda x: action_lim * actor.choose_action(x, False)"
      ],
      "execution_count": null,
      "outputs": []
    },
    {
      "cell_type": "code",
      "metadata": {
        "id": "DVTMqYQpI4il"
      },
      "source": [
        "env.reset()\n",
        "\n",
        "save_video(env, policy, 'a')\n",
        "play_video('a.mp4')"
      ],
      "execution_count": null,
      "outputs": []
    },
    {
      "cell_type": "code",
      "metadata": {
        "id": "dCSj67s2NGBG"
      },
      "source": [
        ""
      ],
      "execution_count": null,
      "outputs": []
    }
  ]
}