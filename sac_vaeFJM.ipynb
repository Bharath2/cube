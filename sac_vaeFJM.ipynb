{
  "nbformat": 4,
  "nbformat_minor": 0,
  "metadata": {
    "accelerator": "GPU",
    "colab": {
      "name": "sac-vaeFJM.ipynb",
      "provenance": [],
      "collapsed_sections": [],
      "include_colab_link": true
    },
    "kernelspec": {
      "display_name": "Python 3",
      "name": "python3"
    },
    "language_info": {
      "name": "python"
    }
  },
  "cells": [
    {
      "cell_type": "markdown",
      "metadata": {
        "id": "view-in-github",
        "colab_type": "text"
      },
      "source": [
        "<a href=\"https://colab.research.google.com/github/Bharath2/cube/blob/master/sac_vaeFJM.ipynb\" target=\"_parent\"><img src=\"https://colab.research.google.com/assets/colab-badge.svg\" alt=\"Open In Colab\"/></a>"
      ]
    },
    {
      "cell_type": "markdown",
      "metadata": {
        "id": "FnAYoVcPrU2L"
      },
      "source": [
        "#Install MuJoCo"
      ]
    },
    {
      "cell_type": "code",
      "metadata": {
        "id": "100YPMfhmb4s"
      },
      "source": [
        "mjkey = \"\"\"\n",
        "\n",
        "MuJoCo Pro Individual license activation key, number 7705, type 6.\n",
        "\n",
        "Issued to Everyone.\n",
        "\n",
        "Expires October 31, 2021.\n",
        "\n",
        "Do not share this file with anyone other than the users covered\n",
        "by your license agreement with Roboti LLC. This file activates\n",
        "MuJoCo Pro on any computer running any supported OS.\n",
        "\n",
        "Do not modify this file. Its entire content, including the\n",
        "plain text section, is used by the activation manager.\n",
        "\n",
        "de6c23a3223b31727c2e09220e61f9f28ec9a0a234fd7ef6299d8167e86db350\n",
        "b21ad1e630a5f9bc14c5c09fb19dac66c0d07a8b2640bad5c4b0d88de1762beb\n",
        "ce1479fb291276f3557337858fba42c57ff9a28546ef78caf0cb3e16aec3aab3\n",
        "8b8954e8b568c41cfe922c5a467dd66941f82eca99b14117ae490187687ad8f2\n",
        "d6ffad21e5d12f84e5726e3f6c3d4faf060c5a0b95aa5c1b0a276e5fab463dec\n",
        "388681bb9211f97e9f63c279deb849bb3c06eef490a650c862b68d0c51686a89\n",
        "1a8464553437bd6675b32e9657a3b567000677847b25df38cea3132d6838b063\n",
        "53100e1f45c61da292ec15850f563d76135ae2e8b8bb6483f5e8a4c32e44b8b3\n",
        "\n",
        "\n",
        "\"\"\".strip()\n",
        "\n",
        "mujoco_dir = \"$HOME/.mujoco\"\n",
        "\n",
        "# Fetch MuJoCo binaries from Roboti\n",
        "!wget -q https://www.roboti.us/download/mujoco200_linux.zip -O mujoco.zip\n",
        "!unzip -o -q mujoco.zip -d \"$mujoco_dir\"\n",
        "\n",
        "# Copy over MuJoCo license\n",
        "!echo \"$mjkey\" > \"$mujoco_dir/mjkey.txt\""
      ],
      "execution_count": null,
      "outputs": []
    },
    {
      "cell_type": "code",
      "metadata": {
        "id": "KzwOqp-drchW",
        "colab": {
          "base_uri": "https://localhost:8080/"
        },
        "outputId": "84ac9c2e-9891-4f9e-f0da-50ca6e054298"
      },
      "source": [
        "# Install dm_control\n",
        "!pip install dm_control\n",
        "!pip install recordclass\n",
        "!pip install stable-baselines3[extra]"
      ],
      "execution_count": null,
      "outputs": [
        {
          "output_type": "stream",
          "name": "stdout",
          "text": [
            "Requirement already satisfied: dm_control in /usr/local/lib/python3.7/dist-packages (0.0.364896371)\n",
            "Requirement already satisfied: protobuf>=3.15.6 in /usr/local/lib/python3.7/dist-packages (from dm_control) (3.17.3)\n",
            "Requirement already satisfied: glfw in /usr/local/lib/python3.7/dist-packages (from dm_control) (2.2.0)\n",
            "Requirement already satisfied: pyopengl>=3.1.4 in /usr/local/lib/python3.7/dist-packages (from dm_control) (3.1.5)\n",
            "Requirement already satisfied: scipy in /usr/local/lib/python3.7/dist-packages (from dm_control) (1.4.1)\n",
            "Requirement already satisfied: absl-py>=0.7.0 in /usr/local/lib/python3.7/dist-packages (from dm_control) (0.12.0)\n",
            "Requirement already satisfied: numpy>=1.9.0 in /usr/local/lib/python3.7/dist-packages (from dm_control) (1.19.5)\n",
            "Requirement already satisfied: tqdm in /usr/local/lib/python3.7/dist-packages (from dm_control) (4.62.2)\n",
            "Requirement already satisfied: lxml in /usr/local/lib/python3.7/dist-packages (from dm_control) (4.2.6)\n",
            "Requirement already satisfied: future in /usr/local/lib/python3.7/dist-packages (from dm_control) (0.16.0)\n",
            "Requirement already satisfied: dm-tree!=0.1.2 in /usr/local/lib/python3.7/dist-packages (from dm_control) (0.1.6)\n",
            "Requirement already satisfied: labmaze in /usr/local/lib/python3.7/dist-packages (from dm_control) (1.0.5)\n",
            "Requirement already satisfied: pyparsing in /usr/local/lib/python3.7/dist-packages (from dm_control) (2.4.7)\n",
            "Requirement already satisfied: h5py in /usr/local/lib/python3.7/dist-packages (from dm_control) (3.1.0)\n",
            "Requirement already satisfied: setuptools!=50.0.0 in /usr/local/lib/python3.7/dist-packages (from dm_control) (57.4.0)\n",
            "Requirement already satisfied: dm-env in /usr/local/lib/python3.7/dist-packages (from dm_control) (1.5)\n",
            "Requirement already satisfied: requests in /usr/local/lib/python3.7/dist-packages (from dm_control) (2.23.0)\n",
            "Requirement already satisfied: six in /usr/local/lib/python3.7/dist-packages (from absl-py>=0.7.0->dm_control) (1.15.0)\n",
            "Requirement already satisfied: cached-property in /usr/local/lib/python3.7/dist-packages (from h5py->dm_control) (1.5.2)\n",
            "Requirement already satisfied: urllib3!=1.25.0,!=1.25.1,<1.26,>=1.21.1 in /usr/local/lib/python3.7/dist-packages (from requests->dm_control) (1.24.3)\n",
            "Requirement already satisfied: chardet<4,>=3.0.2 in /usr/local/lib/python3.7/dist-packages (from requests->dm_control) (3.0.4)\n",
            "Requirement already satisfied: idna<3,>=2.5 in /usr/local/lib/python3.7/dist-packages (from requests->dm_control) (2.10)\n",
            "Requirement already satisfied: certifi>=2017.4.17 in /usr/local/lib/python3.7/dist-packages (from requests->dm_control) (2021.5.30)\n",
            "Requirement already satisfied: recordclass in /usr/local/lib/python3.7/dist-packages (0.16.1)\n",
            "Requirement already satisfied: stable-baselines3[extra] in /usr/local/lib/python3.7/dist-packages (1.2.0)\n",
            "Requirement already satisfied: matplotlib in /usr/local/lib/python3.7/dist-packages (from stable-baselines3[extra]) (3.2.2)\n",
            "Requirement already satisfied: pandas in /usr/local/lib/python3.7/dist-packages (from stable-baselines3[extra]) (1.1.5)\n",
            "Requirement already satisfied: numpy in /usr/local/lib/python3.7/dist-packages (from stable-baselines3[extra]) (1.19.5)\n",
            "Requirement already satisfied: gym>=0.17 in /usr/local/lib/python3.7/dist-packages (from stable-baselines3[extra]) (0.17.3)\n",
            "Requirement already satisfied: cloudpickle in /usr/local/lib/python3.7/dist-packages (from stable-baselines3[extra]) (1.3.0)\n",
            "Requirement already satisfied: torch>=1.8.1 in /usr/local/lib/python3.7/dist-packages (from stable-baselines3[extra]) (1.9.0+cu102)\n",
            "Requirement already satisfied: tensorboard>=2.2.0 in /usr/local/lib/python3.7/dist-packages (from stable-baselines3[extra]) (2.6.0)\n",
            "Requirement already satisfied: psutil in /usr/local/lib/python3.7/dist-packages (from stable-baselines3[extra]) (5.4.8)\n",
            "Requirement already satisfied: opencv-python in /usr/local/lib/python3.7/dist-packages (from stable-baselines3[extra]) (4.1.2.30)\n",
            "Requirement already satisfied: pillow in /usr/local/lib/python3.7/dist-packages (from stable-baselines3[extra]) (7.1.2)\n",
            "Requirement already satisfied: atari-py~=0.2.0 in /usr/local/lib/python3.7/dist-packages (from stable-baselines3[extra]) (0.2.9)\n",
            "Requirement already satisfied: six in /usr/local/lib/python3.7/dist-packages (from atari-py~=0.2.0->stable-baselines3[extra]) (1.15.0)\n",
            "Requirement already satisfied: pyglet<=1.5.0,>=1.4.0 in /usr/local/lib/python3.7/dist-packages (from gym>=0.17->stable-baselines3[extra]) (1.5.0)\n",
            "Requirement already satisfied: scipy in /usr/local/lib/python3.7/dist-packages (from gym>=0.17->stable-baselines3[extra]) (1.4.1)\n",
            "Requirement already satisfied: future in /usr/local/lib/python3.7/dist-packages (from pyglet<=1.5.0,>=1.4.0->gym>=0.17->stable-baselines3[extra]) (0.16.0)\n",
            "Requirement already satisfied: absl-py>=0.4 in /usr/local/lib/python3.7/dist-packages (from tensorboard>=2.2.0->stable-baselines3[extra]) (0.12.0)\n",
            "Requirement already satisfied: google-auth-oauthlib<0.5,>=0.4.1 in /usr/local/lib/python3.7/dist-packages (from tensorboard>=2.2.0->stable-baselines3[extra]) (0.4.6)\n",
            "Requirement already satisfied: tensorboard-data-server<0.7.0,>=0.6.0 in /usr/local/lib/python3.7/dist-packages (from tensorboard>=2.2.0->stable-baselines3[extra]) (0.6.1)\n",
            "Requirement already satisfied: protobuf>=3.6.0 in /usr/local/lib/python3.7/dist-packages (from tensorboard>=2.2.0->stable-baselines3[extra]) (3.17.3)\n",
            "Requirement already satisfied: requests<3,>=2.21.0 in /usr/local/lib/python3.7/dist-packages (from tensorboard>=2.2.0->stable-baselines3[extra]) (2.23.0)\n",
            "Requirement already satisfied: grpcio>=1.24.3 in /usr/local/lib/python3.7/dist-packages (from tensorboard>=2.2.0->stable-baselines3[extra]) (1.40.0)\n",
            "Requirement already satisfied: tensorboard-plugin-wit>=1.6.0 in /usr/local/lib/python3.7/dist-packages (from tensorboard>=2.2.0->stable-baselines3[extra]) (1.8.0)\n",
            "Requirement already satisfied: setuptools>=41.0.0 in /usr/local/lib/python3.7/dist-packages (from tensorboard>=2.2.0->stable-baselines3[extra]) (57.4.0)\n",
            "Requirement already satisfied: google-auth<2,>=1.6.3 in /usr/local/lib/python3.7/dist-packages (from tensorboard>=2.2.0->stable-baselines3[extra]) (1.35.0)\n",
            "Requirement already satisfied: werkzeug>=0.11.15 in /usr/local/lib/python3.7/dist-packages (from tensorboard>=2.2.0->stable-baselines3[extra]) (1.0.1)\n",
            "Requirement already satisfied: markdown>=2.6.8 in /usr/local/lib/python3.7/dist-packages (from tensorboard>=2.2.0->stable-baselines3[extra]) (3.3.4)\n",
            "Requirement already satisfied: wheel>=0.26 in /usr/local/lib/python3.7/dist-packages (from tensorboard>=2.2.0->stable-baselines3[extra]) (0.37.0)\n",
            "Requirement already satisfied: pyasn1-modules>=0.2.1 in /usr/local/lib/python3.7/dist-packages (from google-auth<2,>=1.6.3->tensorboard>=2.2.0->stable-baselines3[extra]) (0.2.8)\n",
            "Requirement already satisfied: rsa<5,>=3.1.4 in /usr/local/lib/python3.7/dist-packages (from google-auth<2,>=1.6.3->tensorboard>=2.2.0->stable-baselines3[extra]) (4.7.2)\n",
            "Requirement already satisfied: cachetools<5.0,>=2.0.0 in /usr/local/lib/python3.7/dist-packages (from google-auth<2,>=1.6.3->tensorboard>=2.2.0->stable-baselines3[extra]) (4.2.2)\n",
            "Requirement already satisfied: requests-oauthlib>=0.7.0 in /usr/local/lib/python3.7/dist-packages (from google-auth-oauthlib<0.5,>=0.4.1->tensorboard>=2.2.0->stable-baselines3[extra]) (1.3.0)\n",
            "Requirement already satisfied: importlib-metadata in /usr/local/lib/python3.7/dist-packages (from markdown>=2.6.8->tensorboard>=2.2.0->stable-baselines3[extra]) (4.8.1)\n",
            "Requirement already satisfied: pyasn1<0.5.0,>=0.4.6 in /usr/local/lib/python3.7/dist-packages (from pyasn1-modules>=0.2.1->google-auth<2,>=1.6.3->tensorboard>=2.2.0->stable-baselines3[extra]) (0.4.8)\n",
            "Requirement already satisfied: chardet<4,>=3.0.2 in /usr/local/lib/python3.7/dist-packages (from requests<3,>=2.21.0->tensorboard>=2.2.0->stable-baselines3[extra]) (3.0.4)\n",
            "Requirement already satisfied: urllib3!=1.25.0,!=1.25.1,<1.26,>=1.21.1 in /usr/local/lib/python3.7/dist-packages (from requests<3,>=2.21.0->tensorboard>=2.2.0->stable-baselines3[extra]) (1.24.3)\n",
            "Requirement already satisfied: idna<3,>=2.5 in /usr/local/lib/python3.7/dist-packages (from requests<3,>=2.21.0->tensorboard>=2.2.0->stable-baselines3[extra]) (2.10)\n",
            "Requirement already satisfied: certifi>=2017.4.17 in /usr/local/lib/python3.7/dist-packages (from requests<3,>=2.21.0->tensorboard>=2.2.0->stable-baselines3[extra]) (2021.5.30)\n",
            "Requirement already satisfied: oauthlib>=3.0.0 in /usr/local/lib/python3.7/dist-packages (from requests-oauthlib>=0.7.0->google-auth-oauthlib<0.5,>=0.4.1->tensorboard>=2.2.0->stable-baselines3[extra]) (3.1.1)\n",
            "Requirement already satisfied: typing-extensions in /usr/local/lib/python3.7/dist-packages (from torch>=1.8.1->stable-baselines3[extra]) (3.7.4.3)\n",
            "Requirement already satisfied: zipp>=0.5 in /usr/local/lib/python3.7/dist-packages (from importlib-metadata->markdown>=2.6.8->tensorboard>=2.2.0->stable-baselines3[extra]) (3.5.0)\n",
            "Requirement already satisfied: kiwisolver>=1.0.1 in /usr/local/lib/python3.7/dist-packages (from matplotlib->stable-baselines3[extra]) (1.3.2)\n",
            "Requirement already satisfied: cycler>=0.10 in /usr/local/lib/python3.7/dist-packages (from matplotlib->stable-baselines3[extra]) (0.10.0)\n",
            "Requirement already satisfied: python-dateutil>=2.1 in /usr/local/lib/python3.7/dist-packages (from matplotlib->stable-baselines3[extra]) (2.8.2)\n",
            "Requirement already satisfied: pyparsing!=2.0.4,!=2.1.2,!=2.1.6,>=2.0.1 in /usr/local/lib/python3.7/dist-packages (from matplotlib->stable-baselines3[extra]) (2.4.7)\n",
            "Requirement already satisfied: pytz>=2017.2 in /usr/local/lib/python3.7/dist-packages (from pandas->stable-baselines3[extra]) (2018.9)\n"
          ]
        }
      ]
    },
    {
      "cell_type": "code",
      "metadata": {
        "id": "FLWooGOemvJp"
      },
      "source": [
        "import base64\n",
        "import imageio \n",
        "from IPython.display import HTML\n",
        "from IPython.display import clear_output\n",
        "\n",
        "def write_video(frames, fps, filename = 'a.mp4'):            \n",
        "    with imageio.get_writer(filename, fps=fps) as video:\n",
        "        for frame in frames: video.append_data(frame)\n",
        "\n",
        "def display_video(filename = 'a.mp4'):\n",
        "    \"\"\"Save and display video.\"\"\"\n",
        "    video = open(filename, 'rb').read()\n",
        "    b64_video = base64.b64encode(video)\n",
        "    video_tag = ('<video  width=\"240\" height=\"240\" controls alt=\"test\" '\n",
        "               'src=\"data:video/mp4;base64,{0}\">').format(b64_video.decode())\n",
        "    return HTML(video_tag)"
      ],
      "execution_count": null,
      "outputs": []
    },
    {
      "cell_type": "code",
      "metadata": {
        "id": "dKzF2gGHnnWx"
      },
      "source": [
        "# General\n",
        "import os\n",
        "import copy\n",
        "from itertools import count\n",
        "\n",
        "import time, gym\n",
        "from gym import spaces\n",
        "from tqdm import tqdm\n",
        "\n",
        "import PIL.Image\n",
        "import numpy as np\n",
        "import matplotlib.pyplot as plt"
      ],
      "execution_count": null,
      "outputs": []
    },
    {
      "cell_type": "code",
      "metadata": {
        "id": "_wSEjA3tmxU2",
        "colab": {
          "base_uri": "https://localhost:8080/"
        },
        "outputId": "dd8ed8ff-2e11-4460-98a5-7ac4572bcd24"
      },
      "source": [
        "# Configure dm_control to use the egl rendering backend\n",
        "%env MUJOCO_GL=egl\n",
        "#dm_control\n",
        "from dm_control import mjcf\n",
        "from dm_control import mujoco"
      ],
      "execution_count": null,
      "outputs": [
        {
          "output_type": "stream",
          "name": "stdout",
          "text": [
            "env: MUJOCO_GL=egl\n"
          ]
        }
      ]
    },
    {
      "cell_type": "code",
      "metadata": {
        "colab": {
          "base_uri": "https://localhost:8080/",
          "height": 257
        },
        "id": "A6fs1k5mmmHw",
        "outputId": "530107c0-d330-4f54-bbbe-cf9092b88567"
      },
      "source": [
        "#@title A static model {vertical-output: true}\n",
        "\n",
        "static_model = \"\"\"\n",
        "<mujoco>\n",
        "  <worldbody>\n",
        "    <light name=\"top\" pos=\"0 0 1\"/>\n",
        "    <geom name=\"red_box\" type=\"box\" size=\".2 .2 .2\" rgba=\"1 0 0 1\"/>\n",
        "    <geom name=\"green_sphere\" pos=\".2 .2 .2\" size=\".1\" rgba=\"0 1 0 1\"/>\n",
        "  </worldbody>\n",
        "</mujoco>\n",
        "\"\"\"\n",
        "physics = mujoco.Physics.from_xml_string(static_model)\n",
        "pixels = physics.render()\n",
        "PIL.Image.fromarray(pixels)"
      ],
      "execution_count": null,
      "outputs": [
        {
          "output_type": "execute_result",
          "data": {
            "image/png": "[encoded data removed]",
            "text/plain": [
              "<PIL.Image.Image image mode=RGB size=320x240 at 0x7F155E4B2F90>"
            ]
          },
          "metadata": {},
          "execution_count": 6
        }
      ]
    },
    {
      "cell_type": "markdown",
      "metadata": {
        "id": "oCI7ysHVrhV6"
      },
      "source": [
        "#FJM Model"
      ]
    },
    {
      "cell_type": "code",
      "metadata": {
        "id": "VwGW-_w4oKzK"
      },
      "source": [
        "def FJM(payload_mass = 0.5):\n",
        "    model = mjcf.RootElement()\n",
        "\n",
        "    model.compiler.inertiafromgeom = True\n",
        "    model.option.timestep = 0.001\n",
        "\n",
        "    model.default.joint.damping = 0.1\n",
        "    model.default.joint.type = 'hinge'\n",
        "    model.default.joint.axis = '0 0 1'\n",
        "\n",
        "    model.default.geom.type = 'box'\n",
        "    model.default.geom.size = [1/32, 0.015, 0.015]\n",
        "    model.default.geom.density = 555.55\n",
        "    model.default.geom.contype = 0\n",
        "    model.default.geom.conaffinity = 0\n",
        "\n",
        "\n",
        "    base = model.worldbody.add('body', name = 'base')\n",
        "    base.add('geom', type = 'cylinder', size = \"0.03 0.025\", rgba = \"0.2 0.2 0.2 1\", density = 0.01)\n",
        "\n",
        "    link = base.add('body', pos = [1/32, 0, 0], name = 'body0')\n",
        "    joint0 = link.add('joint', name = \"joint0\", pos = [-1/32, 0, 0], armature = 0.01,)\n",
        "    link.add('geom', name = 'geom0', rgba = \"0.9 0.3 0.2 1\")\n",
        "\n",
        "    for i in range(1, 16):\n",
        "        link = link.add('body', pos = [1/16, 0, 0], name = 'body'+str(i))\n",
        "        joint = link.add('joint', name = 'joint'+str(i), stiffness = 20, pos = [-1/32, 0, 0])\n",
        "        rgba ='0.9 0.3 0.2 1' if not i%2 else \"0.2 0.3 0.9 1\"\n",
        "        link.add('geom', name = 'geom'+str(i), rgba = rgba)\n",
        "        \n",
        "    ds = payload_mass/(np.pi*0.025**3*2)\n",
        "\n",
        "    payload = link.add('body', pos = [1/32, 0, 0], name = 'payloadbody')\n",
        "    payload.add('geom', name = 'payload', type = 'cylinder', size = \"0.025 0.025\", rgba = \"0.4 0.4 0.4 1\", density = ds)\n",
        "\n",
        "    model.actuator.add('motor', joint = joint0, name = 'BaseMotor')\n",
        "    \n",
        "    return model"
      ],
      "execution_count": null,
      "outputs": []
    },
    {
      "cell_type": "code",
      "metadata": {
        "id": "PstY7jDboXGa"
      },
      "source": [
        "def FJMModel(payload_mass = 0.5):\n",
        "    arena = mjcf.RootElement()\n",
        "\n",
        "    arena.worldbody.add('geom', type = 'plane', size = [3, 3, .1], rgba = '1 1 1 1')\n",
        "    for x,y in zip((0, 0, 3.5, -3.5),(-3.5, 3.5, 0, 0)):\n",
        "        arena.worldbody.add('light', pos = [x, y, 5])    \n",
        "    arena.worldbody.add('camera', name = 'up', pos = [0, 0, 4], fovy = 30)\n",
        "    obs = arena.worldbody.add('body', name = 'obs')\n",
        "    \n",
        "    model = FJM(payload_mass)\n",
        "\n",
        "    spawn_site = arena.worldbody.add('site', pos = '0 0 0.01', name = 'FJMsite')\n",
        "    spawn_site.attach(model)\n",
        "    \n",
        "    return arena\n",
        "\n",
        "arena = FJMModel()\n",
        "physics = mjcf.Physics.from_mjcf_model(arena)\n",
        "img = physics.render(camera_id = 'up', height = 320, width = 320)"
      ],
      "execution_count": null,
      "outputs": []
    },
    {
      "cell_type": "code",
      "metadata": {
        "colab": {
          "base_uri": "https://localhost:8080/",
          "height": 337
        },
        "id": "QGLbEOrOoatG",
        "outputId": "25ee94a3-1a6d-4fca-9c85-d818ebca55d0"
      },
      "source": [
        "PIL.Image.fromarray(img)"
      ],
      "execution_count": null,
      "outputs": [
        {
          "output_type": "execute_result",
          "data": {
            "image/png": "[encoded data removed]",
            "text/plain": [
              "<PIL.Image.Image image mode=RGB size=320x320 at 0x7F155DDF4950>"
            ]
          },
          "metadata": {},
          "execution_count": 9
        }
      ]
    },
    {
      "cell_type": "code",
      "metadata": {
        "id": "y_0N6BVyod3r"
      },
      "source": [
        "duration = 2   # (Seconds)\n",
        "framerate = 50  # (Hz)\n",
        "video = []\n",
        "\n",
        "physics.reset()\n",
        "while physics.data.time < duration:\n",
        "    physics.set_control([2])\n",
        "    start = physics.data.time\n",
        "    while physics.data.time - start < 0.02:\n",
        "        physics.step()\n",
        "\n",
        "    pixels = physics.render(camera_id = 'up', height = 320, width = 320)\n",
        "    video.append(pixels.copy())"
      ],
      "execution_count": null,
      "outputs": []
    },
    {
      "cell_type": "code",
      "metadata": {
        "colab": {
          "base_uri": "https://localhost:8080/",
          "height": 261
        },
        "id": "0VJ9EN70ohf3",
        "outputId": "63f992be-37a6-45e2-f6a2-e079bda504e1"
      },
      "source": [
        "write_video(video, framerate)\n",
        "display_video()"
      ],
      "execution_count": null,
      "outputs": [
        {
          "output_type": "execute_result",
          "data": {
            "text/html": [
              "<video  width=\"240\" height=\"240\" controls alt=\"test\" src=\"data:video/mp4;base64,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\">"
            ],
            "text/plain": [
              "<IPython.core.display.HTML object>"
            ]
          },
          "metadata": {},
          "execution_count": 11
        }
      ]
    },
    {
      "cell_type": "code",
      "metadata": {
        "id": "E3HQmUP12fLf"
      },
      "source": [
        "x, y, z = physics.data.xpos[-1]"
      ],
      "execution_count": null,
      "outputs": []
    },
    {
      "cell_type": "code",
      "metadata": {
        "colab": {
          "base_uri": "https://localhost:8080/"
        },
        "id": "Ie_n5oc-3Eb3",
        "outputId": "c88589ac-f2b3-400a-b00c-a4b4e0ae7dac"
      },
      "source": [
        "physics.get_state()"
      ],
      "execution_count": null,
      "outputs": [
        {
          "output_type": "execute_result",
          "data": {
            "text/plain": [
              "array([ 5.60888194e+00, -5.75320125e-02, -4.49117824e-02, -3.50437082e-02,\n",
              "       -2.73365458e-02, -2.13177863e-02, -1.66134332e-02, -1.29292244e-02,\n",
              "       -1.00344241e-02, -7.74837059e-03, -5.92957667e-03, -4.46704221e-03,\n",
              "       -3.27342473e-03, -2.27974458e-03, -1.43135046e-03, -6.84921585e-04,\n",
              "        4.94179970e+00,  3.97842781e-02,  3.83198175e-02,  3.61266579e-02,\n",
              "        3.35402368e-02,  3.07676262e-02,  2.79281732e-02,  2.50831342e-02,\n",
              "        2.22570351e-02,  1.94530112e-02,  1.66638664e-02,  1.38801534e-02,\n",
              "        1.10962329e-02,  8.31500267e-03,  5.55177407e-03,  2.83760121e-03])"
            ]
          },
          "metadata": {},
          "execution_count": 13
        }
      ]
    },
    {
      "cell_type": "markdown",
      "metadata": {
        "id": "xyuA3PFnIByt"
      },
      "source": [
        "# **Import Torch**"
      ]
    },
    {
      "cell_type": "code",
      "metadata": {
        "id": "avKd9SViIHIq"
      },
      "source": [
        "import torch\n",
        "import torch.nn as nn\n",
        "import torch.optim as optim\n",
        "import torch.nn.functional as F\n",
        "from torch.distributions.normal import Normal\n",
        "from torch.nn.utils import clip_grad_value_\n",
        "\n",
        "\n",
        "# if gpu is to be used\n",
        "if torch.cuda.is_available():\n",
        "  device = torch.device(\"cuda\")\n",
        "  torch.set_default_tensor_type(torch.cuda.FloatTensor)\n",
        "else:\n",
        "  device = torch.device(\"cpu\")\n",
        "  torch.set_default_tensor_type(torch.FloatTensor)"
      ],
      "execution_count": null,
      "outputs": []
    },
    {
      "cell_type": "markdown",
      "metadata": {
        "id": "iLUjEnWarmPH"
      },
      "source": [
        "#VAE"
      ]
    },
    {
      "cell_type": "code",
      "metadata": {
        "id": "exU1coGlUpFK"
      },
      "source": [
        "from torchvision.models import resnet18\n",
        "\n",
        "class Encoder(nn.Module):\n",
        "    def __init__(self):\n",
        "        super().__init__()\n",
        "\n",
        "        self.fc_hidden = 256\n",
        "        self.embed_dim = 64\n",
        "\n",
        "        enc = resnet18()\n",
        "        enc.conv1 = nn.Conv2d(1, 64, kernel_size=(7, 7), stride=(2, 2), padding=(3, 3), bias=False)\n",
        "        enc.fc = nn.Linear(enc.fc.in_features, self.fc_hidden)\n",
        "\n",
        "        self.enc = enc\n",
        "        self.fc_mu = nn.Linear(self.fc_hidden, self.embed_dim)      # output = CNN embedding latent variables\n",
        "        self.fc_logvar = nn.Linear(self.fc_hidden, self.embed_dim)  # output = CNN embedding latent variables\n",
        "\n",
        "\n",
        "    def forward(self, x):\n",
        "\n",
        "        x = self.enc(x)\n",
        "        x = x.view(x.size(0), -1)\n",
        "        x = F.silu(x)\n",
        "        mu = self.fc_mu(x)\n",
        "        logvar = self.fc_logvar(x)\n",
        "\n",
        "        return mu, logvar\n",
        "\n",
        "\n",
        "class Decoder(nn.Module):\n",
        "    def __init__(self):\n",
        "        super().__init__()\n",
        "\n",
        "        self.embed_dim = 64\n",
        "        self.fc_hidden = 256\n",
        "\n",
        "        self.fc = nn.Sequential( \n",
        "            nn.Linear(self.embed_dim, self.fc_hidden),\n",
        "            nn.SiLU(),\n",
        "            nn.Linear(self.fc_hidden, 64 * 4 * 4),\n",
        "            nn.SiLU(),\n",
        "        )\n",
        "\n",
        "        self.convTrans1 = nn.Sequential(\n",
        "            nn.ConvTranspose2d(64, 32, kernel_size = (5, 5), stride=(3, 3), output_padding = 1),\n",
        "            nn.BatchNorm2d(32, momentum=0.01),\n",
        "            nn.ReLU(inplace = True),\n",
        "        )\n",
        "        self.convTrans2 = nn.Sequential(\n",
        "            nn.ConvTranspose2d(32, 8, kernel_size = (5, 5), stride=(3, 3),),\n",
        "            nn.BatchNorm2d(8, momentum=0.01),\n",
        "            nn.ReLU(inplace = True),\n",
        "        )\n",
        "        self.convTrans3 = nn.Sequential(\n",
        "            nn.ConvTranspose2d(8, 1, kernel_size = (3, 3), stride=(2, 2),),\n",
        "            nn.BatchNorm2d(1, momentum=0.01),\n",
        "            nn.Sigmoid()\n",
        "        )\n",
        "\n",
        "    def forward(self, x):\n",
        "\n",
        "        x = self.fc(x).view(-1, 64, 4, 4)\n",
        "        x = self.convTrans1(x)\n",
        "        x = self.convTrans2(x)\n",
        "        x = self.convTrans3(x)\n",
        "        x = F.interpolate(x, size=(128, 128), mode='bilinear', align_corners=True)\n",
        "        return x\n",
        "\n",
        "\n",
        "\n",
        "class Vae(nn.Module):\n",
        "    def __init__(self):\n",
        "        super().__init__()\n",
        "\n",
        "        self.encoder = Encoder()\n",
        "        self.decoder = Decoder()\n",
        "\n",
        "    def forward(self, x):\n",
        "\n",
        "        mu, logvar = self.encoder(x)\n",
        "        std = logvar.mul(0.5).exp_()\n",
        "        z = Normal(mu, std).rsample()\n",
        "        recon_x = self.decoder(z)\n",
        "\n",
        "        return recon_x, z, mu, logvar\n",
        "    \n",
        "\n",
        "    def loss(self, x):\n",
        "        recon_x, z, mu, logvar = self.forward(x)\n",
        "        MSE = F.mse_loss(recon_x, x, reduction='sum')\n",
        "        # MSE = F.binary_cross_entropy(recon_x, x, reduction='sum')\n",
        "        KLD = -0.5 * torch.sum(1 + logvar - mu.pow(2) - logvar.exp())\n",
        "        return MSE + KLD"
      ],
      "execution_count": null,
      "outputs": []
    },
    {
      "cell_type": "code",
      "metadata": {
        "id": "1O7TxIoYVImN"
      },
      "source": [
        "from google.colab import files"
      ],
      "execution_count": null,
      "outputs": []
    },
    {
      "cell_type": "code",
      "metadata": {
        "colab": {
          "resources": {
            "http://localhost:8080/nbextensions/google.colab/files.js": {
              "data": "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",
              "ok": true,
              "headers": [
                [
                  "content-type",
                  "application/javascript"
                ]
              ],
              "status": 200,
              "status_text": ""
            }
          },
          "base_uri": "https://localhost:8080/",
          "height": 72
        },
        "id": "6uY6b-KnVM34",
        "outputId": "7416e7f0-6532-41ad-9c20-44de75194742"
      },
      "source": [
        "files.upload()"
      ],
      "execution_count": null,
      "outputs": [
        {
          "output_type": "display_data",
          "data": {
            "text/html": [
              "\n",
              "     <input type=\"file\" id=\"files-88e14023-2dc2-47ce-bb80-c1ec799c7325\" name=\"files[]\" multiple disabled\n",
              "        style=\"border:none\" />\n",
              "     <output id=\"result-88e14023-2dc2-47ce-bb80-c1ec799c7325\">\n",
              "      Upload widget is only available when the cell has been executed in the\n",
              "      current browser session. Please rerun this cell to enable.\n",
              "      </output>\n",
              "      <script src=\"/nbextensions/google.colab/files.js\"></script> "
            ],
            "text/plain": [
              "<IPython.core.display.HTML object>"
            ]
          },
          "metadata": {}
        },
        {
          "output_type": "stream",
          "name": "stdout",
          "text": [
            "Saving vae to vae (2)\n"
          ]
        }
      ]
    },
    {
      "cell_type": "code",
      "metadata": {
        "id": "i3ngL-Dfjfh0"
      },
      "source": [
        "vae = Vae()"
      ],
      "execution_count": null,
      "outputs": []
    },
    {
      "cell_type": "code",
      "metadata": {
        "colab": {
          "base_uri": "https://localhost:8080/"
        },
        "id": "ZdmIMwR6VO7a",
        "outputId": "fffc8af8-6ddc-499c-86df-04e1dc8ed9f9"
      },
      "source": [
        "state = torch.load('vae (2)', map_location = device)\n",
        "vae.load_state_dict(state['vae'])"
      ],
      "execution_count": null,
      "outputs": [
        {
          "output_type": "execute_result",
          "data": {
            "text/plain": [
              "<All keys matched successfully>"
            ]
          },
          "metadata": {},
          "execution_count": 19
        }
      ]
    },
    {
      "cell_type": "markdown",
      "metadata": {
        "id": "y7Plq-R1r1X0"
      },
      "source": [
        "#FJM Gym Env"
      ]
    },
    {
      "cell_type": "code",
      "metadata": {
        "id": "KNvwB2_uoks4"
      },
      "source": [
        "import gym\n",
        "\n",
        "def ang_norm(x):\n",
        "    return (((x + np.pi) % (2*np.pi)) - np.pi)\n",
        "\n",
        "scale = np.r_[[np.pi],[0.5]*15, 15, [8]*15]\n",
        "\n",
        "class FJMEnv(gym.Env):\n",
        "    \"\"\"Environment that follows gym interface\"\"\"\n",
        "    metadata = {'render.modes': ['human']}\n",
        "\n",
        "    def __init__(self, init_state = None, mass = 0.5, dt = 0.02):\n",
        "        gym.Env.__init__(self)\n",
        "\n",
        "        self.env = mjcf.Physics.from_mjcf_model(FJMModel(0.5))\n",
        "\n",
        "        self.dt = dt\n",
        "        self.ns = int(dt/0.001)\n",
        "        self.maxsteps = 200\n",
        "        self.state = None\n",
        "        self.action = 0\n",
        "        self.reset()\n",
        "\n",
        "        self.action_space = gym.spaces.Box(low = -1, high = 1, shape = (1, ), dtype = np.float32)\n",
        "        self.observation_space = gym.spaces.Box(low = -1, high = 1, shape = (4, 128, 128), dtype = np.float32)\n",
        "\n",
        "    def step(self, action):\n",
        "        self.action = action\n",
        "        self.env.set_control(4*action)\n",
        "        for _ in range(self.ns): self.env.step()\n",
        "        reward, done = self._compute()\n",
        "        self.states[:-1] = self.states[1:]\n",
        "        self.states[-1] = self.get_state\n",
        " \n",
        "        if done: reward = -50\n",
        "        info = {'Terminal': 'Limit'} if done else {'Terminal': ''}\n",
        "        if next(self.counter) >= self.maxsteps:\n",
        "            done, info = True, {'Terminal': 'Timeout'}\n",
        "\n",
        "        return np.hstack(self.states), reward, done, info\n",
        "\n",
        "\n",
        "    def reset(self, init = None):\n",
        "\n",
        "        with self.env.reset_context():\n",
        "            if init is None:\n",
        "                init = np.random.uniform(-1, 1, 4)\n",
        "                init = init * [np.pi, 0.5, 0.5, 0.5]\n",
        "            init = [init[0]] + [init[1]/15]*15 + [init[2]] + [0]*15\n",
        "            self.env.set_state(np.array(init))\n",
        "        self.counter = count(1)\n",
        "        self.states = np.array([self.get_state]*4)\n",
        "        return np.hstack(self.states)\n",
        "    \n",
        "    @property\n",
        "    def get_state(self):\n",
        "        state = self.env.get_state()\n",
        "        x, y, z = self.env.data.geom_xpos[-1]\n",
        "        state[0] = ang_norm(state[0])\n",
        "        state = state/scale\n",
        "        f = self.get_frame()\n",
        "        f = torch.tensor(f, dtype = torch.float).unsqueeze(0).unsqueeze(0)\n",
        "        mu, logvar = vae.encoder(f)\n",
        "        mu = mu.squeeze(0).detach().cpu().numpy()\n",
        "        return mu\n",
        "    \n",
        "    @property\n",
        "    def time(self):\n",
        "        return self.env.data.time\n",
        "    \n",
        "    def get_frame(self, mode = 0):\n",
        "        if mode == 1: \n",
        "            img = self.env.render(camera_id = 'up', height = 256, width = 256)\n",
        "            return img\n",
        "        img = self.env.render(camera_id = 'up', height = 128, width = 128)\n",
        "        img = img @ [0.2989, 0.5870, 0.1140]\n",
        "        if mode == 2: return img.astype(np.uint8)\n",
        "        return np.where(img < 250, 1, 0)\n",
        "\n",
        "\n",
        "    def _compute(self):\n",
        "        x, y, z = self.env.data.geom_xpos[-1]\n",
        "        th = np.arctan2(y, x)/np.pi\n",
        "        q  = ang_norm(self.env.data.qpos[0])/np.pi\n",
        "\n",
        "        dist = np.sqrt((x - 1)**2 + y**2) \n",
        "        reward  = (1 - 4*np.clip(dist, 0, 0.25))*0.5\n",
        "        reward += (1 - np.abs(q))*0.25\n",
        "        reward += (1 - np.abs(th))*0.25\n",
        "        \n",
        "        return reward, False\n",
        "    \n",
        "    def record(self, action_fun, duration, init = None, filename = 'a.mp4', log = True):\n",
        "        frames, done, rewards = [], 0, []\n",
        "        states, actions = [], []\n",
        "        state = env.reset(init)\n",
        "        while env.time < duration and not done:\n",
        "            action = action_fun(state)\n",
        "\n",
        "            state, reward, done, _ = env.step(action)\n",
        "            rewards.append(reward)\n",
        "            actions.append(action)\n",
        "            states.append(state)\n",
        "            pixels = env.get_frame(1)\n",
        "            frames.append(pixels.copy())\n",
        "            \n",
        "        framerate = int(1/self.dt)\n",
        "        write_video(frames, framerate, filename)\n",
        "        return states, actions, rewards"
      ],
      "execution_count": null,
      "outputs": []
    },
    {
      "cell_type": "code",
      "metadata": {
        "colab": {
          "base_uri": "https://localhost:8080/"
        },
        "id": "W-44YOXu87kU",
        "outputId": "b6c928cd-e329-4bae-b66f-a70d9cc84666"
      },
      "source": [
        "env = FJMEnv()"
      ],
      "execution_count": null,
      "outputs": [
        {
          "output_type": "stream",
          "name": "stderr",
          "text": [
            "/usr/local/lib/python3.7/dist-packages/torch/nn/functional.py:718: UserWarning: Named tensors and all their associated APIs are an experimental feature and subject to change. Please do not use them for anything important until they are released as stable. (Triggered internally at  /pytorch/c10/core/TensorImpl.h:1156.)\n",
            "  return torch.max_pool2d(input, kernel_size, stride, padding, dilation, ceil_mode)\n"
          ]
        }
      ]
    },
    {
      "cell_type": "code",
      "metadata": {
        "id": "e8zEaO58Uyj_"
      },
      "source": [
        "env.reset([np.pi/8,0,0,0]);"
      ],
      "execution_count": null,
      "outputs": []
    },
    {
      "cell_type": "code",
      "metadata": {
        "colab": {
          "base_uri": "https://localhost:8080/",
          "height": 145
        },
        "id": "AARSaLoWU2j-",
        "outputId": "6590e4c4-cc48-4832-ac02-a7e6604f76c8"
      },
      "source": [
        "f = env.get_frame()\n",
        "f = (f*255).astype(np.uint8)\n",
        "PIL.Image.fromarray(f)"
      ],
      "execution_count": null,
      "outputs": [
        {
          "output_type": "execute_result",
          "data": {
            "image/png": "[encoded data removed]",
            "text/plain": [
              "<PIL.Image.Image image mode=L size=128x128 at 0x7F155E2760D0>"
            ]
          },
          "metadata": {},
          "execution_count": 27
        }
      ]
    },
    {
      "cell_type": "code",
      "metadata": {
        "colab": {
          "base_uri": "https://localhost:8080/"
        },
        "id": "0IUmtcJDU7h7",
        "outputId": "e7757865-3457-401a-d47f-7d4e668b8050"
      },
      "source": [
        "f = torch.tensor(f, dtype = torch.float).unsqueeze(0).unsqueeze(0)\n",
        "mu, logvar = vae.encoder(f)\n",
        "mu.squeeze(0).detach().cpu().numpy()"
      ],
      "execution_count": null,
      "outputs": [
        {
          "output_type": "execute_result",
          "data": {
            "text/plain": [
              "array([ 1.57539397e-02, -1.94022954e-02,  1.78047195e-02,  1.85697228e-02,\n",
              "        2.79960968e-03, -1.99069828e-03,  8.46207142e-04, -5.81806153e-03,\n",
              "        4.62025404e-03, -1.43215060e-04, -3.34060639e-02, -1.69638768e-02,\n",
              "        2.07846239e-02, -1.49519239e-02,  1.05196238e-03,  2.72260234e-02,\n",
              "        1.72745511e-02, -1.18090678e-02, -2.37623155e-02, -1.39406584e-02,\n",
              "        1.38012022e-02,  1.81556866e-03,  9.37271863e-03,  8.42060894e-03,\n",
              "        2.61819303e-01,  2.55798697e-02, -2.59553082e-03, -2.35684291e-02,\n",
              "       -2.23061964e-02, -2.09072642e-02,  1.54056400e-03, -1.71978474e-02,\n",
              "       -7.44171441e-03, -7.85362720e-03,  3.78417075e-01, -1.65642006e-04,\n",
              "        6.09418571e-01,  2.72511095e-02,  4.92267311e-03, -2.07422115e-03,\n",
              "       -3.60959233e-03, -9.53402370e-03, -2.99709104e-03,  2.05355044e-02,\n",
              "        4.19516265e-02,  2.52800733e-02,  1.23255178e-02, -4.03658450e-02,\n",
              "        3.52755487e-02,  1.28899626e-02,  1.60006881e-01,  3.27725038e-02,\n",
              "        8.13898444e-03,  5.10112382e-03, -5.35789132e-03,  2.21984386e-02,\n",
              "       -4.65001613e-02, -1.50016230e-02,  1.17333569e-02, -1.43889785e-02,\n",
              "       -3.27314436e-03,  2.47909874e-02,  2.19052508e-02,  1.61502808e-02],\n",
              "      dtype=float32)"
            ]
          },
          "metadata": {},
          "execution_count": 28
        }
      ]
    },
    {
      "cell_type": "code",
      "metadata": {
        "id": "3FYTzQVYCDqX"
      },
      "source": [
        "g = vae.decoder(mu)"
      ],
      "execution_count": null,
      "outputs": []
    },
    {
      "cell_type": "code",
      "metadata": {
        "colab": {
          "base_uri": "https://localhost:8080/",
          "height": 145
        },
        "id": "zOeuIapdVD7C",
        "outputId": "1197ba5f-5b15-4751-a181-3959c97eeea9"
      },
      "source": [
        "g = g.squeeze(0).squeeze(0).detach().cpu().numpy()\n",
        "h = np.where(g <= 0.3, 0, 1)*255\n",
        "h = h.astype(np.uint8)\n",
        "PIL.Image.fromarray(h)"
      ],
      "execution_count": null,
      "outputs": [
        {
          "output_type": "execute_result",
          "data": {
            "image/png": "[encoded data removed]",
            "text/plain": [
              "<PIL.Image.Image image mode=L size=128x128 at 0x7F155E26BA50>"
            ]
          },
          "metadata": {},
          "execution_count": 30
        }
      ]
    },
    {
      "cell_type": "markdown",
      "metadata": {
        "id": "u441CgBYIQG7"
      },
      "source": [
        "# Training Utils"
      ]
    },
    {
      "cell_type": "code",
      "metadata": {
        "id": "kfK7cq5VIT1K"
      },
      "source": [
        "def optimize(model, optimizer, loss, clip_value = 1):\n",
        "    optimizer.zero_grad()\n",
        "    loss.backward()\n",
        "    clip_grad_value_(model.parameters(), clip_value)\n",
        "    optimizer.step()"
      ],
      "execution_count": null,
      "outputs": []
    },
    {
      "cell_type": "code",
      "metadata": {
        "id": "IPI4llqUIXX3"
      },
      "source": [
        "def soft_update(target, source, tau):\n",
        "\tfor a, b in zip(target.parameters(), source.parameters()):\n",
        "\t\ta.data.copy_(a.data * (1.0 - tau) + b.data * tau)"
      ],
      "execution_count": null,
      "outputs": []
    },
    {
      "cell_type": "markdown",
      "metadata": {
        "id": "misgcpa0IsX7"
      },
      "source": [
        "# Util to Plot Reward"
      ]
    },
    {
      "cell_type": "code",
      "metadata": {
        "id": "9AAh0Sd9IvOC"
      },
      "source": [
        "from IPython import display as ipythondisplay\n",
        "\n",
        "tic = time.time()\n",
        "def plot(reward):\n",
        "    global tic\n",
        "    if time.time() - tic > 2:\n",
        "\n",
        "      plt.cla()\n",
        "      plt.grid(True)\n",
        "      fig = plt.gcf()\n",
        "      fig.set_size_inches(9,6)\n",
        "      plt.plot(reward)\n",
        "      plt.xlabel('episodes')\n",
        "      plt.ylabel('rewards')\n",
        "\n",
        "      ipythondisplay.clear_output(wait=True)\n",
        "      ipythondisplay.display(plt.gcf())\n",
        "      tic = time.time()"
      ],
      "execution_count": null,
      "outputs": []
    },
    {
      "cell_type": "markdown",
      "metadata": {
        "id": "iMV5rPsoI3Bk"
      },
      "source": [
        "# **Replay Memory**"
      ]
    },
    {
      "cell_type": "code",
      "metadata": {
        "id": "Yd9FU-kD31uF"
      },
      "source": [
        "s = 64*4\n",
        "a = 1"
      ],
      "execution_count": null,
      "outputs": []
    },
    {
      "cell_type": "code",
      "metadata": {
        "id": "csbYwk0SI7rJ"
      },
      "source": [
        "from recordclass import recordclass\n",
        "\n",
        "Transitions = recordclass('Transitions', ('states', 'actions', 'next_states', 'rewards', 'dones'))\n",
        "\n",
        "class ReplayMemory():\n",
        "    def __init__(self, capacity = 1000, state_dim = s, action_dim = a):\n",
        "      \n",
        "        self.length = 0\n",
        "        self.capacity = capacity\n",
        "        self.states = np.zeros((capacity, state_dim))\n",
        "        self.actions = np.zeros((capacity, action_dim))\n",
        "        self.next_states = np.zeros((capacity, state_dim))\n",
        "        self.rewards = np.zeros((capacity, 1))\n",
        "        self.dones = np.zeros((capacity, 1))\n",
        "      \n",
        "    def add_transition(self, *args):\n",
        "        index = self.length % self.capacity\n",
        "\n",
        "        self.states[index] = args[0]\n",
        "        self.actions[index] = args[1]\n",
        "        self.next_states[index] = args[2]\n",
        "        self.rewards[index] = args[3]\n",
        "        self.dones[index] = args[4]\n",
        "\n",
        "        self.length += 1\n",
        "\n",
        "    def sample(self, batch_size):\n",
        "\n",
        "        maxind = min(self.length, self.capacity)\n",
        "        inds = np.random.choice(maxind, batch_size)\n",
        "\n",
        "        batch = Transitions(self.states[inds],\n",
        "                            self.actions[inds],\n",
        "                            self.next_states[inds],\n",
        "                            self.rewards[inds],\n",
        "                            self.dones[inds])\n",
        "        \n",
        "        for i in range(5):\n",
        "          batch[i] = torch.tensor(batch[i], dtype=torch.float)\n",
        "\n",
        "        return batch\n",
        "    \n",
        "    def clear(self): \n",
        "      self.length = 0\n",
        "        \n",
        "    def __len__(self):\n",
        "      return min(self.length, self.capacity)"
      ],
      "execution_count": null,
      "outputs": []
    },
    {
      "cell_type": "markdown",
      "metadata": {
        "id": "TY1RgZD1JDI2"
      },
      "source": [
        "# **Q-value Network**"
      ]
    },
    {
      "cell_type": "code",
      "metadata": {
        "id": "tyOnoa0eJFqx"
      },
      "source": [
        "class DQN(nn.Module):\n",
        "\n",
        "    def __init__(self, state_dim = s, action_dim = a):\n",
        "        super(DQN, self).__init__()\n",
        "        self.l11 = nn.Linear(state_dim, 256)\n",
        "        self.l12 = nn.Linear(action_dim, 32)\n",
        "\n",
        "        self.l2 = nn.Linear(256 + 32, 290)\n",
        "        self.l3 = nn.Linear(290, 290)\n",
        "\n",
        "        self.last = nn.Linear(290, 1)\n",
        "        self.last.weight.data.uniform_(-0.05,0.05)\n",
        "        self.last.bias.data.fill_(0.01)\n",
        "\n",
        "    def forward(self, states, actions):\n",
        "        x = torch.cat((self.l11(states), self.l12(actions)),1)\n",
        "        x = F.silu(x)\n",
        "        x = F.silu(self.l2(x))\n",
        "        x = F.silu(self.l3(x))\n",
        "        x = self.last(x)\n",
        "        return x"
      ],
      "execution_count": null,
      "outputs": []
    },
    {
      "cell_type": "markdown",
      "metadata": {
        "id": "-1Q4ry9NJReY"
      },
      "source": [
        "# **Double Q-Network Critic**"
      ]
    },
    {
      "cell_type": "code",
      "metadata": {
        "id": "hs7le9zNJX7D"
      },
      "source": [
        "class Critic(nn.Module):\n",
        "  def __init__(self, state_dim = s, action_dim = a):\n",
        "    super(Critic, self).__init__()\n",
        "    self.q1 = DQN(state_dim, action_dim)\n",
        "    self.q2 = DQN(state_dim, action_dim)\n",
        "  \n",
        "  def predict(self, states, actions):\n",
        "    q1 = self.q1(states, actions)\n",
        "    q2 = self.q2(states, actions)\n",
        "    return q1, q2\n",
        "  \n",
        "  def forward(self, states, actions):\n",
        "    q1, q2 = self.predict(states, actions)\n",
        "    return torch.min(q1, q2)\n",
        "  \n",
        "  def calc_loss(self, states, actions, expected_critic_values):\n",
        "    q1, q2 = self.predict(states, actions)\n",
        "    loss1 = F.smooth_l1_loss(expected_critic_values, q1)\n",
        "    loss2 = F.smooth_l1_loss(expected_critic_values, q2)\n",
        "    return loss1 + loss2\n",
        "  \n",
        "  def requires_grad(self, boolean = True):\n",
        "    for param in self.parameters():\n",
        "        param.requires_grad = boolean"
      ],
      "execution_count": null,
      "outputs": []
    },
    {
      "cell_type": "code",
      "metadata": {
        "id": "lmudCBrB4i_3"
      },
      "source": [
        "def requires_grad(model, boolean = True):\n",
        "  for param in model.parameters():\n",
        "      param.requires_grad = boolean"
      ],
      "execution_count": null,
      "outputs": []
    },
    {
      "cell_type": "markdown",
      "metadata": {
        "id": "AwN4ct3sJp46"
      },
      "source": [
        "# **Policy Network**"
      ]
    },
    {
      "cell_type": "code",
      "metadata": {
        "id": "EAgWWtb9Jtm7"
      },
      "source": [
        "class Policy(nn.Module):\n",
        "\n",
        "    def __init__(self, state_dim = s, action_dim = a):\n",
        "        super(Policy, self).__init__()\n",
        "\n",
        "        self.l1 = nn.Linear(state_dim, 256)\n",
        "        self.l2 = nn.Linear(256, 256)\n",
        "        self.l3 = nn.Linear(256, 256)\n",
        "\n",
        "        self.mean_layer = nn.Linear(256, action_dim)\n",
        "        self.mean_layer.weight.data.uniform_(-0.5, 0.5)\n",
        "        self.mean_layer.bias.data.fill_(0.5)\n",
        "\n",
        "        self.log_std = nn.Linear(256, action_dim)\n",
        "        self.log_std.weight.data.uniform_(-0.5,0.5)\n",
        "        self.log_std.bias.data.fill_(0.1)\n",
        "\n",
        "\n",
        "    def forward(self, states):\n",
        "\n",
        "        x = F.silu(self.l1(states))\n",
        "        x = F.silu(self.l2(x))\n",
        "        x = F.silu(self.l3(x))\n",
        "\n",
        "        mean = self.mean_layer(x)\n",
        "        std = torch.exp(self.log_std(x).clamp(-20, 2))\n",
        "\n",
        "        return Normal(mean, std)\n",
        "\n",
        "    def sample(self, states):\n",
        "\n",
        "        dist = self.forward(states)\n",
        "        samples = dist.rsample()\n",
        "        actions = torch.tanh(samples)\n",
        "        log_probs = dist.log_prob(samples) - torch.log(1 - actions**2 + 1e-8)\n",
        "        \n",
        "        return actions, log_probs.mean(axis = 1)\n",
        "\n",
        "    def choose_action(self, state, training = True):\n",
        "        \n",
        "        with torch.no_grad(): \n",
        "          state = torch.tensor(state, dtype = torch.float).unsqueeze(0)\n",
        "          dist = self.forward(state)\n",
        "          sample = dist.sample() if training else dist.mean\n",
        "          action = torch.tanh(sample).squeeze(0)\n",
        "\n",
        "        return np.round(action.cpu().numpy(), 5)"
      ],
      "execution_count": null,
      "outputs": []
    },
    {
      "cell_type": "markdown",
      "metadata": {
        "id": "lIMY5aR1KBEL"
      },
      "source": [
        "# **Initialize**"
      ]
    },
    {
      "cell_type": "code",
      "metadata": {
        "colab": {
          "base_uri": "https://localhost:8080/"
        },
        "id": "lBjcbNTFKEPW",
        "outputId": "89445dba-968f-48cb-83a5-f7ae65b8158a"
      },
      "source": [
        "gamma = 0.99   # discount factor\n",
        "alpha = 0.014    # entropy reward coeff\n",
        "\n",
        "actor = Policy().to(device)\n",
        "critic = Critic().to(device)\n",
        "\n",
        "target_critic = Critic().to(device)\n",
        "target_critic.load_state_dict(critic.state_dict())"
      ],
      "execution_count": null,
      "outputs": [
        {
          "output_type": "execute_result",
          "data": {
            "text/plain": [
              "<All keys matched successfully>"
            ]
          },
          "metadata": {},
          "execution_count": 40
        }
      ]
    },
    {
      "cell_type": "code",
      "metadata": {
        "id": "5dHGLEZmKJm8"
      },
      "source": [
        "actor_optimizer  = optim.Adam(actor.parameters(), 1e-3)\n",
        "critic_optimizer = optim.Adam(critic.parameters(), 1e-3)"
      ],
      "execution_count": null,
      "outputs": []
    },
    {
      "cell_type": "code",
      "metadata": {
        "id": "Zce1ivF2KKei"
      },
      "source": [
        "memory = ReplayMemory(300000)"
      ],
      "execution_count": null,
      "outputs": []
    },
    {
      "cell_type": "code",
      "metadata": {
        "id": "GxElGlNuKm4I"
      },
      "source": [
        "def save(name):\n",
        "  torch.save({\n",
        "            'actor': actor.state_dict(),\n",
        "            'critic': target_critic.state_dict(),\n",
        "            'actor_optimizer': actor_optimizer.state_dict(),\n",
        "            'critic_optimizer': critic_optimizer.state_dict(),\n",
        "            }, name)"
      ],
      "execution_count": null,
      "outputs": []
    },
    {
      "cell_type": "code",
      "metadata": {
        "id": "S1Mje7QZY4F8"
      },
      "source": [
        "def load(name, device):\n",
        "  state = torch.load(name, map_location = device)\n",
        "\n",
        "  actor.load_state_dict(state['actor'])\n",
        "  critic.load_state_dict(state['critic'])\n",
        "  actor_optimizer.load_state_dict(state['actor_optimizer'])\n",
        "  critic_optimizer.load_state_dict(state['critic_optimizer'])\n",
        "\n",
        "  target_critic.load_state_dict(critic.state_dict())"
      ],
      "execution_count": null,
      "outputs": []
    },
    {
      "cell_type": "code",
      "metadata": {
        "id": "4gYMN8uVNIvA"
      },
      "source": [
        "save('f2')"
      ],
      "execution_count": null,
      "outputs": []
    },
    {
      "cell_type": "code",
      "metadata": {
        "id": "sGs3nX1TNMXx"
      },
      "source": [
        "load('f2', device)"
      ],
      "execution_count": null,
      "outputs": []
    },
    {
      "cell_type": "code",
      "metadata": {
        "id": "S00nevZrNZCx"
      },
      "source": [
        "alpha = 0.012    # entropy reward coeff"
      ],
      "execution_count": null,
      "outputs": []
    },
    {
      "cell_type": "markdown",
      "metadata": {
        "id": "EyyddKl6Kpcv"
      },
      "source": [
        "# **Single training step**"
      ]
    },
    {
      "cell_type": "code",
      "metadata": {
        "id": "3ibPDGzCKs_H"
      },
      "source": [
        "def train_step(batch_size = 64):\n",
        "\n",
        "    batch = memory.sample(batch_size)\n",
        "\n",
        "  #---------------------critic training----------------------------------\n",
        "    with torch.no_grad(): \n",
        "      next_actions, log_probs = actor.sample(batch.next_states)\n",
        "      next_critic_values = target_critic(batch.next_states, next_actions)\n",
        "      expected_critic_values = batch.rewards + (1 - batch.dones)*gamma*(next_critic_values - alpha*log_probs)\n",
        "\n",
        "    critic_loss = critic.calc_loss(batch.states, batch.actions, expected_critic_values)\n",
        "\n",
        "    optimize(critic, critic_optimizer, critic_loss)\n",
        "  #---------------------------------------------------------------------\n",
        "\n",
        "\n",
        "  #---------------------actor training----------------------------------\n",
        "    critic.requires_grad(False)\n",
        "\n",
        "    actions, log_probs = actor.sample(batch.states)\n",
        "    critic_value = critic(batch.states, actions)\n",
        "    actor_loss = -torch.mean(critic_value - alpha*log_probs)\n",
        "\n",
        "    optimize(actor, actor_optimizer, actor_loss)\n",
        "\n",
        "    critic.requires_grad(True)\n",
        "  #-----------------------------------------------------------------------\n",
        "\n",
        "  #----------------soft update target critic--------------------------------\n",
        "    soft_update(target_critic, critic, 0.005)\n",
        "  #-------------------------------------------------------------------------"
      ],
      "execution_count": null,
      "outputs": []
    },
    {
      "cell_type": "code",
      "metadata": {
        "id": "wSCy_RXaK3NF"
      },
      "source": [
        "reward_list = []\n",
        "avg_rewards = []"
      ],
      "execution_count": null,
      "outputs": []
    },
    {
      "cell_type": "markdown",
      "metadata": {
        "id": "H7P1gBitK4fH"
      },
      "source": [
        "# **Training**"
      ]
    },
    {
      "cell_type": "code",
      "metadata": {
        "id": "Kqmt4nPVvceK"
      },
      "source": [
        "env = FJMEnv()"
      ],
      "execution_count": null,
      "outputs": []
    },
    {
      "cell_type": "code",
      "metadata": {
        "colab": {
          "base_uri": "https://localhost:8080/",
          "height": 776
        },
        "id": "DNjEaJ9JK7ld",
        "outputId": "c0b7ee56-a344-4c09-a39f-cefbac6ff1ef"
      },
      "source": [
        "for i_episode in tqdm(range(5000)):\n",
        "\n",
        "  state = env.reset()\n",
        "  total_reward = 0\n",
        "  done = 0\n",
        "  steps = 0\n",
        "\n",
        "  while not done:\n",
        "\n",
        "    action = actor.choose_action(state)\n",
        "    next_state, reward, done, info = env.step(action)\n",
        "    memory.add_transition(state, action, next_state, reward, done)\n",
        "\n",
        "    total_reward += reward\n",
        "    state = next_state\n",
        "    steps += 1\n",
        "\n",
        "    train_step()\n",
        "  \n",
        "  # if len(memory) > 1000:\n",
        "  #   for _ in range(100):\n",
        "  #     train_step()\n",
        "\n",
        "  reward_list.append(total_reward)                \n",
        "  avg_rewards.append(np.mean(reward_list[-50:])) \n",
        "\n",
        "  plot(avg_rewards)"
      ],
      "execution_count": null,
      "outputs": [
        {
          "output_type": "display_data",
          "data": {
            "image/png": "[encoded data removed]",
            "text/plain": [
              "<Figure size 648x432 with 1 Axes>"
            ]
          },
          "metadata": {}
        },
        {
          "output_type": "stream",
          "name": "stderr",
          "text": [
            "100%|██████████| 10/10 [00:36<00:00,  3.62s/it]\n"
          ]
        },
        {
          "output_type": "display_data",
          "data": {
            "image/png": "[encoded data removed]",
            "text/plain": [
              "<Figure size 648x432 with 1 Axes>"
            ]
          },
          "metadata": {
            "needs_background": "light"
          }
        }
      ]
    },
    {
      "cell_type": "code",
      "metadata": {
        "id": "1BpJ9xaRxcIb",
        "colab": {
          "base_uri": "https://localhost:8080/",
          "height": 261
        },
        "outputId": "62256ae5-1e3e-4d1f-c272-c417349cfc7f"
      },
      "source": [
        "env = FJMEnv()\n",
        "\n",
        "a  = 1\n",
        "def action_fun(state):\n",
        "    global a\n",
        "    a = actor.choose_action(state, False)\n",
        "    return a\n",
        "\n",
        "states, actions, rewards = env.record(action_fun, 4, init = [np.pi,0,0,0])\n",
        "display_video()"
      ],
      "execution_count": null,
      "outputs": [
        {
          "output_type": "execute_result",
          "data": {
            "text/html": [
              "<video  width=\"240\" height=\"240\" controls alt=\"test\" src=\"data:video/mp4;base64,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\">"
            ],
            "text/plain": [
              "<IPython.core.display.HTML object>"
            ]
          },
          "metadata": {},
          "execution_count": 59
        }
      ]
    },
    {
      "cell_type": "code",
      "metadata": {
        "colab": {
          "base_uri": "https://localhost:8080/",
          "height": 282
        },
        "id": "-2c74QRXyZDp",
        "outputId": "95d5775b-ef6c-438c-a416-ce2a1ffbc3e5"
      },
      "source": [
        "plt.plot(actions)"
      ],
      "execution_count": null,
      "outputs": [
        {
          "output_type": "execute_result",
          "data": {
            "text/plain": [
              "[<matplotlib.lines.Line2D at 0x7f155e135650>]"
            ]
          },
          "metadata": {},
          "execution_count": 58
        },
        {
          "output_type": "display_data",
          "data": {
            "image/png": "[encoded data removed]",
            "text/plain": [
              "<Figure size 432x288 with 1 Axes>"
            ]
          },
          "metadata": {
            "needs_background": "light"
          }
        }
      ]
    },
    {
      "cell_type": "code",
      "metadata": {
        "id": "4hmbR7sngLfW",
        "colab": {
          "base_uri": "https://localhost:8080/",
          "height": 17
        },
        "outputId": "64a73e73-c6ca-4f2e-d2a6-5bca18488bc9"
      },
      "source": [
        "files.download('a.mp4')"
      ],
      "execution_count": null,
      "outputs": [
        {
          "output_type": "display_data",
          "data": {
            "application/javascript": [
              "\n",
              "    async function download(id, filename, size) {\n",
              "      if (!google.colab.kernel.accessAllowed) {\n",
              "        return;\n",
              "      }\n",
              "      const div = document.createElement('div');\n",
              "      const label = document.createElement('label');\n",
              "      label.textContent = `Downloading \"${filename}\": `;\n",
              "      div.appendChild(label);\n",
              "      const progress = document.createElement('progress');\n",
              "      progress.max = size;\n",
              "      div.appendChild(progress);\n",
              "      document.body.appendChild(div);\n",
              "\n",
              "      const buffers = [];\n",
              "      let downloaded = 0;\n",
              "\n",
              "      const channel = await google.colab.kernel.comms.open(id);\n",
              "      // Send a message to notify the kernel that we're ready.\n",
              "      channel.send({})\n",
              "\n",
              "      for await (const message of channel.messages) {\n",
              "        // Send a message to notify the kernel that we're ready.\n",
              "        channel.send({})\n",
              "        if (message.buffers) {\n",
              "          for (const buffer of message.buffers) {\n",
              "            buffers.push(buffer);\n",
              "            downloaded += buffer.byteLength;\n",
              "            progress.value = downloaded;\n",
              "          }\n",
              "        }\n",
              "      }\n",
              "      const blob = new Blob(buffers, {type: 'application/binary'});\n",
              "      const a = document.createElement('a');\n",
              "      a.href = window.URL.createObjectURL(blob);\n",
              "      a.download = filename;\n",
              "      div.appendChild(a);\n",
              "      a.click();\n",
              "      div.remove();\n",
              "    }\n",
              "  "
            ],
            "text/plain": [
              "<IPython.core.display.Javascript object>"
            ]
          },
          "metadata": {}
        },
        {
          "output_type": "display_data",
          "data": {
            "application/javascript": [
              "download(\"download_25f210b9-ee9d-4701-a3f9-ab86ca50dc24\", \"a.mp4\", 28290)"
            ],
            "text/plain": [
              "<IPython.core.display.Javascript object>"
            ]
          },
          "metadata": {}
        }
      ]
    }
  ]
}